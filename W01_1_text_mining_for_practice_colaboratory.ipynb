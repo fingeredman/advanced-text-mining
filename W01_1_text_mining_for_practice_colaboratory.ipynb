{
  "nbformat": 4,
  "nbformat_minor": 0,
  "metadata": {
    "colab": {
      "name": "W01-1_text-mining-for-practice_colaboratory.ipynb",
      "provenance": [],
      "collapsed_sections": [],
      "include_colab_link": true
    },
    "kernelspec": {
      "display_name": "Python 3",
      "language": "python",
      "name": "python3"
    },
    "language_info": {
      "codemirror_mode": {
        "name": "ipython",
        "version": 3
      },
      "file_extension": ".py",
      "mimetype": "text/x-python",
      "name": "python",
      "nbconvert_exporter": "python",
      "pygments_lexer": "ipython3",
      "version": "3.8.3"
    }
  },
  "cells": [
    {
      "cell_type": "markdown",
      "metadata": {
        "id": "view-in-github",
        "colab_type": "text"
      },
      "source": [
        "<a href=\"https://colab.research.google.com/github/fingeredman/advanced-text-mining/blob/master/W01_1_text_mining_for_practice_colaboratory.ipynb\" target=\"_parent\"><img src=\"https://colab.research.google.com/assets/colab-badge.svg\" alt=\"Open In Colab\"/></a>"
      ]
    },
    {
      "cell_type": "markdown",
      "metadata": {
        "id": "4c9gPfDlDxXW"
      },
      "source": [
        "# TEXT MINING for PRACTICE\n",
        "- 본 자료는 텍스트 마이닝을 활용한 연구 및 강의를 위한 목적으로 제작되었습니다.\n",
        "- 본 자료를 강의 목적으로 활용하고자 하시는 경우 꼭 아래 메일주소로 연락주세요.\n",
        "- 본 자료에 대한 허가되지 않은 배포를 금지합니다.\n",
        "- 강의, 저작권, 출판, 특허, 공동저자에 관련해서는 문의 바랍니다.\n",
        "- **Contact : ADMIN(admin@teanaps.com)**\n",
        "\n",
        "---"
      ]
    },
    {
      "cell_type": "markdown",
      "metadata": {
        "id": "liJEK0lZDxXZ"
      },
      "source": [
        "## WEEK 01-1. 실습환경: Python 3.7 & Jupyter Notebook & Google Colaboratory\n",
        "- Google Colaboratory를 활용한 Python 프로그래밍 환경에 대해 다룹니다.\n",
        "\n",
        "---"
      ]
    },
    {
      "cell_type": "markdown",
      "metadata": {
        "id": "rhdWH1xGFjRL"
      },
      "source": [
        "### 1. 셀을 추가/삭제/이동할 수 있습니다.\n",
        "\n",
        "---"
      ]
    },
    {
      "cell_type": "code",
      "metadata": {
        "id": "X1gtMJsRF1cP"
      },
      "source": [
        ""
      ],
      "execution_count": null,
      "outputs": []
    },
    {
      "cell_type": "code",
      "metadata": {
        "id": "h1xG1EPZF0ox"
      },
      "source": [
        ""
      ],
      "execution_count": null,
      "outputs": []
    },
    {
      "cell_type": "markdown",
      "metadata": {
        "id": "9jl6agpvF0dj"
      },
      "source": [
        ""
      ]
    },
    {
      "cell_type": "markdown",
      "metadata": {
        "id": "edfWAbDjF3FH"
      },
      "source": [
        ""
      ]
    },
    {
      "cell_type": "markdown",
      "metadata": {
        "id": "QRZPpNTxEX8T"
      },
      "source": [
        "### 2. 셀에 Markdowon 문법을 활용하여 문서를 작성합니다.\n",
        "\n",
        "---"
      ]
    },
    {
      "cell_type": "code",
      "metadata": {
        "id": "JcQ4K3fqF7D3"
      },
      "source": [
        "# 간단한 메모는 주석으로 입력할 수 있습니다."
      ],
      "execution_count": null,
      "outputs": []
    },
    {
      "cell_type": "markdown",
      "metadata": {
        "id": "t8nlQaP6Er9Z"
      },
      "source": [
        "# 제목을 작성합니다.\n",
        "## 샵(#)이 여러개일수록 제목이 작게 표현됩니다.\n",
        "### 제목2\n",
        "#### 제목3\n",
        "\n",
        "1. 순서가 있는 항목을 작성합니다.\n",
        "1. 하나\n",
        "1. 둘\n",
        "1. 셋\n",
        "\n",
        "- 순서가 없는 항목을 작성합니다.\n",
        "- 첫번째\n",
        "- 두번재\n",
        "- 세번째\n",
        "\n",
        "> 블럭 내에 내용을 작성합니다."
      ]
    },
    {
      "cell_type": "markdown",
      "metadata": {
        "id": "8auu2eHRD8dU"
      },
      "source": [
        "### 3. 셀에 Python 코드를 입력하고 실행합니다.\n",
        "\n",
        "---"
      ]
    },
    {
      "cell_type": "code",
      "metadata": {
        "id": "sWZkKm9TDxXa",
        "outputId": "a2e18398-6adb-4eab-a9f5-b6d9bc4066cc"
      },
      "source": [
        "print(\"hello world!\")"
      ],
      "execution_count": null,
      "outputs": [
        {
          "name": "stdout",
          "output_type": "stream",
          "text": [
            "hello world!\n"
          ]
        }
      ]
    },
    {
      "cell_type": "markdown",
      "metadata": {
        "id": "0ot9OneHETTC"
      },
      "source": [
        "### 4. 자신의 Google Drive에 새로운 파일을 생성하거나 저장된 파일을 불러옵니다.\n",
        "\n",
        "---"
      ]
    },
    {
      "cell_type": "code",
      "metadata": {
        "id": "i3WQfMTBGbJX"
      },
      "source": [
        "from google.colab import drive\n",
        "drive.mount('/content/drive')"
      ],
      "execution_count": null,
      "outputs": []
    },
    {
      "cell_type": "code",
      "metadata": {
        "id": "KlDltG5wGpxN"
      },
      "source": [
        "# 새로운 파일 생성\n",
        "f = open(\"sample_txt.txt\", \"w\", encoding=\"utf-8\")\n",
        "\n",
        "f.write(\"텍스트 마이닝을 위한 Python 프로그래밍\\n\")\n",
        "f.write(\"재미있는 텍스트 마이닝\\n\")\n",
        "f.write(\"텍스트 마이닝을 위한 Python 프로그래밍\\n\")\n",
        "\n",
        "f.close()"
      ],
      "execution_count": null,
      "outputs": []
    },
    {
      "cell_type": "code",
      "metadata": {
        "id": "oKONhiPoGpm_",
        "outputId": "993369b9-7b73-4a93-8007-9246ab0ee7b2"
      },
      "source": [
        "# 저장된 파일 불러오기\n",
        "f = open(\"sample_txt.txt\", encoding=\"utf-8\")\n",
        "\n",
        "for line in f:\n",
        "    print(line)\n",
        "\n",
        "f.close()"
      ],
      "execution_count": null,
      "outputs": [
        {
          "name": "stdout",
          "output_type": "stream",
          "text": [
            "텍스트 마이닝을 위한 Python 프로그래밍\n",
            "\n",
            "재미있는 텍스트 마이닝\n",
            "\n",
            "텍스트 마이닝을 위한 Python 프로그래밍\n",
            "\n"
          ]
        }
      ]
    },
    {
      "cell_type": "code",
      "metadata": {
        "id": "M1pTCUe-6TqP"
      },
      "source": [
        ""
      ],
      "execution_count": null,
      "outputs": []
    }
  ]
}