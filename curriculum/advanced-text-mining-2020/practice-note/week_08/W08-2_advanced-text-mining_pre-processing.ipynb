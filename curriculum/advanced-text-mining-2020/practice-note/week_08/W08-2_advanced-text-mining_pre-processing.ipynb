{
 "cells": [
  {
   "cell_type": "markdown",
   "metadata": {},
   "source": [
    "# ADVANCED TEXT MINING\n",
    "- 본 자료는 텍스트 마이닝을 활용한 연구 및 강의를 위한 목적으로 제작되었습니다.\n",
    "- 본 자료를 강의 목적으로 활용하고자 하시는 경우 꼭 아래 메일주소로 연락주세요.\n",
    "- 본 자료에 대한 허가되지 않은 배포를 금지합니다.\n",
    "- 강의, 저작권, 출판, 특허, 공동저자에 관련해서는 문의 바랍니다.\n",
    "- **Contact : ADMIN(admin@teanaps.com)**\n",
    "\n",
    "---"
   ]
  },
  {
   "cell_type": "code",
   "execution_count": 1,
   "metadata": {},
   "outputs": [],
   "source": [
    "# 텍스트 분석을 위한 TEANAPS 패키지를 설치합니다.\n",
    "# TEANAPS는 Google Colaboratory/Linux 환경에 최적화되어 있습니다.\n",
    "# Windows 환경에서 일부 기능에 제한이 있을 수 있습니다."
   ]
  },
  {
   "cell_type": "code",
   "execution_count": 2,
   "metadata": {},
   "outputs": [],
   "source": [
    "# TEANAPS (https://github.com/fingeredman/teanaps)\n",
    "#!git clone https://github.com/fingeredman/teanaps.git"
   ]
  },
  {
   "cell_type": "code",
   "execution_count": 3,
   "metadata": {},
   "outputs": [],
   "source": [
    "#!ls"
   ]
  },
  {
   "cell_type": "code",
   "execution_count": 4,
   "metadata": {},
   "outputs": [],
   "source": [
    "#!python \"teanaps/teanaps_setup.py\""
   ]
  },
  {
   "cell_type": "markdown",
   "metadata": {},
   "source": [
    "## WEEK 08-2. 텍스트 데이터 전처리하기: TEANAPS\n",
    "- Python으로 TEANAPS 패키지로 텍스트 전처리를 수행하는 방법에 대해 다룹니다.\n",
    "\n",
    "---"
   ]
  },
  {
   "cell_type": "markdown",
   "metadata": {},
   "source": [
    "### 1. 복합명사 처리하기\n",
    "\n",
    "---"
   ]
  },
  {
   "cell_type": "code",
   "execution_count": 5,
   "metadata": {},
   "outputs": [],
   "source": [
    "sentence = \"손흥민은 2015년 레버쿠젠에서 토트넘 핫스퍼로 이적했다.\""
   ]
  },
  {
   "cell_type": "code",
   "execution_count": 6,
   "metadata": {},
   "outputs": [
    {
     "data": {
      "text/html": [
       "<script>requirejs.config({paths: { 'plotly': ['https://cdn.plot.ly/plotly-latest.min']},});if(!window.Plotly) {{require(['plotly'],function(plotly) {window.Plotly=plotly;});}}</script>"
      ],
      "text/vnd.plotly.v1+html": [
       "<script>requirejs.config({paths: { 'plotly': ['https://cdn.plot.ly/plotly-latest.min']},});if(!window.Plotly) {{require(['plotly'],function(plotly) {window.Plotly=plotly;});}}</script>"
      ]
     },
     "metadata": {},
     "output_type": "display_data"
    },
    {
     "data": {
      "text/html": [
       "<script>requirejs.config({paths: { 'plotly': ['https://cdn.plot.ly/plotly-latest.min']},});if(!window.Plotly) {{require(['plotly'],function(plotly) {window.Plotly=plotly;});}}</script>"
      ],
      "text/vnd.plotly.v1+html": [
       "<script>requirejs.config({paths: { 'plotly': ['https://cdn.plot.ly/plotly-latest.min']},});if(!window.Plotly) {{require(['plotly'],function(plotly) {window.Plotly=plotly;});}}</script>"
      ]
     },
     "metadata": {},
     "output_type": "display_data"
    },
    {
     "name": "stdout",
     "output_type": "stream",
     "text": [
      "[('손흥민', 'NNP', (0, 3)), ('은', 'JX', (3, 4)), ('2015', 'SN', (5, 9)), ('년', 'NNB', (9, 10)), ('레버쿠젠', 'NNP', (11, 15)), ('에서', 'JKB', (15, 17)), ('토트넘', 'NNP', (18, 21)), ('핫', 'NNG', (22, 23)), ('스퍼', 'NNG', (23, 25)), ('로', 'JKB', (25, 26)), ('이적', 'NNG', (27, 29)), ('했', 'XSV+EP', (29, 30)), ('다', 'EF', (30, 31)), ('.', 'SW', (31, 32))]\n"
     ]
    }
   ],
   "source": [
    "from teanaps.nlp import MorphologicalAnalyzer\n",
    "\n",
    "ma = MorphologicalAnalyzer()\n",
    "ma.set_tagger(\"mecab\")\n",
    "\n",
    "pos_result = ma.parse(sentence)\n",
    "print(pos_result)"
   ]
  },
  {
   "cell_type": "code",
   "execution_count": 7,
   "metadata": {},
   "outputs": [],
   "source": [
    "from teanaps.nlp import NamedEntityRecognizer\n",
    "\n",
    "#ner = NamedEntityRecognizer(model_path=\"/model\")\n",
    "ner = NamedEntityRecognizer()"
   ]
  },
  {
   "cell_type": "code",
   "execution_count": 8,
   "metadata": {},
   "outputs": [
    {
     "name": "stdout",
     "output_type": "stream",
     "text": [
      "[('손흥민', 'PS', (0, 3)), ('2015년', 'DT', (5, 10)), ('레버쿠젠', 'OG', (11, 15)), ('토트넘 핫스퍼', 'OG', (18, 25))]\n"
     ]
    }
   ],
   "source": [
    "ner_result = ner.parse(sentence)\n",
    "print(ner_result)"
   ]
  },
  {
   "cell_type": "code",
   "execution_count": 9,
   "metadata": {},
   "outputs": [
    {
     "name": "stdout",
     "output_type": "stream",
     "text": [
      "<손흥민:PS>은 <2015년:DT> <레버쿠젠:OG>에서 <토트넘 핫스퍼:OG>로 이적했다.\n"
     ]
    }
   ],
   "source": [
    "print(ner.parse_sentence(sentence))"
   ]
  },
  {
   "cell_type": "code",
   "execution_count": 10,
   "metadata": {},
   "outputs": [
    {
     "name": "stdout",
     "output_type": "stream",
     "text": [
      "[('손흥민', 'NNP', 'PS', (0, 3)), ('은', 'JX', 'UN', (3, 4)), ('2015년', 'NNP', 'DT', (5, 10)), ('레버쿠젠', 'NNP', 'OG', (11, 15)), ('에서', 'JKB', 'UN', (15, 17)), ('토트넘 핫스퍼', 'NNP', 'OG', (18, 25)), ('로', 'JKB', 'UN', (25, 26)), ('이적', 'NNG', 'UN', (27, 29)), ('했', 'XSV+EP', 'UN', (29, 30)), ('다', 'EF', 'UN', (30, 31)), ('.', 'SW', 'UN', (31, 32))]\n"
     ]
    }
   ],
   "source": [
    "from teanaps.nlp import SyntaxAnalyzer\n",
    "\n",
    "sa = SyntaxAnalyzer()\n",
    "\n",
    "sa_result = sa.parse(pos_result, ner_result)\n",
    "print(sa_result)"
   ]
  },
  {
   "cell_type": "code",
   "execution_count": 11,
   "metadata": {},
   "outputs": [
    {
     "name": "stdout",
     "output_type": "stream",
     "text": [
      "[[[('손흥민', 'NNP', 'PS', (0, 3))], [('은', 'JX', 'UN', (3, 4))]], [[('2015년', 'NNP', 'DT', (5, 10)), ('레버쿠젠', 'NNP', 'OG', (11, 15))], [('에서', 'JKB', 'UN', (15, 17))]], [[('토트넘 핫스퍼', 'NNP', 'OG', (18, 25))], [('로', 'JKB', 'UN', (25, 26))]], [[('이적', 'NNG', 'UN', (27, 29))], [('했', 'XSV+EP', 'UN', (29, 30))], [('다', 'EF', 'UN', (30, 31))]], [[('.', 'SW', 'UN', (31, 32))]]]\n",
      "['손흥민은', '2015년 레버쿠젠에서', '토트넘 핫스퍼로', '이적했다', '.']\n"
     ]
    }
   ],
   "source": [
    "phrase_sa_list, phrase_list = sa.get_phrase(sentence, sa_result)\n",
    "print(phrase_sa_list)\n",
    "print(phrase_list)"
   ]
  },
  {
   "cell_type": "code",
   "execution_count": 12,
   "metadata": {},
   "outputs": [],
   "source": [
    "label_list, edge_list = sa.get_sentence_tree(sentence, sa_result)"
   ]
  },
  {
   "cell_type": "code",
   "execution_count": 13,
   "metadata": {},
   "outputs": [
    {
     "name": "stdout",
     "output_type": "stream",
     "text": [
      "['손흥민은 2015년 레버쿠젠에서 토트넘 핫스퍼로 이적했다.<br>/SENTENCE', '손흥민은<br>/SUBJECT', '2015년 레버쿠젠에서<br>/ADVERB', '토트넘 핫스퍼로<br>/ADVERB', '이적했다<br>/EC', '.<br>/EF', '손흥민<br>/N', '은<br>/J', '2015년 레버쿠젠<br>/N', '에서<br>/J', '토트넘 핫스퍼<br>/N', '로<br>/J', '이적<br>/N', '했<br>/X', '다<br>/E', '.<br>/S', '손흥민<br>/NNP<br>/PS', '은<br>/JX<br>/UN', '2015년<br>/NNP<br>/DT', '레버쿠젠<br>/NNP<br>/OG', '에서<br>/JKB<br>/UN', '토트넘 핫스퍼<br>/NNP<br>/OG', '로<br>/JKB<br>/UN', '이적<br>/NNG<br>/UN', '했<br>/XSV+EP<br>/UN', '다<br>/EF<br>/UN', '.<br>/SW<br>/UN']\n"
     ]
    }
   ],
   "source": [
    "print(label_list)"
   ]
  },
  {
   "cell_type": "code",
   "execution_count": 14,
   "metadata": {},
   "outputs": [
    {
     "name": "stdout",
     "output_type": "stream",
     "text": [
      "[(0, 1), (1, 6), (6, 16), (1, 7), (7, 17), (0, 2), (2, 8), (8, 18), (8, 19), (2, 9), (9, 20), (0, 3), (3, 10), (10, 21), (3, 11), (11, 22), (0, 4), (4, 12), (12, 23), (4, 13), (13, 24), (4, 14), (14, 25), (0, 5), (5, 15), (15, 26)]\n"
     ]
    }
   ],
   "source": [
    "print(edge_list)"
   ]
  },
  {
   "cell_type": "code",
   "execution_count": 15,
   "metadata": {},
   "outputs": [
    {
     "data": {
      "text/html": [
       "\n",
       "                <script src=\"/static/components/requirejs/require.js\"></script>\n",
       "                <script>\n",
       "                  requirejs.config({\n",
       "                    paths: {\n",
       "                      base: '/static/base',\n",
       "                      plotly: 'https://cdn.plot.ly/plotly-latest.min.js?noext',\n",
       "                    },\n",
       "                  });\n",
       "                </script>\n",
       "                "
      ],
      "text/plain": [
       "<IPython.core.display.HTML object>"
      ]
     },
     "metadata": {},
     "output_type": "display_data"
    },
    {
     "data": {
      "text/html": [
       "\n",
       "                <script src=\"/static/components/requirejs/require.js\"></script>\n",
       "                <script>\n",
       "                  requirejs.config({\n",
       "                    paths: {\n",
       "                      base: '/static/base',\n",
       "                      plotly: 'https://cdn.plot.ly/plotly-latest.min.js?noext',\n",
       "                    },\n",
       "                  });\n",
       "                </script>\n",
       "                "
      ],
      "text/plain": [
       "<IPython.core.display.HTML object>"
      ]
     },
     "metadata": {},
     "output_type": "display_data"
    },
    {
     "data": {
      "application/vnd.plotly.v1+json": {
       "data": [
        {
         "hoverinfo": "none",
         "line": {
          "color": "rgb(210, 210, 210)",
          "width": 1
         },
         "mode": "lines",
         "type": "scatter",
         "x": [
          -1.5,
          -6.449999999999999,
          null,
          -6.449999999999999,
          -6.949999999999999,
          null,
          -6.949999999999999,
          -6.949999999999999,
          null,
          -6.449999999999999,
          -5.949999999999999,
          null,
          -5.949999999999999,
          -5.949999999999999,
          null,
          -1.5,
          -3.6999999999999993,
          null,
          -3.6999999999999993,
          -4.449999999999999,
          null,
          -4.449999999999999,
          -4.949999999999999,
          null,
          -4.449999999999999,
          -3.9499999999999993,
          null,
          -3.6999999999999993,
          -2.9499999999999993,
          null,
          -2.9499999999999993,
          -2.9499999999999993,
          null,
          -1.5,
          -1.4499999999999993,
          null,
          -1.4499999999999993,
          -1.9499999999999993,
          null,
          -1.9499999999999993,
          -1.9499999999999993,
          null,
          -1.4499999999999993,
          -0.9499999999999993,
          null,
          -0.9499999999999993,
          -0.9499999999999993,
          null,
          -1.5,
          1.0500000000000007,
          null,
          1.0500000000000007,
          0.05000000000000071,
          null,
          0.05000000000000071,
          0.05000000000000071,
          null,
          1.0500000000000007,
          1.0500000000000007,
          null,
          1.0500000000000007,
          1.0500000000000007,
          null,
          1.0500000000000007,
          2.0500000000000007,
          null,
          2.0500000000000007,
          2.0500000000000007,
          null,
          -1.5,
          3.0500000000000007,
          null,
          3.0500000000000007,
          3.0500000000000007,
          null,
          3.0500000000000007,
          3.0500000000000007,
          null
         ],
         "y": [
          8,
          7,
          null,
          7,
          6,
          null,
          6,
          5,
          null,
          7,
          6,
          null,
          6,
          5,
          null,
          8,
          7,
          null,
          7,
          6,
          null,
          6,
          5,
          null,
          6,
          5,
          null,
          7,
          6,
          null,
          6,
          5,
          null,
          8,
          7,
          null,
          7,
          6,
          null,
          6,
          5,
          null,
          7,
          6,
          null,
          6,
          5,
          null,
          8,
          7,
          null,
          7,
          6,
          null,
          6,
          5,
          null,
          7,
          6,
          null,
          6,
          5,
          null,
          7,
          6,
          null,
          6,
          5,
          null,
          8,
          7,
          null,
          7,
          6,
          null,
          6,
          5,
          null
         ]
        },
        {
         "hoverinfo": "text",
         "marker": {
          "color": "rgb(250,250,250)",
          "line": {
           "color": "rgb(50,50,50)",
           "width": 2
          },
          "size": 1,
          "symbol": "circle"
         },
         "mode": "markers",
         "name": "bla",
         "opacity": 0.8,
         "text": [
          "손흥민은 2015년 레버쿠젠에서 토트넘 핫스퍼로 이적했다.<br>/SENTENCE",
          "손흥민은<br>/SUBJECT",
          "2015년 레버쿠젠에서<br>/ADVERB",
          "토트넘 핫스퍼로<br>/ADVERB",
          "이적했다<br>/EC",
          ".<br>/EF",
          "손흥민<br>/N",
          "은<br>/J",
          "2015년 레버쿠젠<br>/N",
          "에서<br>/J",
          "토트넘 핫스퍼<br>/N",
          "로<br>/J",
          "이적<br>/N",
          "했<br>/X",
          "다<br>/E",
          ".<br>/S",
          "손흥민<br>/NNP<br>/PS",
          "은<br>/JX<br>/UN",
          "2015년<br>/NNP<br>/DT",
          "레버쿠젠<br>/NNP<br>/OG",
          "에서<br>/JKB<br>/UN",
          "토트넘 핫스퍼<br>/NNP<br>/OG",
          "로<br>/JKB<br>/UN",
          "이적<br>/NNG<br>/UN",
          "했<br>/XSV+EP<br>/UN",
          "다<br>/EF<br>/UN",
          ".<br>/SW<br>/UN"
         ],
         "type": "scatter",
         "x": [
          -1.5,
          -6.449999999999999,
          -3.6999999999999993,
          -1.4499999999999993,
          1.0500000000000007,
          3.0500000000000007,
          -6.949999999999999,
          -5.949999999999999,
          -4.449999999999999,
          -2.9499999999999993,
          -1.9499999999999993,
          -0.9499999999999993,
          0.05000000000000071,
          1.0500000000000007,
          2.0500000000000007,
          3.0500000000000007,
          -6.949999999999999,
          -5.949999999999999,
          -4.949999999999999,
          -3.9499999999999993,
          -2.9499999999999993,
          -1.9499999999999993,
          -0.9499999999999993,
          0.05000000000000071,
          1.0500000000000007,
          2.0500000000000007,
          3.0500000000000007
         ],
         "y": [
          8,
          7,
          7,
          7,
          7,
          7,
          6,
          6,
          6,
          6,
          6,
          6,
          6,
          6,
          6,
          6,
          5,
          5,
          5,
          5,
          5,
          5,
          5,
          5,
          5,
          5,
          5
         ]
        }
       ],
       "layout": {
        "annotations": [
         {
          "font": {
           "color": "rgb(10, 10, 10)",
           "size": 10
          },
          "showarrow": false,
          "text": "손흥민은 2015년 레버쿠젠에서 토트넘 핫스퍼로 이적했다.<br>/SENTENCE",
          "textangle": 0,
          "x": -1.5,
          "xref": "x1",
          "y": 8,
          "yref": "y1"
         },
         {
          "font": {
           "color": "rgb(10, 10, 10)",
           "size": 10
          },
          "showarrow": false,
          "text": "손흥민은<br>/SUBJECT",
          "textangle": 0,
          "x": -6.449999999999999,
          "xref": "x1",
          "y": 7,
          "yref": "y1"
         },
         {
          "font": {
           "color": "rgb(10, 10, 10)",
           "size": 10
          },
          "showarrow": false,
          "text": "2015년 레버쿠젠에서<br>/ADVERB",
          "textangle": 0,
          "x": -3.6999999999999993,
          "xref": "x1",
          "y": 7,
          "yref": "y1"
         },
         {
          "font": {
           "color": "rgb(10, 10, 10)",
           "size": 10
          },
          "showarrow": false,
          "text": "토트넘 핫스퍼로<br>/ADVERB",
          "textangle": 0,
          "x": -1.4499999999999993,
          "xref": "x1",
          "y": 7,
          "yref": "y1"
         },
         {
          "font": {
           "color": "rgb(10, 10, 10)",
           "size": 10
          },
          "showarrow": false,
          "text": "이적했다<br>/EC",
          "textangle": 0,
          "x": 1.0500000000000007,
          "xref": "x1",
          "y": 7,
          "yref": "y1"
         },
         {
          "font": {
           "color": "rgb(10, 10, 10)",
           "size": 10
          },
          "showarrow": false,
          "text": ".<br>/EF",
          "textangle": 0,
          "x": 3.0500000000000007,
          "xref": "x1",
          "y": 7,
          "yref": "y1"
         },
         {
          "font": {
           "color": "rgb(10, 10, 10)",
           "size": 10
          },
          "showarrow": false,
          "text": "손흥민<br>/N",
          "textangle": 0,
          "x": -6.949999999999999,
          "xref": "x1",
          "y": 6,
          "yref": "y1"
         },
         {
          "font": {
           "color": "rgb(10, 10, 10)",
           "size": 10
          },
          "showarrow": false,
          "text": "은<br>/J",
          "textangle": 0,
          "x": -5.949999999999999,
          "xref": "x1",
          "y": 6,
          "yref": "y1"
         },
         {
          "font": {
           "color": "rgb(10, 10, 10)",
           "size": 10
          },
          "showarrow": false,
          "text": "2015년 레버쿠젠<br>/N",
          "textangle": 0,
          "x": -4.449999999999999,
          "xref": "x1",
          "y": 6,
          "yref": "y1"
         },
         {
          "font": {
           "color": "rgb(10, 10, 10)",
           "size": 10
          },
          "showarrow": false,
          "text": "에서<br>/J",
          "textangle": 0,
          "x": -2.9499999999999993,
          "xref": "x1",
          "y": 6,
          "yref": "y1"
         },
         {
          "font": {
           "color": "rgb(10, 10, 10)",
           "size": 10
          },
          "showarrow": false,
          "text": "토트넘 핫스퍼<br>/N",
          "textangle": 0,
          "x": -1.9499999999999993,
          "xref": "x1",
          "y": 6,
          "yref": "y1"
         },
         {
          "font": {
           "color": "rgb(10, 10, 10)",
           "size": 10
          },
          "showarrow": false,
          "text": "로<br>/J",
          "textangle": 0,
          "x": -0.9499999999999993,
          "xref": "x1",
          "y": 6,
          "yref": "y1"
         },
         {
          "font": {
           "color": "rgb(10, 10, 10)",
           "size": 10
          },
          "showarrow": false,
          "text": "이적<br>/N",
          "textangle": 0,
          "x": 0.05000000000000071,
          "xref": "x1",
          "y": 6,
          "yref": "y1"
         },
         {
          "font": {
           "color": "rgb(10, 10, 10)",
           "size": 10
          },
          "showarrow": false,
          "text": "했<br>/X",
          "textangle": 0,
          "x": 1.0500000000000007,
          "xref": "x1",
          "y": 6,
          "yref": "y1"
         },
         {
          "font": {
           "color": "rgb(10, 10, 10)",
           "size": 10
          },
          "showarrow": false,
          "text": "다<br>/E",
          "textangle": 0,
          "x": 2.0500000000000007,
          "xref": "x1",
          "y": 6,
          "yref": "y1"
         },
         {
          "font": {
           "color": "rgb(10, 10, 10)",
           "size": 10
          },
          "showarrow": false,
          "text": ".<br>/S",
          "textangle": 0,
          "x": 3.0500000000000007,
          "xref": "x1",
          "y": 6,
          "yref": "y1"
         },
         {
          "font": {
           "color": "rgb(10, 10, 10)",
           "size": 10
          },
          "showarrow": false,
          "text": "손흥민<br>/NNP<br>/PS",
          "textangle": 0,
          "x": -6.949999999999999,
          "xref": "x1",
          "y": 5,
          "yref": "y1"
         },
         {
          "font": {
           "color": "rgb(10, 10, 10)",
           "size": 10
          },
          "showarrow": false,
          "text": "은<br>/JX<br>/UN",
          "textangle": 0,
          "x": -5.949999999999999,
          "xref": "x1",
          "y": 5,
          "yref": "y1"
         },
         {
          "font": {
           "color": "rgb(10, 10, 10)",
           "size": 10
          },
          "showarrow": false,
          "text": "2015년<br>/NNP<br>/DT",
          "textangle": 0,
          "x": -4.949999999999999,
          "xref": "x1",
          "y": 5,
          "yref": "y1"
         },
         {
          "font": {
           "color": "rgb(10, 10, 10)",
           "size": 10
          },
          "showarrow": false,
          "text": "레버쿠젠<br>/NNP<br>/OG",
          "textangle": 0,
          "x": -3.9499999999999993,
          "xref": "x1",
          "y": 5,
          "yref": "y1"
         },
         {
          "font": {
           "color": "rgb(10, 10, 10)",
           "size": 10
          },
          "showarrow": false,
          "text": "에서<br>/JKB<br>/UN",
          "textangle": 0,
          "x": -2.9499999999999993,
          "xref": "x1",
          "y": 5,
          "yref": "y1"
         },
         {
          "font": {
           "color": "rgb(10, 10, 10)",
           "size": 10
          },
          "showarrow": false,
          "text": "토트넘 핫스퍼<br>/NNP<br>/OG",
          "textangle": 0,
          "x": -1.9499999999999993,
          "xref": "x1",
          "y": 5,
          "yref": "y1"
         },
         {
          "font": {
           "color": "rgb(10, 10, 10)",
           "size": 10
          },
          "showarrow": false,
          "text": "로<br>/JKB<br>/UN",
          "textangle": 0,
          "x": -0.9499999999999993,
          "xref": "x1",
          "y": 5,
          "yref": "y1"
         },
         {
          "font": {
           "color": "rgb(10, 10, 10)",
           "size": 10
          },
          "showarrow": false,
          "text": "이적<br>/NNG<br>/UN",
          "textangle": 0,
          "x": 0.05000000000000071,
          "xref": "x1",
          "y": 5,
          "yref": "y1"
         },
         {
          "font": {
           "color": "rgb(10, 10, 10)",
           "size": 10
          },
          "showarrow": false,
          "text": "했<br>/XSV+EP<br>/UN",
          "textangle": 0,
          "x": 1.0500000000000007,
          "xref": "x1",
          "y": 5,
          "yref": "y1"
         },
         {
          "font": {
           "color": "rgb(10, 10, 10)",
           "size": 10
          },
          "showarrow": false,
          "text": "다<br>/EF<br>/UN",
          "textangle": 0,
          "x": 2.0500000000000007,
          "xref": "x1",
          "y": 5,
          "yref": "y1"
         },
         {
          "font": {
           "color": "rgb(10, 10, 10)",
           "size": 10
          },
          "showarrow": false,
          "text": ".<br>/SW<br>/UN",
          "textangle": 0,
          "x": 3.0500000000000007,
          "xref": "x1",
          "y": 5,
          "yref": "y1"
         }
        ],
        "barmode": "stack",
        "height": 300,
        "images": [
         {
          "layer": "above",
          "opacity": 0.3,
          "sizex": 0.7,
          "sizey": 0.7,
          "source": "https://raw.githubusercontent.com/fingeredman/teanaps/master/data/logo/teanaps_logo_no-bg.png",
          "x": 0.5,
          "xanchor": "center",
          "xref": "paper",
          "y": 0.6,
          "yanchor": "center",
          "yref": "paper"
         }
        ],
        "margin": {
         "b": 30,
         "l": 20,
         "r": 20,
         "t": 10
        },
        "showlegend": false,
        "width": 1000,
        "xaxis": {
         "showgrid": false,
         "showline": false,
         "showticklabels": false,
         "zeroline": false
        },
        "yaxis": {
         "showgrid": false,
         "showline": false,
         "showticklabels": false,
         "zeroline": false
        }
       }
      },
      "text/html": [
       "<div id=\"7acf7989-c77f-4d46-a80f-ac9deee73d9b\" style=\"height: 300px; width: 1000px;\" class=\"plotly-graph-div\"></div><script type=\"text/javascript\">require([\"plotly\"], function(Plotly) { window.PLOTLYENV=window.PLOTLYENV || {};window.PLOTLYENV.BASE_URL=\"https://plot.ly\";Plotly.newPlot(\"7acf7989-c77f-4d46-a80f-ac9deee73d9b\", [{\"type\": \"scatter\", \"x\": [-1.5, -6.449999999999999, null, -6.449999999999999, -6.949999999999999, null, -6.949999999999999, -6.949999999999999, null, -6.449999999999999, -5.949999999999999, null, -5.949999999999999, -5.949999999999999, null, -1.5, -3.6999999999999993, null, -3.6999999999999993, -4.449999999999999, null, -4.449999999999999, -4.949999999999999, null, -4.449999999999999, -3.9499999999999993, null, -3.6999999999999993, -2.9499999999999993, null, -2.9499999999999993, -2.9499999999999993, null, -1.5, -1.4499999999999993, null, -1.4499999999999993, -1.9499999999999993, null, -1.9499999999999993, -1.9499999999999993, null, -1.4499999999999993, -0.9499999999999993, null, -0.9499999999999993, -0.9499999999999993, null, -1.5, 1.0500000000000007, null, 1.0500000000000007, 0.05000000000000071, null, 0.05000000000000071, 0.05000000000000071, null, 1.0500000000000007, 1.0500000000000007, null, 1.0500000000000007, 1.0500000000000007, null, 1.0500000000000007, 2.0500000000000007, null, 2.0500000000000007, 2.0500000000000007, null, -1.5, 3.0500000000000007, null, 3.0500000000000007, 3.0500000000000007, null, 3.0500000000000007, 3.0500000000000007, null], \"y\": [8.0, 7.0, null, 7.0, 6.0, null, 6.0, 5.0, null, 7.0, 6.0, null, 6.0, 5.0, null, 8.0, 7.0, null, 7.0, 6.0, null, 6.0, 5.0, null, 6.0, 5.0, null, 7.0, 6.0, null, 6.0, 5.0, null, 8.0, 7.0, null, 7.0, 6.0, null, 6.0, 5.0, null, 7.0, 6.0, null, 6.0, 5.0, null, 8.0, 7.0, null, 7.0, 6.0, null, 6.0, 5.0, null, 7.0, 6.0, null, 6.0, 5.0, null, 7.0, 6.0, null, 6.0, 5.0, null, 8.0, 7.0, null, 7.0, 6.0, null, 6.0, 5.0, null], \"mode\": \"lines\", \"line\": {\"color\": \"rgb(210, 210, 210)\", \"width\": 1}, \"hoverinfo\": \"none\"}, {\"type\": \"scatter\", \"x\": [-1.5, -6.449999999999999, -3.6999999999999993, -1.4499999999999993, 1.0500000000000007, 3.0500000000000007, -6.949999999999999, -5.949999999999999, -4.449999999999999, -2.9499999999999993, -1.9499999999999993, -0.9499999999999993, 0.05000000000000071, 1.0500000000000007, 2.0500000000000007, 3.0500000000000007, -6.949999999999999, -5.949999999999999, -4.949999999999999, -3.9499999999999993, -2.9499999999999993, -1.9499999999999993, -0.9499999999999993, 0.05000000000000071, 1.0500000000000007, 2.0500000000000007, 3.0500000000000007], \"y\": [8.0, 7.0, 7.0, 7.0, 7.0, 7.0, 6.0, 6.0, 6.0, 6.0, 6.0, 6.0, 6.0, 6.0, 6.0, 6.0, 5.0, 5.0, 5.0, 5.0, 5.0, 5.0, 5.0, 5.0, 5.0, 5.0, 5.0], \"mode\": \"markers\", \"name\": \"bla\", \"marker\": {\"symbol\": \"circle\", \"size\": 1, \"color\": \"rgb(250,250,250)\", \"line\": {\"color\": \"rgb(50,50,50)\", \"width\": 2}}, \"text\": [\"\\uc190\\ud765\\ubbfc\\uc740 2015\\ub144 \\ub808\\ubc84\\ucfe0\\uc820\\uc5d0\\uc11c \\ud1a0\\ud2b8\\ub118 \\ud56b\\uc2a4\\ud37c\\ub85c \\uc774\\uc801\\ud588\\ub2e4.<br>/SENTENCE\", \"\\uc190\\ud765\\ubbfc\\uc740<br>/SUBJECT\", \"2015\\ub144 \\ub808\\ubc84\\ucfe0\\uc820\\uc5d0\\uc11c<br>/ADVERB\", \"\\ud1a0\\ud2b8\\ub118 \\ud56b\\uc2a4\\ud37c\\ub85c<br>/ADVERB\", \"\\uc774\\uc801\\ud588\\ub2e4<br>/EC\", \".<br>/EF\", \"\\uc190\\ud765\\ubbfc<br>/N\", \"\\uc740<br>/J\", \"2015\\ub144 \\ub808\\ubc84\\ucfe0\\uc820<br>/N\", \"\\uc5d0\\uc11c<br>/J\", \"\\ud1a0\\ud2b8\\ub118 \\ud56b\\uc2a4\\ud37c<br>/N\", \"\\ub85c<br>/J\", \"\\uc774\\uc801<br>/N\", \"\\ud588<br>/X\", \"\\ub2e4<br>/E\", \".<br>/S\", \"\\uc190\\ud765\\ubbfc<br>/NNP<br>/PS\", \"\\uc740<br>/JX<br>/UN\", \"2015\\ub144<br>/NNP<br>/DT\", \"\\ub808\\ubc84\\ucfe0\\uc820<br>/NNP<br>/OG\", \"\\uc5d0\\uc11c<br>/JKB<br>/UN\", \"\\ud1a0\\ud2b8\\ub118 \\ud56b\\uc2a4\\ud37c<br>/NNP<br>/OG\", \"\\ub85c<br>/JKB<br>/UN\", \"\\uc774\\uc801<br>/NNG<br>/UN\", \"\\ud588<br>/XSV+EP<br>/UN\", \"\\ub2e4<br>/EF<br>/UN\", \".<br>/SW<br>/UN\"], \"hoverinfo\": \"text\", \"opacity\": 0.8}], {\"height\": 300, \"width\": 1000, \"annotations\": [{\"text\": \"\\uc190\\ud765\\ubbfc\\uc740 2015\\ub144 \\ub808\\ubc84\\ucfe0\\uc820\\uc5d0\\uc11c \\ud1a0\\ud2b8\\ub118 \\ud56b\\uc2a4\\ud37c\\ub85c \\uc774\\uc801\\ud588\\ub2e4.<br>/SENTENCE\", \"x\": -1.5, \"y\": 8.0, \"textangle\": 0, \"xref\": \"x1\", \"yref\": \"y1\", \"font\": {\"color\": \"rgb(10, 10, 10)\", \"size\": 10}, \"showarrow\": false}, {\"text\": \"\\uc190\\ud765\\ubbfc\\uc740<br>/SUBJECT\", \"x\": -6.449999999999999, \"y\": 7.0, \"textangle\": 0, \"xref\": \"x1\", \"yref\": \"y1\", \"font\": {\"color\": \"rgb(10, 10, 10)\", \"size\": 10}, \"showarrow\": false}, {\"text\": \"2015\\ub144 \\ub808\\ubc84\\ucfe0\\uc820\\uc5d0\\uc11c<br>/ADVERB\", \"x\": -3.6999999999999993, \"y\": 7.0, \"textangle\": 0, \"xref\": \"x1\", \"yref\": \"y1\", \"font\": {\"color\": \"rgb(10, 10, 10)\", \"size\": 10}, \"showarrow\": false}, {\"text\": \"\\ud1a0\\ud2b8\\ub118 \\ud56b\\uc2a4\\ud37c\\ub85c<br>/ADVERB\", \"x\": -1.4499999999999993, \"y\": 7.0, \"textangle\": 0, \"xref\": \"x1\", \"yref\": \"y1\", \"font\": {\"color\": \"rgb(10, 10, 10)\", \"size\": 10}, \"showarrow\": false}, {\"text\": \"\\uc774\\uc801\\ud588\\ub2e4<br>/EC\", \"x\": 1.0500000000000007, \"y\": 7.0, \"textangle\": 0, \"xref\": \"x1\", \"yref\": \"y1\", \"font\": {\"color\": \"rgb(10, 10, 10)\", \"size\": 10}, \"showarrow\": false}, {\"text\": \".<br>/EF\", \"x\": 3.0500000000000007, \"y\": 7.0, \"textangle\": 0, \"xref\": \"x1\", \"yref\": \"y1\", \"font\": {\"color\": \"rgb(10, 10, 10)\", \"size\": 10}, \"showarrow\": false}, {\"text\": \"\\uc190\\ud765\\ubbfc<br>/N\", \"x\": -6.949999999999999, \"y\": 6.0, \"textangle\": 0, \"xref\": \"x1\", \"yref\": \"y1\", \"font\": {\"color\": \"rgb(10, 10, 10)\", \"size\": 10}, \"showarrow\": false}, {\"text\": \"\\uc740<br>/J\", \"x\": -5.949999999999999, \"y\": 6.0, \"textangle\": 0, \"xref\": \"x1\", \"yref\": \"y1\", \"font\": {\"color\": \"rgb(10, 10, 10)\", \"size\": 10}, \"showarrow\": false}, {\"text\": \"2015\\ub144 \\ub808\\ubc84\\ucfe0\\uc820<br>/N\", \"x\": -4.449999999999999, \"y\": 6.0, \"textangle\": 0, \"xref\": \"x1\", \"yref\": \"y1\", \"font\": {\"color\": \"rgb(10, 10, 10)\", \"size\": 10}, \"showarrow\": false}, {\"text\": \"\\uc5d0\\uc11c<br>/J\", \"x\": -2.9499999999999993, \"y\": 6.0, \"textangle\": 0, \"xref\": \"x1\", \"yref\": \"y1\", \"font\": {\"color\": \"rgb(10, 10, 10)\", \"size\": 10}, \"showarrow\": false}, {\"text\": \"\\ud1a0\\ud2b8\\ub118 \\ud56b\\uc2a4\\ud37c<br>/N\", \"x\": -1.9499999999999993, \"y\": 6.0, \"textangle\": 0, \"xref\": \"x1\", \"yref\": \"y1\", \"font\": {\"color\": \"rgb(10, 10, 10)\", \"size\": 10}, \"showarrow\": false}, {\"text\": \"\\ub85c<br>/J\", \"x\": -0.9499999999999993, \"y\": 6.0, \"textangle\": 0, \"xref\": \"x1\", \"yref\": \"y1\", \"font\": {\"color\": \"rgb(10, 10, 10)\", \"size\": 10}, \"showarrow\": false}, {\"text\": \"\\uc774\\uc801<br>/N\", \"x\": 0.05000000000000071, \"y\": 6.0, \"textangle\": 0, \"xref\": \"x1\", \"yref\": \"y1\", \"font\": {\"color\": \"rgb(10, 10, 10)\", \"size\": 10}, \"showarrow\": false}, {\"text\": \"\\ud588<br>/X\", \"x\": 1.0500000000000007, \"y\": 6.0, \"textangle\": 0, \"xref\": \"x1\", \"yref\": \"y1\", \"font\": {\"color\": \"rgb(10, 10, 10)\", \"size\": 10}, \"showarrow\": false}, {\"text\": \"\\ub2e4<br>/E\", \"x\": 2.0500000000000007, \"y\": 6.0, \"textangle\": 0, \"xref\": \"x1\", \"yref\": \"y1\", \"font\": {\"color\": \"rgb(10, 10, 10)\", \"size\": 10}, \"showarrow\": false}, {\"text\": \".<br>/S\", \"x\": 3.0500000000000007, \"y\": 6.0, \"textangle\": 0, \"xref\": \"x1\", \"yref\": \"y1\", \"font\": {\"color\": \"rgb(10, 10, 10)\", \"size\": 10}, \"showarrow\": false}, {\"text\": \"\\uc190\\ud765\\ubbfc<br>/NNP<br>/PS\", \"x\": -6.949999999999999, \"y\": 5.0, \"textangle\": 0, \"xref\": \"x1\", \"yref\": \"y1\", \"font\": {\"color\": \"rgb(10, 10, 10)\", \"size\": 10}, \"showarrow\": false}, {\"text\": \"\\uc740<br>/JX<br>/UN\", \"x\": -5.949999999999999, \"y\": 5.0, \"textangle\": 0, \"xref\": \"x1\", \"yref\": \"y1\", \"font\": {\"color\": \"rgb(10, 10, 10)\", \"size\": 10}, \"showarrow\": false}, {\"text\": \"2015\\ub144<br>/NNP<br>/DT\", \"x\": -4.949999999999999, \"y\": 5.0, \"textangle\": 0, \"xref\": \"x1\", \"yref\": \"y1\", \"font\": {\"color\": \"rgb(10, 10, 10)\", \"size\": 10}, \"showarrow\": false}, {\"text\": \"\\ub808\\ubc84\\ucfe0\\uc820<br>/NNP<br>/OG\", \"x\": -3.9499999999999993, \"y\": 5.0, \"textangle\": 0, \"xref\": \"x1\", \"yref\": \"y1\", \"font\": {\"color\": \"rgb(10, 10, 10)\", \"size\": 10}, \"showarrow\": false}, {\"text\": \"\\uc5d0\\uc11c<br>/JKB<br>/UN\", \"x\": -2.9499999999999993, \"y\": 5.0, \"textangle\": 0, \"xref\": \"x1\", \"yref\": \"y1\", \"font\": {\"color\": \"rgb(10, 10, 10)\", \"size\": 10}, \"showarrow\": false}, {\"text\": \"\\ud1a0\\ud2b8\\ub118 \\ud56b\\uc2a4\\ud37c<br>/NNP<br>/OG\", \"x\": -1.9499999999999993, \"y\": 5.0, \"textangle\": 0, \"xref\": \"x1\", \"yref\": \"y1\", \"font\": {\"color\": \"rgb(10, 10, 10)\", \"size\": 10}, \"showarrow\": false}, {\"text\": \"\\ub85c<br>/JKB<br>/UN\", \"x\": -0.9499999999999993, \"y\": 5.0, \"textangle\": 0, \"xref\": \"x1\", \"yref\": \"y1\", \"font\": {\"color\": \"rgb(10, 10, 10)\", \"size\": 10}, \"showarrow\": false}, {\"text\": \"\\uc774\\uc801<br>/NNG<br>/UN\", \"x\": 0.05000000000000071, \"y\": 5.0, \"textangle\": 0, \"xref\": \"x1\", \"yref\": \"y1\", \"font\": {\"color\": \"rgb(10, 10, 10)\", \"size\": 10}, \"showarrow\": false}, {\"text\": \"\\ud588<br>/XSV+EP<br>/UN\", \"x\": 1.0500000000000007, \"y\": 5.0, \"textangle\": 0, \"xref\": \"x1\", \"yref\": \"y1\", \"font\": {\"color\": \"rgb(10, 10, 10)\", \"size\": 10}, \"showarrow\": false}, {\"text\": \"\\ub2e4<br>/EF<br>/UN\", \"x\": 2.0500000000000007, \"y\": 5.0, \"textangle\": 0, \"xref\": \"x1\", \"yref\": \"y1\", \"font\": {\"color\": \"rgb(10, 10, 10)\", \"size\": 10}, \"showarrow\": false}, {\"text\": \".<br>/SW<br>/UN\", \"x\": 3.0500000000000007, \"y\": 5.0, \"textangle\": 0, \"xref\": \"x1\", \"yref\": \"y1\", \"font\": {\"color\": \"rgb(10, 10, 10)\", \"size\": 10}, \"showarrow\": false}], \"xaxis\": {\"showgrid\": false, \"showline\": false, \"showticklabels\": false, \"zeroline\": false}, \"yaxis\": {\"showgrid\": false, \"showline\": false, \"showticklabels\": false, \"zeroline\": false}, \"showlegend\": false, \"barmode\": \"stack\", \"margin\": {\"b\": 30, \"l\": 20, \"r\": 20, \"t\": 10}, \"images\": [{\"source\": \"https://raw.githubusercontent.com/fingeredman/teanaps/master/data/logo/teanaps_logo_no-bg.png\", \"xref\": \"paper\", \"yref\": \"paper\", \"x\": 0.5, \"y\": 0.6, \"sizex\": 0.7, \"sizey\": 0.7, \"xanchor\": \"center\", \"yanchor\": \"center\", \"opacity\": 0.3, \"layer\": \"above\"}]}, {\"showLink\": true, \"linkText\": \"Export to plot.ly\"})});</script>"
      ],
      "text/vnd.plotly.v1+html": [
       "<div id=\"7acf7989-c77f-4d46-a80f-ac9deee73d9b\" style=\"height: 300px; width: 1000px;\" class=\"plotly-graph-div\"></div><script type=\"text/javascript\">require([\"plotly\"], function(Plotly) { window.PLOTLYENV=window.PLOTLYENV || {};window.PLOTLYENV.BASE_URL=\"https://plot.ly\";Plotly.newPlot(\"7acf7989-c77f-4d46-a80f-ac9deee73d9b\", [{\"type\": \"scatter\", \"x\": [-1.5, -6.449999999999999, null, -6.449999999999999, -6.949999999999999, null, -6.949999999999999, -6.949999999999999, null, -6.449999999999999, -5.949999999999999, null, -5.949999999999999, -5.949999999999999, null, -1.5, -3.6999999999999993, null, -3.6999999999999993, -4.449999999999999, null, -4.449999999999999, -4.949999999999999, null, -4.449999999999999, -3.9499999999999993, null, -3.6999999999999993, -2.9499999999999993, null, -2.9499999999999993, -2.9499999999999993, null, -1.5, -1.4499999999999993, null, -1.4499999999999993, -1.9499999999999993, null, -1.9499999999999993, -1.9499999999999993, null, -1.4499999999999993, -0.9499999999999993, null, -0.9499999999999993, -0.9499999999999993, null, -1.5, 1.0500000000000007, null, 1.0500000000000007, 0.05000000000000071, null, 0.05000000000000071, 0.05000000000000071, null, 1.0500000000000007, 1.0500000000000007, null, 1.0500000000000007, 1.0500000000000007, null, 1.0500000000000007, 2.0500000000000007, null, 2.0500000000000007, 2.0500000000000007, null, -1.5, 3.0500000000000007, null, 3.0500000000000007, 3.0500000000000007, null, 3.0500000000000007, 3.0500000000000007, null], \"y\": [8.0, 7.0, null, 7.0, 6.0, null, 6.0, 5.0, null, 7.0, 6.0, null, 6.0, 5.0, null, 8.0, 7.0, null, 7.0, 6.0, null, 6.0, 5.0, null, 6.0, 5.0, null, 7.0, 6.0, null, 6.0, 5.0, null, 8.0, 7.0, null, 7.0, 6.0, null, 6.0, 5.0, null, 7.0, 6.0, null, 6.0, 5.0, null, 8.0, 7.0, null, 7.0, 6.0, null, 6.0, 5.0, null, 7.0, 6.0, null, 6.0, 5.0, null, 7.0, 6.0, null, 6.0, 5.0, null, 8.0, 7.0, null, 7.0, 6.0, null, 6.0, 5.0, null], \"mode\": \"lines\", \"line\": {\"color\": \"rgb(210, 210, 210)\", \"width\": 1}, \"hoverinfo\": \"none\"}, {\"type\": \"scatter\", \"x\": [-1.5, -6.449999999999999, -3.6999999999999993, -1.4499999999999993, 1.0500000000000007, 3.0500000000000007, -6.949999999999999, -5.949999999999999, -4.449999999999999, -2.9499999999999993, -1.9499999999999993, -0.9499999999999993, 0.05000000000000071, 1.0500000000000007, 2.0500000000000007, 3.0500000000000007, -6.949999999999999, -5.949999999999999, -4.949999999999999, -3.9499999999999993, -2.9499999999999993, -1.9499999999999993, -0.9499999999999993, 0.05000000000000071, 1.0500000000000007, 2.0500000000000007, 3.0500000000000007], \"y\": [8.0, 7.0, 7.0, 7.0, 7.0, 7.0, 6.0, 6.0, 6.0, 6.0, 6.0, 6.0, 6.0, 6.0, 6.0, 6.0, 5.0, 5.0, 5.0, 5.0, 5.0, 5.0, 5.0, 5.0, 5.0, 5.0, 5.0], \"mode\": \"markers\", \"name\": \"bla\", \"marker\": {\"symbol\": \"circle\", \"size\": 1, \"color\": \"rgb(250,250,250)\", \"line\": {\"color\": \"rgb(50,50,50)\", \"width\": 2}}, \"text\": [\"\\uc190\\ud765\\ubbfc\\uc740 2015\\ub144 \\ub808\\ubc84\\ucfe0\\uc820\\uc5d0\\uc11c \\ud1a0\\ud2b8\\ub118 \\ud56b\\uc2a4\\ud37c\\ub85c \\uc774\\uc801\\ud588\\ub2e4.<br>/SENTENCE\", \"\\uc190\\ud765\\ubbfc\\uc740<br>/SUBJECT\", \"2015\\ub144 \\ub808\\ubc84\\ucfe0\\uc820\\uc5d0\\uc11c<br>/ADVERB\", \"\\ud1a0\\ud2b8\\ub118 \\ud56b\\uc2a4\\ud37c\\ub85c<br>/ADVERB\", \"\\uc774\\uc801\\ud588\\ub2e4<br>/EC\", \".<br>/EF\", \"\\uc190\\ud765\\ubbfc<br>/N\", \"\\uc740<br>/J\", \"2015\\ub144 \\ub808\\ubc84\\ucfe0\\uc820<br>/N\", \"\\uc5d0\\uc11c<br>/J\", \"\\ud1a0\\ud2b8\\ub118 \\ud56b\\uc2a4\\ud37c<br>/N\", \"\\ub85c<br>/J\", \"\\uc774\\uc801<br>/N\", \"\\ud588<br>/X\", \"\\ub2e4<br>/E\", \".<br>/S\", \"\\uc190\\ud765\\ubbfc<br>/NNP<br>/PS\", \"\\uc740<br>/JX<br>/UN\", \"2015\\ub144<br>/NNP<br>/DT\", \"\\ub808\\ubc84\\ucfe0\\uc820<br>/NNP<br>/OG\", \"\\uc5d0\\uc11c<br>/JKB<br>/UN\", \"\\ud1a0\\ud2b8\\ub118 \\ud56b\\uc2a4\\ud37c<br>/NNP<br>/OG\", \"\\ub85c<br>/JKB<br>/UN\", \"\\uc774\\uc801<br>/NNG<br>/UN\", \"\\ud588<br>/XSV+EP<br>/UN\", \"\\ub2e4<br>/EF<br>/UN\", \".<br>/SW<br>/UN\"], \"hoverinfo\": \"text\", \"opacity\": 0.8}], {\"height\": 300, \"width\": 1000, \"annotations\": [{\"text\": \"\\uc190\\ud765\\ubbfc\\uc740 2015\\ub144 \\ub808\\ubc84\\ucfe0\\uc820\\uc5d0\\uc11c \\ud1a0\\ud2b8\\ub118 \\ud56b\\uc2a4\\ud37c\\ub85c \\uc774\\uc801\\ud588\\ub2e4.<br>/SENTENCE\", \"x\": -1.5, \"y\": 8.0, \"textangle\": 0, \"xref\": \"x1\", \"yref\": \"y1\", \"font\": {\"color\": \"rgb(10, 10, 10)\", \"size\": 10}, \"showarrow\": false}, {\"text\": \"\\uc190\\ud765\\ubbfc\\uc740<br>/SUBJECT\", \"x\": -6.449999999999999, \"y\": 7.0, \"textangle\": 0, \"xref\": \"x1\", \"yref\": \"y1\", \"font\": {\"color\": \"rgb(10, 10, 10)\", \"size\": 10}, \"showarrow\": false}, {\"text\": \"2015\\ub144 \\ub808\\ubc84\\ucfe0\\uc820\\uc5d0\\uc11c<br>/ADVERB\", \"x\": -3.6999999999999993, \"y\": 7.0, \"textangle\": 0, \"xref\": \"x1\", \"yref\": \"y1\", \"font\": {\"color\": \"rgb(10, 10, 10)\", \"size\": 10}, \"showarrow\": false}, {\"text\": \"\\ud1a0\\ud2b8\\ub118 \\ud56b\\uc2a4\\ud37c\\ub85c<br>/ADVERB\", \"x\": -1.4499999999999993, \"y\": 7.0, \"textangle\": 0, \"xref\": \"x1\", \"yref\": \"y1\", \"font\": {\"color\": \"rgb(10, 10, 10)\", \"size\": 10}, \"showarrow\": false}, {\"text\": \"\\uc774\\uc801\\ud588\\ub2e4<br>/EC\", \"x\": 1.0500000000000007, \"y\": 7.0, \"textangle\": 0, \"xref\": \"x1\", \"yref\": \"y1\", \"font\": {\"color\": \"rgb(10, 10, 10)\", \"size\": 10}, \"showarrow\": false}, {\"text\": \".<br>/EF\", \"x\": 3.0500000000000007, \"y\": 7.0, \"textangle\": 0, \"xref\": \"x1\", \"yref\": \"y1\", \"font\": {\"color\": \"rgb(10, 10, 10)\", \"size\": 10}, \"showarrow\": false}, {\"text\": \"\\uc190\\ud765\\ubbfc<br>/N\", \"x\": -6.949999999999999, \"y\": 6.0, \"textangle\": 0, \"xref\": \"x1\", \"yref\": \"y1\", \"font\": {\"color\": \"rgb(10, 10, 10)\", \"size\": 10}, \"showarrow\": false}, {\"text\": \"\\uc740<br>/J\", \"x\": -5.949999999999999, \"y\": 6.0, \"textangle\": 0, \"xref\": \"x1\", \"yref\": \"y1\", \"font\": {\"color\": \"rgb(10, 10, 10)\", \"size\": 10}, \"showarrow\": false}, {\"text\": \"2015\\ub144 \\ub808\\ubc84\\ucfe0\\uc820<br>/N\", \"x\": -4.449999999999999, \"y\": 6.0, \"textangle\": 0, \"xref\": \"x1\", \"yref\": \"y1\", \"font\": {\"color\": \"rgb(10, 10, 10)\", \"size\": 10}, \"showarrow\": false}, {\"text\": \"\\uc5d0\\uc11c<br>/J\", \"x\": -2.9499999999999993, \"y\": 6.0, \"textangle\": 0, \"xref\": \"x1\", \"yref\": \"y1\", \"font\": {\"color\": \"rgb(10, 10, 10)\", \"size\": 10}, \"showarrow\": false}, {\"text\": \"\\ud1a0\\ud2b8\\ub118 \\ud56b\\uc2a4\\ud37c<br>/N\", \"x\": -1.9499999999999993, \"y\": 6.0, \"textangle\": 0, \"xref\": \"x1\", \"yref\": \"y1\", \"font\": {\"color\": \"rgb(10, 10, 10)\", \"size\": 10}, \"showarrow\": false}, {\"text\": \"\\ub85c<br>/J\", \"x\": -0.9499999999999993, \"y\": 6.0, \"textangle\": 0, \"xref\": \"x1\", \"yref\": \"y1\", \"font\": {\"color\": \"rgb(10, 10, 10)\", \"size\": 10}, \"showarrow\": false}, {\"text\": \"\\uc774\\uc801<br>/N\", \"x\": 0.05000000000000071, \"y\": 6.0, \"textangle\": 0, \"xref\": \"x1\", \"yref\": \"y1\", \"font\": {\"color\": \"rgb(10, 10, 10)\", \"size\": 10}, \"showarrow\": false}, {\"text\": \"\\ud588<br>/X\", \"x\": 1.0500000000000007, \"y\": 6.0, \"textangle\": 0, \"xref\": \"x1\", \"yref\": \"y1\", \"font\": {\"color\": \"rgb(10, 10, 10)\", \"size\": 10}, \"showarrow\": false}, {\"text\": \"\\ub2e4<br>/E\", \"x\": 2.0500000000000007, \"y\": 6.0, \"textangle\": 0, \"xref\": \"x1\", \"yref\": \"y1\", \"font\": {\"color\": \"rgb(10, 10, 10)\", \"size\": 10}, \"showarrow\": false}, {\"text\": \".<br>/S\", \"x\": 3.0500000000000007, \"y\": 6.0, \"textangle\": 0, \"xref\": \"x1\", \"yref\": \"y1\", \"font\": {\"color\": \"rgb(10, 10, 10)\", \"size\": 10}, \"showarrow\": false}, {\"text\": \"\\uc190\\ud765\\ubbfc<br>/NNP<br>/PS\", \"x\": -6.949999999999999, \"y\": 5.0, \"textangle\": 0, \"xref\": \"x1\", \"yref\": \"y1\", \"font\": {\"color\": \"rgb(10, 10, 10)\", \"size\": 10}, \"showarrow\": false}, {\"text\": \"\\uc740<br>/JX<br>/UN\", \"x\": -5.949999999999999, \"y\": 5.0, \"textangle\": 0, \"xref\": \"x1\", \"yref\": \"y1\", \"font\": {\"color\": \"rgb(10, 10, 10)\", \"size\": 10}, \"showarrow\": false}, {\"text\": \"2015\\ub144<br>/NNP<br>/DT\", \"x\": -4.949999999999999, \"y\": 5.0, \"textangle\": 0, \"xref\": \"x1\", \"yref\": \"y1\", \"font\": {\"color\": \"rgb(10, 10, 10)\", \"size\": 10}, \"showarrow\": false}, {\"text\": \"\\ub808\\ubc84\\ucfe0\\uc820<br>/NNP<br>/OG\", \"x\": -3.9499999999999993, \"y\": 5.0, \"textangle\": 0, \"xref\": \"x1\", \"yref\": \"y1\", \"font\": {\"color\": \"rgb(10, 10, 10)\", \"size\": 10}, \"showarrow\": false}, {\"text\": \"\\uc5d0\\uc11c<br>/JKB<br>/UN\", \"x\": -2.9499999999999993, \"y\": 5.0, \"textangle\": 0, \"xref\": \"x1\", \"yref\": \"y1\", \"font\": {\"color\": \"rgb(10, 10, 10)\", \"size\": 10}, \"showarrow\": false}, {\"text\": \"\\ud1a0\\ud2b8\\ub118 \\ud56b\\uc2a4\\ud37c<br>/NNP<br>/OG\", \"x\": -1.9499999999999993, \"y\": 5.0, \"textangle\": 0, \"xref\": \"x1\", \"yref\": \"y1\", \"font\": {\"color\": \"rgb(10, 10, 10)\", \"size\": 10}, \"showarrow\": false}, {\"text\": \"\\ub85c<br>/JKB<br>/UN\", \"x\": -0.9499999999999993, \"y\": 5.0, \"textangle\": 0, \"xref\": \"x1\", \"yref\": \"y1\", \"font\": {\"color\": \"rgb(10, 10, 10)\", \"size\": 10}, \"showarrow\": false}, {\"text\": \"\\uc774\\uc801<br>/NNG<br>/UN\", \"x\": 0.05000000000000071, \"y\": 5.0, \"textangle\": 0, \"xref\": \"x1\", \"yref\": \"y1\", \"font\": {\"color\": \"rgb(10, 10, 10)\", \"size\": 10}, \"showarrow\": false}, {\"text\": \"\\ud588<br>/XSV+EP<br>/UN\", \"x\": 1.0500000000000007, \"y\": 5.0, \"textangle\": 0, \"xref\": \"x1\", \"yref\": \"y1\", \"font\": {\"color\": \"rgb(10, 10, 10)\", \"size\": 10}, \"showarrow\": false}, {\"text\": \"\\ub2e4<br>/EF<br>/UN\", \"x\": 2.0500000000000007, \"y\": 5.0, \"textangle\": 0, \"xref\": \"x1\", \"yref\": \"y1\", \"font\": {\"color\": \"rgb(10, 10, 10)\", \"size\": 10}, \"showarrow\": false}, {\"text\": \".<br>/SW<br>/UN\", \"x\": 3.0500000000000007, \"y\": 5.0, \"textangle\": 0, \"xref\": \"x1\", \"yref\": \"y1\", \"font\": {\"color\": \"rgb(10, 10, 10)\", \"size\": 10}, \"showarrow\": false}], \"xaxis\": {\"showgrid\": false, \"showline\": false, \"showticklabels\": false, \"zeroline\": false}, \"yaxis\": {\"showgrid\": false, \"showline\": false, \"showticklabels\": false, \"zeroline\": false}, \"showlegend\": false, \"barmode\": \"stack\", \"margin\": {\"b\": 30, \"l\": 20, \"r\": 20, \"t\": 10}, \"images\": [{\"source\": \"https://raw.githubusercontent.com/fingeredman/teanaps/master/data/logo/teanaps_logo_no-bg.png\", \"xref\": \"paper\", \"yref\": \"paper\", \"x\": 0.5, \"y\": 0.6, \"sizex\": 0.7, \"sizey\": 0.7, \"xanchor\": \"center\", \"yanchor\": \"center\", \"opacity\": 0.3, \"layer\": \"above\"}]}, {\"showLink\": true, \"linkText\": \"Export to plot.ly\"})});</script>"
      ]
     },
     "metadata": {},
     "output_type": "display_data"
    }
   ],
   "source": [
    "sa.draw_sentence_tree(sentence, label_list, edge_list)"
   ]
  },
  {
   "cell_type": "markdown",
   "metadata": {},
   "source": [
    "### 2. 파일 처리하기\n",
    "\n",
    "---"
   ]
  },
  {
   "cell_type": "markdown",
   "metadata": {},
   "source": [
    "#### 2.1. 변수를 파일로 저장하기\n",
    "\n",
    "---"
   ]
  },
  {
   "cell_type": "code",
   "execution_count": 16,
   "metadata": {},
   "outputs": [],
   "source": [
    "from teanaps.handler import FileHandler\n",
    "\n",
    "fh = FileHandler()"
   ]
  },
  {
   "cell_type": "code",
   "execution_count": 17,
   "metadata": {},
   "outputs": [],
   "source": [
    "data = [\"데이터가\", \"저장된\", \"변수를\", \"파일로\", \"저장합니다.\"]\n",
    "fh.save_data(\"data_to_file\", data)"
   ]
  },
  {
   "cell_type": "code",
   "execution_count": 18,
   "metadata": {},
   "outputs": [
    {
     "name": "stdout",
     "output_type": "stream",
     "text": [
      "['데이터가', '저장된', '변수를', '파일로', '저장합니다.']\n"
     ]
    }
   ],
   "source": [
    "load_data = fh.load_data(\"data_to_file\")\n",
    "print(load_data)"
   ]
  },
  {
   "cell_type": "markdown",
   "metadata": {},
   "source": [
    "#### 2.2. 텍스트 데이터를 파일로 저장하기\n",
    "\n",
    "---"
   ]
  },
  {
   "cell_type": "code",
   "execution_count": 19,
   "metadata": {},
   "outputs": [],
   "source": [
    "PATH = \"data/article_sample.txt\"\n",
    "line_list = fh.load_txt(PATH, encoding=\"utf-8\", separator=\"\\t\")"
   ]
  },
  {
   "cell_type": "code",
   "execution_count": 20,
   "metadata": {},
   "outputs": [
    {
     "data": {
      "text/plain": [
       "['비트코인',\n",
       " 'ZDNet Korea',\n",
       " '2019-04-14 09:58:00',\n",
       " '\"비트코인 가능성 알려면, 결함 전제로 규제 정비必\"',\n",
       " '금융硏 비트코인 쇠락과 내재적 결함 보고서(지디넷코리아=손예술 기자)대표적인 암호화폐 비트코인의 가격이 급변동했음에도 불구, 일부 암호화폐 옹호론자들은 비트코인이 갖고 있는 몇 가지 결함이 해소되면 새로운 국면이 나타날 것으로 예측했다.그들은 이런 결함을 전제로 국내외 정부와 감독당국은 선제적으로 시각 및 규제 환경을 정비해야 한다는 주장하고 있다.14일 한국금융연구원은 비트코인 쇠락과 내재적 결함이란 보고서에서 암호화폐 옹호론자의 입장과 함께 그들이 제시한 세 가지 결함을 발표했다.여기서 암호화폐 옹호론자들은 암호화폐로 새로운 부가가치를 낼 수 있는 사업모델 등장 가능성에 집중하고 있는 인물들로 통칭된다.그러나 그들은 이를 위해서 비트코인이 세 가지 결함이 우선적으로 해소돼야 한다고 보고 있다.하나는 비트코인이 재화와 용역을 구입하는데 사용되는 시장이 아직은 너무 좁다는 것이다. 미국 비트코인 시장조사기관인 사토시 캐피탈 리서치에 따르면 지난 2017년 기준으로 비트코인을 사용한 거래 결제액은 약 24억달러로 중국의 알리페이와 위챗페이의 거래 결제액이 약 15조달러였음을 감안하면 지나치게 적은 시장이라는 것이다.두 번째는 비트코인은 거래 건수 급증과 블록 용량 제한 등으로 채굴을 통핸 결제 처리가 지연돼, 이용자들이 거래 완료를 위해 부담해야 하는 수수료가 높아지는 문제가 있다는 것이다. 비트코인 기반 기술인 블록체인을 구성하는 각 블록 용량은 1메가바이트로 이뤄져 있고 초당 평균 거래 처리 건수는 7건이며 약 10분마다 1개 블록이 형성된다. 반면 비자의 경우 초당 거래 처리 건수는 수 만건에 달한다.세 번째로 거래소 해킹 등과 같은 사기성 거래에 아직도 노출돼 있다는 점이다. 지난 2월 캐나다 암호화폐 거래소 쿼드리가CX대표이사이자 설립자는 사망과 거액의 고객 암호화폐 분시로 파산 보호를 신청했으며 3월 파산관재인 은 비밀키를 관리했던 설립자 사망 이전 8개월 간 핫월렛에 고객의 암호화폐가 없었다고 발표했다. 핫월렛은 인터넷과 연결돼 있는 암호화폐 전자지갑이다.세 가지 결함에도 불구 비트코인을 이용한 오프라인 결제가 이뤄지거나 다양한 나라서 디지털 화폐에 대한 실험적인 시도가 이뤄지는 상태다.이 때문에 암호화폐나 비트코인이 정말 법정통화를 보완하거나 새로운 지급결제나 가치저장 수단으로 역할을 할 수 있을지 가늠하기 위해선 내재적 결함 대처와 국내외 정부나 감독당국은 암호화폐에 대한 시각 및 규제 환경 정비가 필요하다는 게 이 보고서의 의견이다.특히 옹호론자가 지적한 세 가지 결함 중 일부는 금융소비자나 투자자들의 보호 문제와 직결돼 있는 상황이다.한국금융연구원은 \"암호화폐 수용을 검토하고 있는 정부나 감독당국들은 소비자 보호 강화 및 금융시장의 안정성 확보 관점에서 시장 참가자들의 정보 공시 의무 강화, 결제 계좌 및 전자지갑 제공 거래소나 금융사의 자본금 또는 유동성 규제를 부과하고 있다\"며 \"이밖에도 자금 세탁 차단 등에 대한 집중적인 검토가 필요하다\"고 서술했다.한편, 비트코인은 2017년 12월 중순 2만달러까지 육박했지만 올해 3월까지 4천달러까지 떨어지는 등 이 기간동안 비트코인의 시가총액은 9천억달러에서 800억달러까지 감소했다.손예술 기자(kunst@zdnet.co.kr)']"
      ]
     },
     "execution_count": 20,
     "metadata": {},
     "output_type": "execute_result"
    }
   ],
   "source": [
    "line_list[0]"
   ]
  },
  {
   "cell_type": "code",
   "execution_count": 21,
   "metadata": {},
   "outputs": [],
   "source": [
    "#line_list = [[\"A\", \"B\", \"C\", \"D\"],\n",
    "#             [\"a1\", \"b1\", \"c1\", \"d1\"],\n",
    "#             [\"a2\", \"b2\", \"c2\", \"d2\"],\n",
    "#             [\"a3\", \"b3\", \"c3\", \"d3\"]\n",
    "#            ]"
   ]
  },
  {
   "cell_type": "code",
   "execution_count": 22,
   "metadata": {},
   "outputs": [],
   "source": [
    "PATH = \"article.txt\"\n",
    "fh.save_txt(PATH, line_list[:3], encoding=\"utf-8\", separator=\"\\t\")"
   ]
  },
  {
   "cell_type": "code",
   "execution_count": 23,
   "metadata": {},
   "outputs": [],
   "source": [
    "line_list = fh.load_txt(PATH, encoding=\"utf-8\", separator=\"\\t\")"
   ]
  },
  {
   "cell_type": "code",
   "execution_count": 24,
   "metadata": {},
   "outputs": [
    {
     "data": {
      "text/plain": [
       "3"
      ]
     },
     "execution_count": 24,
     "metadata": {},
     "output_type": "execute_result"
    }
   ],
   "source": [
    "len(line_list)"
   ]
  },
  {
   "cell_type": "code",
   "execution_count": 25,
   "metadata": {},
   "outputs": [
    {
     "data": {
      "text/plain": [
       "[['비트코인',\n",
       "  'ZDNet Korea',\n",
       "  '2019-04-14 09:58:00',\n",
       "  '\"비트코인 가능성 알려면, 결함 전제로 규제 정비必\"',\n",
       "  '금융硏 비트코인 쇠락과 내재적 결함 보고서(지디넷코리아=손예술 기자)대표적인 암호화폐 비트코인의 가격이 급변동했음에도 불구, 일부 암호화폐 옹호론자들은 비트코인이 갖고 있는 몇 가지 결함이 해소되면 새로운 국면이 나타날 것으로 예측했다.그들은 이런 결함을 전제로 국내외 정부와 감독당국은 선제적으로 시각 및 규제 환경을 정비해야 한다는 주장하고 있다.14일 한국금융연구원은 비트코인 쇠락과 내재적 결함이란 보고서에서 암호화폐 옹호론자의 입장과 함께 그들이 제시한 세 가지 결함을 발표했다.여기서 암호화폐 옹호론자들은 암호화폐로 새로운 부가가치를 낼 수 있는 사업모델 등장 가능성에 집중하고 있는 인물들로 통칭된다.그러나 그들은 이를 위해서 비트코인이 세 가지 결함이 우선적으로 해소돼야 한다고 보고 있다.하나는 비트코인이 재화와 용역을 구입하는데 사용되는 시장이 아직은 너무 좁다는 것이다. 미국 비트코인 시장조사기관인 사토시 캐피탈 리서치에 따르면 지난 2017년 기준으로 비트코인을 사용한 거래 결제액은 약 24억달러로 중국의 알리페이와 위챗페이의 거래 결제액이 약 15조달러였음을 감안하면 지나치게 적은 시장이라는 것이다.두 번째는 비트코인은 거래 건수 급증과 블록 용량 제한 등으로 채굴을 통핸 결제 처리가 지연돼, 이용자들이 거래 완료를 위해 부담해야 하는 수수료가 높아지는 문제가 있다는 것이다. 비트코인 기반 기술인 블록체인을 구성하는 각 블록 용량은 1메가바이트로 이뤄져 있고 초당 평균 거래 처리 건수는 7건이며 약 10분마다 1개 블록이 형성된다. 반면 비자의 경우 초당 거래 처리 건수는 수 만건에 달한다.세 번째로 거래소 해킹 등과 같은 사기성 거래에 아직도 노출돼 있다는 점이다. 지난 2월 캐나다 암호화폐 거래소 쿼드리가CX대표이사이자 설립자는 사망과 거액의 고객 암호화폐 분시로 파산 보호를 신청했으며 3월 파산관재인 은 비밀키를 관리했던 설립자 사망 이전 8개월 간 핫월렛에 고객의 암호화폐가 없었다고 발표했다. 핫월렛은 인터넷과 연결돼 있는 암호화폐 전자지갑이다.세 가지 결함에도 불구 비트코인을 이용한 오프라인 결제가 이뤄지거나 다양한 나라서 디지털 화폐에 대한 실험적인 시도가 이뤄지는 상태다.이 때문에 암호화폐나 비트코인이 정말 법정통화를 보완하거나 새로운 지급결제나 가치저장 수단으로 역할을 할 수 있을지 가늠하기 위해선 내재적 결함 대처와 국내외 정부나 감독당국은 암호화폐에 대한 시각 및 규제 환경 정비가 필요하다는 게 이 보고서의 의견이다.특히 옹호론자가 지적한 세 가지 결함 중 일부는 금융소비자나 투자자들의 보호 문제와 직결돼 있는 상황이다.한국금융연구원은 \"암호화폐 수용을 검토하고 있는 정부나 감독당국들은 소비자 보호 강화 및 금융시장의 안정성 확보 관점에서 시장 참가자들의 정보 공시 의무 강화, 결제 계좌 및 전자지갑 제공 거래소나 금융사의 자본금 또는 유동성 규제를 부과하고 있다\"며 \"이밖에도 자금 세탁 차단 등에 대한 집중적인 검토가 필요하다\"고 서술했다.한편, 비트코인은 2017년 12월 중순 2만달러까지 육박했지만 올해 3월까지 4천달러까지 떨어지는 등 이 기간동안 비트코인의 시가총액은 9천억달러에서 800억달러까지 감소했다.손예술 기자(kunst@zdnet.co.kr)'],\n",
       " ['비트코인',\n",
       "  '한국경제',\n",
       "  '2019-03-09 07:02:00',\n",
       "  '워렌 버핏 \"비트코인은 망상\" vs 하버드대 교수 \"망상 아니다\"',\n",
       "  '비트코인 놓고 상반된 평가 내놔[ 김산하 기자  ] 니얼 퍼거슨 하버드대 교수(왼쪽), 워렌 버핏 버크셔해서웨이 회장(오른쪽)(사진=트위터)워렌 버핏 버크셔해서웨이 회장과 세계적 경제사학자 니얼 퍼거슨 하버드대 교수가 비트코인을 두고 상반된 평가를 내놓았다. 과거 비트코인을 비판하던 퍼거슨 교수는 자신의 발언을 후회한다고 언급한 반면 버핏 회장은 한층 더 부정적 시각을 견지해 눈길을 끌었다.버핏 회장은 지난달 25일(이하 현지시간) 미국 CNBC와의 인터뷰에서 “비트코인은 고유 가치가 없으며 아무것도 생산해내지 못한다. 기본적으로 망상”이라고 주장했다. 이어 “비트코인은 사기꾼들을 끌어들인다”면서 인생이 바뀔 것이라 기대하며 가상화폐(암호화폐)에 투자하는 투자자들이 안타깝다고 말했다.그는 지난해 5월 버크셔해서웨이 주주총회에서도 “비트코인은 쥐약과 같다”며 비판적 발언을 한 바 있다. 그 이전에도 비트코인을 ‘튤립 버블’이나 ‘신기루’에 비유해왔다.하지만 퍼거슨 교수는 생각이 달라졌다. 7일(현지시간) 외신에 따르면 퍼거슨 교수는 호주 경제일간지 AFR이 개최한 비즈니스 서밋의 비공개 행사에서 “암호화폐는 망상이 아니다”라고 말했다. 버핏의 주장과 정반대 입장을 밝힌 셈이다.퍼거슨 교수는 블록체인 기반의 암호화폐가 쓰일 만한 곳이 존재하지 않는다고 봤으나 생각이 바뀌었다고 했다. 그는 비트코인 가격이 절정에 달한 지난 2017년 말 미국 폭스비즈니스네트워크 방송에 출연해 “비트코인은 금융 역사상 가장 큰 버블(거품)”이라고 평가한 바 있다.그러다가 지난달에는 “비트코인은 ‘디지털 금’이 될 수 있는 후보 중 하나”라며 비트코인에 대해 긍정적으로 바뀐 시각을 내비쳤다. 또 “지난 10년간 금융의 변화보다 앞으로 10년의 금융의 변화가 훨씬 더 혁신적일 것”이라고 전망했다. 그는 최근 한 블록체인 회사 자문위원으로도 참여한 것으로 알려졌다.김산하 한경닷컴 기자 sanha@hankyung.com기사제보 및 보도자료 open@hankyung.com[한경닷컴 바로가기] [모바일한경 구독신청] 네이버에서 한국경제 채널 구독하기 <자세히 보기> ⓒ 한국경제 & hankyung.com, 무단전재 및 재배포 금지'],\n",
       " ['비트코인',\n",
       "  '한국경제',\n",
       "  '2019-04-07 09:02:00',\n",
       "  '\"가상화폐, 94년 인터넷 수준…비트코인캐시가 선두주자 될 것\"',\n",
       "  '[코인터뷰] 스테판 러스트 비트코인닷컴 비즈니스총괄[ 김산하 기자  ] 한경닷컴과 인터뷰중인 스테판 러스트(Stefan Rust) 비트코인닷컴 비즈니스 총괄\"현재 가상화폐(암호화폐) 생태계에는 약 5000만명 정도 사용자가 들어와 있는 것으로 추정됩니다. 1994~1995년경 인터넷 사용자 수와 비슷하죠. 우리가 얼마나 암호화폐 산업의 초기 단계에 있는지 알 수 있습니다.\"지난 4일 서울 장충체육관에서 개최된 열린 \\'분산경제포럼(디코노미) 2019\\'에서 한경닷컴과 인터뷰한 스테판 러스트(Stefan Rust) 비트코인닷컴 비즈니스 총괄(사진)은 현재 암호화폐 상황을 이같이 짚었다. 스테판 총괄은 \"당시엔 구글도 존재하지 않았다. 전세계 인터넷의 표준이 된 TCP/IP 프로토콜 역시 그 당시 표준 프로토콜도 아니었다\"면서 \"비트코인캐시가 초기 단계인 암호화폐 생태계에서 빠르게 표준으로 자리잡을 수 있도록 노력하겠다\"고 강조했다.비트코인닷컴은 전세계 5위 암호화폐 비트코인캐시를 이끄는 암호화폐 기업이다. 글로벌 암호화폐 전문 미디어 \\'비트코인뉴스\\'를 비롯해 암호화폐 관련 지갑 서비스, 채굴 사업, 플랫폼 사업, 게임 사업 등을 펼치고 있다. 그의 설명에 따르면 비트코인닷컴 암호화폐지갑에는 약 400만개의 활성화된 주소가 존재한다. 매일 1만5000건 상당의 활동이 발생하며 지갑 앱(응용프로그램)도 일평균 8000건 다운로드된다.비트코인닷컴은 금융 서비스의 \\'질\\'을 높이는 데 집중하고 있다. 암호화폐 지갑 앱을 통해 이용자들이 암호화폐 수탁 서비스 등 보다 좋은 금융 관리 서비스를 받을 수 있도록 하겠다는 계획이다.한경닷컴과 인터뷰중인 스테판 러스트(Stefan Rust) 비트코인닷컴 비즈니스 총괄개발자 육성에도 많은 공을 들이고 있다고 귀띔했다. 비트코인캐시의 블록체인 위에서 작동되는 앱들을 육성하기 위해서다. 비트코인닷컴은 이를 위해 개발자들이 쓸 수 있는 도구모음(Tool Set)을 만들었다. 스테판 총괄은 \"우리는 개발자들이 프로토콜 위에서 앱을 만들려 할 때 무엇을 원하는지 알고 있다\"며 \"이제 개발자들이 비트코인캐시 플랫폼을 활용해 스마트 계약이나 토큰을 쉽게 만들 수 있게 됐다\"고 의미 부여했다.비트코인닷컴은 연내 블록체인 개발자들을 위한 해커톤을 국내에서 개최할 계획. 스테판 총괄은 \"개발자들에게 비트코인캐시 플랫폼을 더 많이 알리자는 취지\"라며 \"한국은 세계 톱5 안에 드는 암호화폐 시장이고 뛰어난 개발자들이 많다. 우리는 한국과 함께 하고 싶다\"고 말했다.비트코인캐시 시세는 한경닷컴과 인터뷰한 당일까지 3일간 무려 80% 넘게 급등했다. 그는 \"같은 기간 비트코인이 약 20% 오른 것에 비하면 상승폭이 크지만 우리는 여전히 비트코인캐시가 상당히 평가절하돼 있다고 생각한다. 사람들이 비트코인캐시를 진정한 \\'결제수단\\'으로 사용하길 원한다\"고 역설했다.비트코인캐시의 다음 목표는 개인간(P2P) 가치전송 체계의 \\'표준\\'이 되는 것이라고 했다. 카카오톡의 보이스톡, 스카이프 등에 사용되는 음성 인터넷프로토콜(VoIP)을 사례로 들었다. 예컨대 과거엔 국제통화를 하려면 비싼 돈을 내고 통신사 제공 유선망을 통해 전화해야 했지만, 이젠 대부분 인터넷 전화인 VoIP를 활용해 아주 저렴한 비용으로 빠르게 통화할 수 있게 됐다는 것이다.스테판 총괄은 \"전화가 VoIP로 발전한 것처럼 암호화폐도 금융이 일종의 \\'통화 인터넷프로토콜(Money over IP)\\'로 발전한 형태\"라며 \"금전적인 가치 자체를 인터넷에 실어보낼 수 있게 됐다. 다가올 미래에는 암호화폐가 \\'미래 금융\\' 그 자체가 될 것\"이라고 내다봤다.김산하 한경닷컴 기자 sanha@hankyung.com기사제보 및 보도자료 open@hankyung.com[한경닷컴 바로가기] [모바일한경 구독신청] 네이버에서 한국경제 채널 구독하기 <자세히 보기> ⓒ 한국경제 & hankyung.com, 무단전재 및 재배포 금지']]"
      ]
     },
     "execution_count": 25,
     "metadata": {},
     "output_type": "execute_result"
    }
   ],
   "source": [
    "line_list"
   ]
  },
  {
   "cell_type": "markdown",
   "metadata": {},
   "source": [
    "### 3. 보너스: 랜덤함수\n",
    "\n",
    "---"
   ]
  },
  {
   "cell_type": "code",
   "execution_count": 27,
   "metadata": {},
   "outputs": [],
   "source": [
    "import random"
   ]
  },
  {
   "cell_type": "code",
   "execution_count": 28,
   "metadata": {},
   "outputs": [
    {
     "name": "stdout",
     "output_type": "stream",
     "text": [
      "18\n"
     ]
    }
   ],
   "source": [
    "# 1부터 100 사이의 임의의 정수\n",
    "number = random.randint(1, 100)  \n",
    "print(number)"
   ]
  },
  {
   "cell_type": "code",
   "execution_count": 29,
   "metadata": {},
   "outputs": [
    {
     "name": "stdout",
     "output_type": "stream",
     "text": [
      "0.25020531248198175\n"
     ]
    }
   ],
   "source": [
    "# 0부터 1 사이의 임의의 실수(float)\n",
    "number = random.random()   \n",
    "print(number)"
   ]
  },
  {
   "cell_type": "code",
   "execution_count": 30,
   "metadata": {},
   "outputs": [
    {
     "name": "stdout",
     "output_type": "stream",
     "text": [
      "35.80216453715876\n"
     ]
    }
   ],
   "source": [
    "# 1부터 36.5 사이의 임의의 실수(float)\n",
    "number = random.uniform(1.0, 36.5)   \n",
    "print(number)"
   ]
  },
  {
   "cell_type": "code",
   "execution_count": 31,
   "metadata": {},
   "outputs": [
    {
     "name": "stdout",
     "output_type": "stream",
     "text": [
      "35\n"
     ]
    }
   ],
   "source": [
    "# 1부터 100 사이의 임의의 짝수\n",
    "number = random.randrange(1, 101, 2) \n",
    "print(number)"
   ]
  },
  {
   "cell_type": "code",
   "execution_count": 32,
   "metadata": {},
   "outputs": [
    {
     "name": "stdout",
     "output_type": "stream",
     "text": [
      "4\n"
     ]
    }
   ],
   "source": [
    "# 0부터 9 사이의 임의의 정수\n",
    "number = random.randrange(10)  \n",
    "print(number)"
   ]
  },
  {
   "cell_type": "code",
   "execution_count": null,
   "metadata": {},
   "outputs": [],
   "source": []
  }
 ],
 "metadata": {
  "kernelspec": {
   "display_name": "Python 3",
   "language": "python",
   "name": "python3"
  },
  "language_info": {
   "codemirror_mode": {
    "name": "ipython",
    "version": 3
   },
   "file_extension": ".py",
   "mimetype": "text/x-python",
   "name": "python",
   "nbconvert_exporter": "python",
   "pygments_lexer": "ipython3",
   "version": "3.8.3"
  }
 },
 "nbformat": 4,
 "nbformat_minor": 2
}
