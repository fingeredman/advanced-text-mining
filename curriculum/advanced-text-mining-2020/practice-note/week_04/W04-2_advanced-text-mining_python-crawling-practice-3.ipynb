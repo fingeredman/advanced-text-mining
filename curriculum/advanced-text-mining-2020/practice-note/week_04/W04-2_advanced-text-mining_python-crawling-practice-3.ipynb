{
 "cells": [
  {
   "cell_type": "markdown",
   "metadata": {},
   "source": [
    "# ADVANCED TEXT MINING\n",
    "- 본 자료는 텍스트 마이닝을 활용한 연구 및 강의를 위한 목적으로 제작되었습니다.\n",
    "- 본 자료를 강의 목적으로 활용하고자 하시는 경우 꼭 아래 메일주소로 연락주세요.\n",
    "- 본 자료에 대한 허가되지 않은 배포를 금지합니다.\n",
    "- 강의, 저작권, 출판, 특허, 공동저자에 관련해서는 문의 바랍니다.\n",
    "- **Contact : ADMIN(admin@teanaps.com)**\n",
    "\n",
    "---"
   ]
  },
  {
   "cell_type": "markdown",
   "metadata": {},
   "source": [
    "## WEEK 04-2. 동적 페이지 수집하기: 인스타그램\n",
    "- Python을 활용해 가상의 브라우저를 띄워 웹페이지에서 데이터를 크롤링하는 방법에 대해 다룹니다.\n",
    "\n",
    "---"
   ]
  },
  {
   "cell_type": "markdown",
   "metadata": {},
   "source": [
    "> **\\*\\*\\* 주의사항 \\*\\*\\***  \n",
    "본 자료에서 설명하는 웹크롤링하는 방법은 해당 기법에 대한 이해를 돕고자하는 교육의 목적으로 사용되었으며,  \n",
    "이를 활용한 대량의 무단 크롤링은 범죄에 해당할 수 있음을 알려드립니다."
   ]
  },
  {
   "cell_type": "markdown",
   "metadata": {},
   "source": [
    "### 1. 가상의 브라우저 실행하기: Chrome Driver\n",
    "\n",
    "---"
   ]
  },
  {
   "cell_type": "code",
   "execution_count": 1,
   "metadata": {},
   "outputs": [],
   "source": [
    "# 가상의 브라우저를 컨트롤 할 수 있도록 도와주는 selenium 패키지를 설치합니다.\n",
    "# 아래 주석을 해지하고 셀을 실행합니다.\n",
    "# 설치는 한번만 수행하면 되며, 재설치시 Requirement already satisfied: ~ 라는 메시지가 출력됩니다.\n",
    "\n",
    "#!pip install selenium"
   ]
  },
  {
   "cell_type": "code",
   "execution_count": 2,
   "metadata": {},
   "outputs": [],
   "source": [
    "# Python 코드를 통해 가상의 브라우저를 띄우기 위해 selenium 패키지를 import 합니다.\n",
    "import selenium\n",
    "from selenium import webdriver\n",
    "from selenium.webdriver.common.by import By\n",
    "\n",
    "# selenium을 활용해 브라우저를 직접 띄우는 경우, 실제 웹서핑을 할때처럼 로딩시간이 필요합니다.\n",
    "# 로딩시간 동안 대기하도록 코드를 구성하기위해 time 패키지를 import 합니다.\n",
    "import time\n",
    "\n",
    "# Python 코드를 통해 웹페이지에 정보를 요청하기 위해 BeautifulSoup, urllib 패키지를 import 합니다.\n",
    "from bs4 import BeautifulSoup\n",
    "import requests"
   ]
  },
  {
   "cell_type": "code",
   "execution_count": 3,
   "metadata": {},
   "outputs": [
    {
     "name": "stderr",
     "output_type": "stream",
     "text": [
      "<ipython-input-3-9c2777329be6>:16: DeprecationWarning: use options instead of chrome_options\n",
      "  driver = webdriver.Chrome(executable_path = \"./chromedriver\", chrome_options=chrome_options)\n"
     ]
    }
   ],
   "source": [
    "# Chrome Driver를 호출합니다.\n",
    "chrome_options = webdriver.ChromeOptions()\n",
    "\n",
    "# 브라우저에 임의로 User-agent 옵션을 넣어 Python 코드로 접속함을 숨깁니다.\n",
    "chrome_options.add_argument('--user-agent=\"Mozilla/5.0 (Macintosh; Intel Mac OS X 10_13_4) AppleWebKit/537.36 (KHTML, like Gecko) Chrome/66.0.3359.139 Safari/537.36\"')\n",
    "\n",
    "# Chrome Driver 파일의 경로를 지정하고 실행합니다.\n",
    "# Chrome Driver는 아래 링크에서 다운로드 가능합니다.\n",
    "\n",
    "# 본 Jupyter Notebook 파일과 동일한 경로에 Chrome Driver가 존재하는 경우 아래 경로를 그대로 사용합니다.\n",
    "\n",
    "# Windows 운영체제\n",
    "#driver = webdriver.Chrome(executable_path = \"chromedriver\", chrome_options=chrome_options)\n",
    "\n",
    "# MAC, Linux 운영체제\n",
    "driver = webdriver.Chrome(executable_path = \"./chromedriver\", chrome_options=chrome_options)"
   ]
  },
  {
   "cell_type": "markdown",
   "metadata": {},
   "source": [
    "Chrome Driver 다운로드 URL : http://chromedriver.chromium.org/downloads"
   ]
  },
  {
   "cell_type": "markdown",
   "metadata": {},
   "source": [
    "### 2. 가상의 브라우저를 활용에 사이트 접속하기\n",
    "\n",
    "---"
   ]
  },
  {
   "cell_type": "code",
   "execution_count": 4,
   "metadata": {},
   "outputs": [],
   "source": [
    "# 브라우저에서 URL에 해당하는 페이지로 이동합니다.\n",
    "URL = \"https://www.instagram.com/\"\n",
    "driver.get(URL)\n",
    "# 실제 페이지가 불러와지는 시간을 고려해 sleep(SEC) 함수로 기다리는 시간을 지정해줍니다.\n",
    "time.sleep(10)"
   ]
  },
  {
   "cell_type": "code",
   "execution_count": 6,
   "metadata": {},
   "outputs": [],
   "source": [
    "# 인스타그램 게시물에 접근하기 위해서는 로그인이 필요합니다.\n",
    "# 인스타그램 로그인 페이지로 이동합니다.\n",
    "# click() 함수로 원하는 요소(태그)를 클릭할 수 있습니다.\n",
    "driver.find_element(By.CLASS_NAME, \"izU2O\").find_element(By.TAG_NAME, \"a\").click()\n",
    "time.sleep(10)"
   ]
  },
  {
   "cell_type": "code",
   "execution_count": 7,
   "metadata": {},
   "outputs": [],
   "source": [
    "# 인스타그램 로그인 페이지에서 아이디(ID)와 비밀번호(PW)를 입력합니다.\n",
    "# 아이디와 비밀번호를 브라우저에서 직접 입력해도 됩니다.\n",
    "ID = \"여기에 ID를 입력합니다.\"\n",
    "PW = \"여기에 PW를 입력합니다.\"\n",
    "driver.find_element(By.NAME, \"username\").send_keys(ID)\n",
    "driver.find_element(By.NAME, \"password\").send_keys(PW)\n",
    "time.sleep(2)"
   ]
  },
  {
   "cell_type": "code",
   "execution_count": 7,
   "metadata": {
    "collapsed": true
   },
   "outputs": [],
   "source": [
    "# 로그인 버튼을 직접 클릭해 로그인합니다.\n",
    "# Selenium으로 로그인 버튼을 클릭하는 경우 자동입력방지문자를 입력해야 합니다."
   ]
  },
  {
   "cell_type": "code",
   "execution_count": 8,
   "metadata": {
    "collapsed": true
   },
   "outputs": [],
   "source": [
    "# 알림 설정 관련 선택창이 출현한 경우에 \"나중에 하기\"를 선택합니다.\n",
    "# 알림 설정 창이 출현하지 않는다면 실행을 하지 말아주세요.\n",
    "driver.find_element(By.CLASS_NAME, \"mt3GC\").find_elements(By.TAG_NAME, \"button\")[1].click()"
   ]
  },
  {
   "cell_type": "code",
   "execution_count": 22,
   "metadata": {},
   "outputs": [],
   "source": [
    "# 인스타그램 검색창에 해시태그를 검색합니다.\n",
    "\n",
    "# 검색어를 입력합니다.\n",
    "keyword = \"#빅데이터\"\n",
    "search_form = driver.find_element(By.CSS_SELECTOR, \"#react-root > section > nav > div._8MQSO.Cx7Bp > div > div > div.LWmhU._0aCwM > input\")\n",
    "search_form.send_keys(keyword)\n",
    "time.sleep(5)"
   ]
  },
  {
   "cell_type": "code",
   "execution_count": 23,
   "metadata": {},
   "outputs": [],
   "source": [
    "# 해시태그 검색결과 중 가장 상위에 출현한 해시태그 검색결과로 이동합니다.\n",
    "search_url = driver.find_element(By.CLASS_NAME, \"fuqBx\").find_element(By.TAG_NAME, \"a\").get_attribute(\"href\")\n",
    "driver.get(search_url)\n",
    "time.sleep(5)"
   ]
  },
  {
   "cell_type": "markdown",
   "metadata": {},
   "source": [
    "### 3. 인스타그램 게시물 본문 수집하기\n",
    "\n",
    "---"
   ]
  },
  {
   "cell_type": "code",
   "execution_count": 24,
   "metadata": {},
   "outputs": [
    {
     "name": "stdout",
     "output_type": "stream",
     "text": [
      "Scroll 횟수 : 3\r"
     ]
    }
   ],
   "source": [
    "# 수집된 게시물 개수를 저장할 변수를 선언합니다.\n",
    "post_count = 0\n",
    "\n",
    "# 게시물 내용을 저장할 파일을 생성합니다.\n",
    "# 파일명에는 \"#\"을 포함할 수 없으므로 제거해줍니다.\n",
    "f = open(\"instagram_post_\" + keyword.replace(\"#\", \"\") + \".txt\", \"w\", encoding = \"utf-8\")\n",
    "\n",
    "# 인스타그램 게시물은 스크롤을 계속 내려야 모든 게시물을 확인할 수 있습니다.\n",
    "# 몇 번 스크롤을 내리면서 게시물을 수집할지 지정합니다.\n",
    "# 게시물이 양이 많을수록 스크롤 횟수를 늘려줍니다.\n",
    "scroll_limit = 3\n",
    "\n",
    "# 수집된 전체 게시물을 저장할 리스트를 생성합니다.\n",
    "# 중복된 게시물 수집을 방지하기위해 활용됩니다.\n",
    "total_post_list = []\n",
    "\n",
    "for i in range(scroll_limit+1):\n",
    "    # 현재 내려진 스크롤 횟수를 출력합니다.\n",
    "    print(\"Scroll 횟수 :\", i, end=\"\\r\")\n",
    "    time.sleep(2)\n",
    "    # 현재 화면상에 출현한 게시물 모두를 불러와 리스트에 저장합니다.\n",
    "    post_list = driver.find_elements(By.CLASS_NAME, \"_9AhH0\")\n",
    "    # 이미 수집된 게시물이 있는지 확인하고 새로운 게시물만 리스트에 저장합니다.\n",
    "    post_list = [post for post in post_list if post not in total_post_list]\n",
    "    # 수집할 게시물을 수집된 전체 게시물 리스트에 추가합니다.\n",
    "    total_post_list += post_list\n",
    "    \n",
    "    # FOR 문을 활용해 게시물 지정을 반복합니다. (1.~4. 반복)\n",
    "    for post in post_list:\n",
    "        try:\n",
    "            # 1. 포스팅 이미지를 클릭합니다.\n",
    "            post.click()\n",
    "            time.sleep(3)\n",
    "            # 2. 포스팅 본문의 텍스트를 가져옵니다.\n",
    "            try:\n",
    "                content = driver.find_element(By.CLASS_NAME, \"C4VMK\").text\n",
    "                content = content.replace(\"\\n\", \" \")\n",
    "                f.write(content + \"\\n\")\n",
    "            except:\n",
    "                None\n",
    "            # 3. 수집한 포스트 개수를 늘려줍니다.\n",
    "            post_count += 1\n",
    "            # 4. 우측 상단의 X를 눌러 팝업창을 닫습니다.\n",
    "            driver.find_element(By.XPATH, \"/html/body/div[4]/div[3]/button/div\").click()\n",
    "        except:\n",
    "            continue\n",
    "            \n",
    "    # 스크롤을 내려 추가로 게시물이 브라우저에 보이도록 합니다.\n",
    "    driver.execute_script(\"window.scrollTo(0, document.body.scrollHeight);\")\n",
    "    time.sleep(2)\n",
    "f.close()"
   ]
  },
  {
   "cell_type": "code",
   "execution_count": 25,
   "metadata": {},
   "outputs": [
    {
     "name": "stdout",
     "output_type": "stream",
     "text": [
      "> 수집한 총 게시물 개수 : 102\n"
     ]
    }
   ],
   "source": [
    "print(\"> 수집한 총 게시물 개수 :\", post_count)"
   ]
  },
  {
   "cell_type": "code",
   "execution_count": 26,
   "metadata": {},
   "outputs": [],
   "source": [
    "# Chrome Driver를 닫습니다.\n",
    "driver.close()"
   ]
  },
  {
   "cell_type": "code",
   "execution_count": 28,
   "metadata": {},
   "outputs": [
    {
     "name": "stdout",
     "output_type": "stream",
     "text": [
      "_zwxnn_ 우리의 고1때 이후 두번째 이미지 사진🥰 너와 나의 꿈을 응원해^^ . . . . . . . . . #원주 #너를담다 #사진관 #너를담다스튜디오 #이미지 #이미지사진 #우정사진 #간호사 #간호학과 #소프트웨어 #개발자 #빅데이터 #IT #회사원 #실습복 #정장 #00 #21 #21살 #대학생 #간호학생 #공대생 #followｍe #맞팔 #selfie #ootd #오늘의패션 1일\n",
      "_zwxnn_ 하나 더 ㅎㅎ 서로의 미래를 응원하자 . . . . . . . . . . . .  #원주 #너를담다 #사진관 #너를담다스튜디오 #이미지 #이미지사진 #우정사진 #간호사 #간호학과 #소프트웨어 #개발자 #빅데이터 #IT #회사원 #실습복 #정장 #00 #21 #21살 #대학생 #간호학생 #공대생 #followｍe #맞팔 #selfie #ootd #오늘의패션 1일\n",
      "seung_ju_bookstory 👨‍💻 앱에 생채정보 올리면 집에서 비대면진료 . . 🔹️언컨텍트 김용섭 작가님의 말중에 컨텍트하기위해 언컨택트하는것이다 라는말이 생각나네요.  🔹️이모든 변화들이 결국은 우리의 생존과 직결되어 있으며 전보다 더안전성을추구하고 편리함과 합리적인 삶을 살기위한 변화인것인것입니다 . 🔸️헬스케어플랫폼.원격의료 이젠 더이상 남의 이야기가아니죠 미국.중국.일본도 원격의료를도입했는데.아직우리나라는 개인정보법에 따른문제때문에 다른나라에비해 상황이 쉽지만은 않네요. . 🔸️스마트헬스케어플랫폼 헬스온을 개발한 헬스커넥트는 원격의료를 할수있다는강점을 내세우고 있네요 . 🔸️헬스온은 만성관리.AI 기반질환 예측 원격모니터등 다양한 기능을갖춘 디지털 의료플랫폼. 스마트폰 어플리케이션(앱)이나 전용기기를 통해개인별 생체정보를 수집하고 원격진료를받으며 AI 가 분석한 개안맞춤형 생활패턴과 만성잘환발병에 대한예측도 할수있다 . . 환자에게 식단.운동.투약시간등을 알려 생활속에서 만성질환을관리할수있도록 돕는다. 환자가 혈압이나 혈당등 자가 검사를 하면 이를 기록해 데이터베이스에 저장 생활데이터와 의료데이터는 의사에게전달되고 환자는집에서 헬스온을 통해 비대면 진료를받을수있다.  빅데이터와 AI 를 통해 개인맞춤형 만성질환예측서비스를 제공한다는점이 특징이다... . . 🔹️인간의삶이 더 편리하고 안전하게 더좋은 의료서비스를 받을수있기를 바래봅니다. . . #앱#원격의료#비대면진료#디지털의료플랫폼#빅데이터#AI #K방역#헬스온#언컨택트#개인정보법 #만성질환 9주\n",
      "happydream_jieun #bookstagram #책리뷰 BC카드 빅데이터센터가 최초로 공개하는 한국인의 소비지도 ‘빅데이터, 사람을 읽다.’ . . 데이터를 통해 사람을 읽을 수 있다는 사실을 안다면 더이상 빅데이터를 읽는 기술은 선택이 아닌 필수 . . ‘빅데이터, 사람을 읽다’는 데이터를 통해 드러나는 사람의 심리, 소비패턴, 유형 등이 상세하게 담겨있고 각각의 특징과 앞으로의 트렌드까지 함께 엿볼 수 있는 책 *개인의 소비 패턴이 어떤 유형에 속하는지도 셀프 점검 가능 . . 트렌드 코리아 2020이 전반적인 큰 그림을 읽을 수 있게 해 준다면 빅데이터 사람을 읽다에서는 그 안의 세부적인 사항들을 들여다 볼 수 있게 해준다. . . 현재 조성되어 있는 지역별 상권이 왜 핫플이 되고 있는지 앞으로는 어떤 트렌드가 예상되는지 데이터가 말해주고 있다. . . 빅데이터의 기본 개념이나 왜 알아야 하는지 궁금하신 분들을 위한 책이라 생각합니다. . . #책스타그램 #빅데이터사람을읽다 #미래북살롱 38주\n",
      "seung_ju_bookstory 💠 마이데이터 적금 출시.💠 . 1️⃣ 위치 정보 주니 이자 더주는 마이데이터적금 출시 . 2️⃣ 신용정보법 개정안 5일시행. 마이데이터 시대 활짝. . . 3️⃣ NH농협은행이 고객 위치 정보를 활용한 금융 상품을 처음으로 출시했다. 은행권 상품개발에 통신사 기지국 데이터를 활용한 첫사례다. 마이데이터 시장이 열리면서 은행들은 고객정보를 인증하면 우대금리를 제공하는 'NH 가고싶은 대한민국 적금'을 출시했다. 여행.체험과 금융을 결합시킨 상품. 고객이 인증한 권역수에 따라 0.1%포인트에서 2.5% 포인트까지우대금리를 차등 제공한다. 우대금리를 포함한최고 금리는 연 3.2%다. . 4️⃣마이데이터 사업은 은행.카드.보험.통신사등 여러곳에 흩어져있던 개인데이터를 수집해 소비자가 한눈에 살펴볼수있게 하는것이다. 데이터 소유권을 금융사가 아니라 내가 갖게된다.  5️⃣ 마이데이터 예비허가사전 신청을 받은금융위는 다음달부터 총 세차례씩 걸쳐 한번에 최대 20곳씩 허가를 내준다 앞으로 금융권에서는 고객데이터를 활용한맞춤형 금융상품 추천이나 개인자문서비스(PB) 등이 가능해질것이다 . . 🌱🌱🌱🌱🌱🌱🌱🌱🌱🌱🌱🌱🌱  💜 우리나라 마이데이터 산업은많이 뒤쳐진상태라고 알고 있어요 의료데이터나 금융데이터는 개인정보 보호법에따라 거래하지못하게 잠겨있는상태입니다. 미국등 다른나라들은 다 개방해놓았고 데이터의 유연성과 힘때문에 구글이나 아마존 유투브등이 크게 발전하고 있는거지요 우리나라도 하나의 돌파구가 있다면 마이데이터를 활용해야하는것 데이터 주인이 허락한다면 쓰도록 하는방향.. 우리가 데이터를 생산하기도하지만 데이터로부터 수혜를 받는 방법들도 잘 모색해야할것같아요💜 . . . #마이데이터 #마이데이터적금 #개인정보보호법 #데이터활용 #빅데이터 #금융데이터 #데이터의힘 #데이터생산 #신문읽는 여자 7주\n",
      "alice_wonderland486 사무실 물건들어 오는거 확인하고 따뜻한 아메리카노 던킨~♡ 오늘도 좋은 하루  #성수동핫플레이스 #역삼동던킨도너츠 #의정부맛집#비대면 #굿모닝👍#언택2호점 #웃는얼굴은웃는인생#던킨도너츠#데일리#커리우먼#cs강사#승무원교육#취업교육#빅데이터#운동#의정부미용실#의정부헬스장 #직장인헬스#데일리스타그램#성수동카페#역삼동헬스장 4일\n",
      "htech_smartlogistics 📣승전보 #창업아이템경진대회 본선 진출 확정!!! 파죽지세📈 팀스마트로직스~우리학생들 수고 많았습니다.💜💚💙 · · #한국폴리텍대학 #영남융합기술캠퍼스 #하이테크과정 #4차산업 #빅데이터 #iot #인공지능 #logistics # #물류 #스마트물류 #글로벌마케팅 #국비무료교육 #대면수업 #미니프로젝트 #프리젠테이션 #발표역량강화 #취업포트폴리오 #ict멘토링 #영남융합기술캠퍼스스마트물류과 #빅데이터분석 #데이터분석 #기획전략 #제안발표 #it기술 #창업아이템경진대회 #폴리텍리그 #kopostartup 1시간\n",
      "ojk8401 Money Never Sleeps.  20년 9월 국내주식 손익 +2001만원  20년 9월 해외선물 손익 +2375만원  9월 총수익 +4376만원 월최고수익수익^^  국내증시는 9월14일을 고점으로 조정이 시작되었고 추석을 앞두고 기술적반등.  조정시작과 동시에 수익실현하고 저점에서 다시 분할매수.  올 3월에 당했기때문에 이번엔 빠르게 대처해서 큰 피해없이 수익종목들 익절하니 이번달은 수익금이 높구나. 점점 시장변동성에 리듬을 타면서 매매스킬도 늘어나고 있고 종목발굴과 차르분석도 어느정도 보이기 시작한다. 먹을수있을때 빨리 벌어둬서 빌딩하나사서 월세받고 살고파~ 가즈아~  현금은 쓰레기다.  #주식 #4차산업혁명 #5G #핀테크 #시스템반도체 #수소차 #AI #빅데이터 #주식투자 #동학개미 #주린이 #언텍트 #전기차 #데이터센터 #금융 #경제 #재테크 #매매일지 #주식스타그램 #자율주행 #반도체 #개미투자자 #재무설계 #자산관리 #투자 #금융위기 #daily #JK인베스트 #MoneyNeverSleeps 2시간\n",
      "educationkorea 코로나19로 모두가 지치고 힘들었던 무더운 여름을 지나 어느덧 가을의 한가운데에 접어드는 민족 최대의 명절 '추석'입니다🧧🎊 ⠀ 추석의 유래는 가을철 저녁의 달빛이 가장 좋은 밤이라고 합니다💫🌕💫🌕 ⠀ 모두가 어렵고 힘든 시기이지만 한가위 달빛 아래 밝게 빛나는 보름달처럼 웃음과 건강이 가정에 가득하시길 바라며❤️👨‍👩‍👧‍👦  대한민국 교육박람회와 함께 풍요롭고 행복한 한가위 되시길바랍니다🙏🏻🙏🏻 - 교육이 미래다🏫 제18회 대한민국 교육박람회 EDUCATION KOREA 2021 2021. 1. 14(목)~16(토) COEX - #교육 #대한민국교육박람회 #교육부 #교육개혁 #에듀테크 #인공지능 #AI #빅데이터 #코딩로봇 #메이커스 #STEAM #교육혁신 #로봇 #로봇대회 #조기교육 #진로체험 #창의교육 #미래교육 #혁신교육 #공간혁신 #스마트스쿨 #스마트학교 #추석 #한가위 6시간\n",
      "p_m_art_e 오랜만에 올리는 전시 <빅데이터가 사랑한 한글> 2020년 10월 9일 한글날을 맞이하여 준비된 사비나미술관의 한글전시 현재 진행 중이며, 11월 14일까지 전시합니다. #윤동주 #시 #빅데이터 #작가 이렇게 만나 펼쳐진 평범하지 않은 한글전시 절대 나의 목소리가 온라인 도슨트 되어서 올리는 것 아님 :)  #고명근 #김신일 #양대원 #장준석 #진달래박우혁 #최현주이종호김한호 #테리보더 #황선태  사비나미술관 2층은 <나자신의 노래> 전시 진행 중  #나자신의노래 #빅데이터가사랑한한글 #서울전시 #미술관 #한글날 #한글전시 8시간\n"
     ]
    }
   ],
   "source": [
    "# 파일에 저장된 카페 게시글 내용을 확인합니다.\n",
    "f = open(\"instagram_post_\" + keyword.replace(\"#\", \"\") + \".txt\", encoding=\"utf-8\")\n",
    "for post in f.read().split(\"\\n\")[:10]:\n",
    "    print(post.strip())\n",
    "f.close()"
   ]
  },
  {
   "cell_type": "code",
   "execution_count": null,
   "metadata": {},
   "outputs": [],
   "source": []
  }
 ],
 "metadata": {
  "kernelspec": {
   "display_name": "Python 3",
   "language": "python",
   "name": "python3"
  },
  "language_info": {
   "codemirror_mode": {
    "name": "ipython",
    "version": 3
   },
   "file_extension": ".py",
   "mimetype": "text/x-python",
   "name": "python",
   "nbconvert_exporter": "python",
   "pygments_lexer": "ipython3",
   "version": "3.8.3"
  }
 },
 "nbformat": 4,
 "nbformat_minor": 2
}
