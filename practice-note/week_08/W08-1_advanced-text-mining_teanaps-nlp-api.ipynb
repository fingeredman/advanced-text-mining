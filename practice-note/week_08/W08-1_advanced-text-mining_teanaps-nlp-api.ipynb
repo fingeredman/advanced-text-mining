{
 "cells": [
  {
   "cell_type": "markdown",
   "metadata": {},
   "source": [
    "# ADVANCED TEXT MINING\n",
    "- 본 자료는 텍스트 마이닝을 활용한 연구 및 강의를 위한 목적으로 제작되었습니다.\n",
    "- 본 자료를 강의 목적으로 활용하고자 하시는 경우 꼭 아래 메일주소로 연락주세요.\n",
    "- 본 자료에 대한 허가되지 않은 배포를 금지합니다.\n",
    "- 강의, 저작권, 출판, 특허, 공동저자에 관련해서는 문의 바랍니다.\n",
    "- **Contact : ADMIN(admin@teanaps.com)**\n",
    "\n",
    "---"
   ]
  },
  {
   "cell_type": "markdown",
   "metadata": {},
   "source": [
    "## WEEK 08-1. TEANAPS 자연어처리 API 활용하기\n",
    "- Python으로 TEANAPS API를 호출하여 자연어처리를 수행하는 방법에 대해 다룹니다.\n",
    "\n",
    "---"
   ]
  },
  {
   "cell_type": "markdown",
   "metadata": {},
   "source": [
    "### 1. API 호출방법: GET/POST 방식\n",
    "\n",
    "---"
   ]
  },
  {
   "cell_type": "code",
   "execution_count": 1,
   "metadata": {},
   "outputs": [],
   "source": [
    "import requests"
   ]
  },
  {
   "cell_type": "markdown",
   "metadata": {},
   "source": [
    "#### 1.1. GET 방식 API 호출하기\n",
    "\n",
    "---"
   ]
  },
  {
   "cell_type": "code",
   "execution_count": 2,
   "metadata": {},
   "outputs": [
    {
     "name": "stdout",
     "output_type": "stream",
     "text": [
      "{'code': 200, 'api_condition': 'free'}\n"
     ]
    }
   ],
   "source": [
    "URL = \"http://api.teanaps.com\"\n",
    "VERSION = \"/v1\"\n",
    "URL_PATTERN = \"/alive\"\n",
    "DATA = \"?access_token=REQ-TO-TEANAPS-ADMIN\"\n",
    "url = URL + VERSION + URL_PATTERN + DATA\n",
    "r = requests.get(url)\n",
    "j = r.json()\n",
    "print(j)"
   ]
  },
  {
   "cell_type": "markdown",
   "metadata": {},
   "source": [
    "#### 1.2. POST 방식 API 호출하기\n",
    "\n",
    "---"
   ]
  },
  {
   "cell_type": "code",
   "execution_count": 3,
   "metadata": {},
   "outputs": [
    {
     "name": "stdout",
     "output_type": "stream",
     "text": [
      "{'code': 200, 'api_condition': 'free'}\n"
     ]
    }
   ],
   "source": [
    "URL = \"http://api.teanaps.com\"\n",
    "VERSION = \"/v1\"\n",
    "URL_PATTERN = \"/alive\"\n",
    "data = {\n",
    "    \"access_token\": \"REQ-TO-TEANAPS-ADMIN\"\n",
    "} \n",
    "url = URL + VERSION + URL_PATTERN\n",
    "r = requests.post(url, data=data)\n",
    "j = r.json()\n",
    "print(j)"
   ]
  },
  {
   "cell_type": "markdown",
   "metadata": {},
   "source": [
    "### 2. TEANAPS 자연어처리 API 호출하기\n",
    "\n",
    "---"
   ]
  },
  {
   "cell_type": "markdown",
   "metadata": {},
   "source": [
    "#### 2.1. API 응답체크 및 ACCESS_TOKEN 유효성 확인하기\n",
    "\n",
    "---"
   ]
  },
  {
   "cell_type": "code",
   "execution_count": 4,
   "metadata": {},
   "outputs": [
    {
     "name": "stdout",
     "output_type": "stream",
     "text": [
      "{'code': 200, 'api_condition': 'free'}\n"
     ]
    }
   ],
   "source": [
    "URL = \"http://api.teanaps.com\"\n",
    "VERSION = \"/v1\"\n",
    "URL_PATTERN = \"/alive\"\n",
    "data = {\n",
    "    \"access_token\": \"REQ-TO-TEANAPS-ADMIN\"\n",
    "} \n",
    "url = URL + VERSION + URL_PATTERN\n",
    "r = requests.post(url, data=data)\n",
    "j = r.json()\n",
    "print(j)"
   ]
  },
  {
   "cell_type": "markdown",
   "metadata": {},
   "source": [
    "#### 2.2. 형태소분석기 API 호출하기\n",
    "\n",
    "---"
   ]
  },
  {
   "cell_type": "code",
   "execution_count": 5,
   "metadata": {},
   "outputs": [
    {
     "name": "stdout",
     "output_type": "stream",
     "text": [
      "{'code': 200, 'sentence': '손흥민은 2015년 레버쿠젠에서 토트넘 핫스퍼로 이적했다.', 'pos_list': [{'pos': '손흥민', 'pos_tag': 'NNP', 'ner_tag': 'PS', 'location': [0, 3]}, {'pos': '은', 'pos_tag': 'JX', 'ner_tag': 'UN', 'location': [3, 4]}, {'pos': '2015년', 'pos_tag': 'NNP', 'ner_tag': 'DT', 'location': [5, 10]}, {'pos': '레버쿠젠', 'pos_tag': 'NNP', 'ner_tag': 'OG', 'location': [11, 15]}, {'pos': '에서', 'pos_tag': 'JKB', 'ner_tag': 'UN', 'location': [15, 17]}, {'pos': '토트넘 핫스퍼', 'pos_tag': 'NNP', 'ner_tag': 'OG', 'location': [18, 25]}, {'pos': '로', 'pos_tag': 'JKB', 'ner_tag': 'UN', 'location': [25, 26]}, {'pos': '이적', 'pos_tag': 'NNG', 'ner_tag': 'UN', 'location': [27, 29]}, {'pos': '했', 'pos_tag': 'XSV+EP', 'ner_tag': 'UN', 'location': [29, 30]}, {'pos': '다', 'pos_tag': 'EF', 'ner_tag': 'UN', 'location': [30, 31]}, {'pos': '.', 'pos_tag': 'SW', 'ner_tag': 'UN', 'location': [31, 32]}]}\n"
     ]
    }
   ],
   "source": [
    "URL = \"http://api.teanaps.com\"\n",
    "VERSION = \"/v1\"\n",
    "URL_PATTERN = \"/nlp/pos\"\n",
    "data = {\n",
    "    \"access_token\": \"REQ-TO-TEANAPS-ADMIN\",\n",
    "    \"sentence\": \"손흥민은 2015년 레버쿠젠에서 토트넘 핫스퍼로 이적했다.\"\n",
    "} \n",
    "\n",
    "url = URL + VERSION + URL_PATTERN\n",
    "r = requests.post(url, data=data)\n",
    "j = r.json()\n",
    "print(j)"
   ]
  },
  {
   "cell_type": "markdown",
   "metadata": {},
   "source": [
    "#### 2.3. 개체명인식기 API 호출하기\n",
    "\n",
    "---"
   ]
  },
  {
   "cell_type": "code",
   "execution_count": 6,
   "metadata": {},
   "outputs": [
    {
     "name": "stdout",
     "output_type": "stream",
     "text": [
      "{'code': 200, 'sentence': '손흥민은 2015년 레버쿠젠에서 토트넘 핫스퍼로 이적했다.', 'ner_list': [{'entity': '손흥민', 'ner_tag': 'PS', 'location': [0, 3]}, {'entity': '2015년', 'ner_tag': 'DT', 'location': [5, 10]}, {'entity': '레버쿠젠', 'ner_tag': 'OG', 'location': [11, 15]}, {'entity': '토트넘 핫스퍼', 'ner_tag': 'OG', 'location': [18, 25]}]}\n"
     ]
    }
   ],
   "source": [
    "URL = \"http://api.teanaps.com\"\n",
    "VERSION = \"/v1\"\n",
    "URL_PATTERN = \"/nlp/ner\"\n",
    "data = {\n",
    "    \"access_token\": \"REQ-TO-TEANAPS-ADMIN\",\n",
    "    \"sentence\": \"손흥민은 2015년 레버쿠젠에서 토트넘 핫스퍼로 이적했다.\"\n",
    "} \n",
    "\n",
    "url = URL + VERSION + URL_PATTERN\n",
    "r = requests.post(url, data=data)\n",
    "j = r.json()\n",
    "print(j)"
   ]
  },
  {
   "cell_type": "markdown",
   "metadata": {},
   "source": [
    "#### 2.4. 감성분석 API 호출하기\n",
    "\n",
    "---"
   ]
  },
  {
   "cell_type": "code",
   "execution_count": 7,
   "metadata": {},
   "outputs": [
    {
     "name": "stdout",
     "output_type": "stream",
     "text": [
      "{'code': 200, 'sentence': '손흥민은 이번 퇴장으로 1년 동안 3번째 퇴장을 기록했다.', 'sentiment': 'negative', 'sentiment_score': {'positive': 0.037, 'negative': 0.9626}}\n"
     ]
    }
   ],
   "source": [
    "URL = \"http://api.teanaps.com\"\n",
    "VERSION = \"/v1\"\n",
    "URL_PATTERN = \"/text_analysis/sentiment\"\n",
    "data = {\n",
    "    \"access_token\": \"REQ-TO-TEANAPS-ADMIN\",\n",
    "    \"sentence\": \"손흥민은 이번 퇴장으로 1년 동안 3번째 퇴장을 기록했다.\"\n",
    "} \n",
    "\n",
    "url = URL + VERSION + URL_PATTERN\n",
    "r = requests.post(url, data=data)\n",
    "j = r.json()\n",
    "print(j)"
   ]
  },
  {
   "cell_type": "code",
   "execution_count": null,
   "metadata": {},
   "outputs": [],
   "source": []
  }
 ],
 "metadata": {
  "kernelspec": {
   "display_name": "Python 3",
   "language": "python",
   "name": "python3"
  },
  "language_info": {
   "codemirror_mode": {
    "name": "ipython",
    "version": 3
   },
   "file_extension": ".py",
   "mimetype": "text/x-python",
   "name": "python",
   "nbconvert_exporter": "python",
   "pygments_lexer": "ipython3",
   "version": "3.8.3"
  }
 },
 "nbformat": 4,
 "nbformat_minor": 2
}
