{
 "cells": [
  {
   "cell_type": "markdown",
   "metadata": {},
   "source": [
    "# ADVANCED TEXT MINING\n",
    "- 본 자료는 텍스트 마이닝을 활용한 연구 및 강의를 위한 목적으로 제작되었습니다.\n",
    "- 본 자료를 강의 목적으로 활용하고자 하시는 경우 꼭 아래 메일주소로 연락주세요.\n",
    "- 본 자료에 대한 허가되지 않은 배포를 금지합니다.\n",
    "- 강의, 저작권, 출판, 특허, 공동저자에 관련해서는 문의 바랍니다.\n",
    "- **Contact : ADMIN(admin@teanaps.com)**\n",
    "\n",
    "---"
   ]
  },
  {
   "cell_type": "markdown",
   "metadata": {},
   "source": [
    "## WEEK 11-1. 키워드 추출 (Keyword Extraction)\n",
    "- Python으로 문서에서 키워드 추출하는 방법에 대해 다룹니다.\n",
    "\n",
    "---"
   ]
  },
  {
   "cell_type": "code",
   "execution_count": null,
   "metadata": {},
   "outputs": [],
   "source": [
    "# 텍스트 분석을 위한 TEANAPS 패키지를 설치합니다.\n",
    "# TEANAPS는 Google Colaboratory/Linux 환경에 최적화되어 있습니다.\n",
    "# Windows 환경에서 일부 기능에 제한이 있을 수 있습니다."
   ]
  },
  {
   "cell_type": "code",
   "execution_count": null,
   "metadata": {},
   "outputs": [],
   "source": [
    "# TEANAPS (https://github.com/fingeredman/teanaps)\n",
    "#!git clone https://github.com/fingeredman/teanaps.git"
   ]
  },
  {
   "cell_type": "code",
   "execution_count": null,
   "metadata": {},
   "outputs": [],
   "source": [
    "#!ls"
   ]
  },
  {
   "cell_type": "code",
   "execution_count": null,
   "metadata": {},
   "outputs": [],
   "source": [
    "# TEANAPS 설치를 진행합니다.\n",
    "# 설치 전 반드시 상단 메뉴에서 [런타임 > 런타임 초기화]를 클릭한 후 진행해주세요.\n",
    "#!python \"teanaps/teanaps_setup.py\""
   ]
  },
  {
   "cell_type": "markdown",
   "metadata": {},
   "source": [
    "### 1. 학습 데이터 준비하기\n",
    "\n",
    "---"
   ]
  },
  {
   "cell_type": "markdown",
   "metadata": {},
   "source": [
    "#### 1.1. TEANAPS 라이브러리 불러오기\n",
    "\n",
    "---"
   ]
  },
  {
   "cell_type": "code",
   "execution_count": null,
   "metadata": {},
   "outputs": [],
   "source": [
    "from teanaps.nlp import MorphologicalAnalyzer\n",
    "from teanaps.nlp import Processing\n",
    "from teanaps.handler import FileHandler\n",
    "from teanaps.nlp import NamedEntityRecognizer\n",
    "from teanaps.nlp import SyntaxAnalyzer\n",
    "\n",
    "from sklearn.model_selection import train_test_split\n",
    "\n",
    "ma = MorphologicalAnalyzer()\n",
    "ma.set_tagger(\"mecab\")\n",
    "ma.set_tagger(\"mecab-ko\")\n",
    "#ner = NamedEntityRecognizer(model_path=\"/model\")\n",
    "ner = NamedEntityRecognizer()\n",
    "sa = SyntaxAnalyzer()\n",
    "tfidf = TfidfCalculator()\n",
    "processing = Processing()\n",
    "fh = FileHandler()"
   ]
  },
  {
   "cell_type": "markdown",
   "metadata": {},
   "source": [
    "#### 1.2. 데이터 파일 불러오기\n",
    "\n",
    "---"
   ]
  },
  {
   "cell_type": "code",
   "execution_count": null,
   "metadata": {},
   "outputs": [],
   "source": [
    "import pandas as pd\n",
    "\n",
    "df = pd.read_csv(\"data/kea_train_set.csv\")\n",
    "df"
   ]
  },
  {
   "cell_type": "code",
   "execution_count": null,
   "metadata": {},
   "outputs": [],
   "source": [
    "df = df.dropna()\n",
    "df"
   ]
  },
  {
   "cell_type": "markdown",
   "metadata": {},
   "source": [
    "#### 1.3. 학습/평가 데이터 준비하기\n",
    "\n",
    "---"
   ]
  },
  {
   "cell_type": "code",
   "execution_count": null,
   "metadata": {},
   "outputs": [],
   "source": [
    "from sklearn.model_selection import train_test_split\n",
    "x = df[['tfidf', \"first_occurrence\"]]\n",
    "y = df[\"is_keyword\"]\n",
    "x_train, x_test, y_train, y_test = train_test_split(x, y, train_size=0.8, test_size=0.2)"
   ]
  },
  {
   "cell_type": "markdown",
   "metadata": {},
   "source": [
    "### 2. 학습하기\n",
    "\n",
    "---"
   ]
  },
  {
   "cell_type": "markdown",
   "metadata": {},
   "source": [
    "#### 2.1. 학습: 랜덤 포레스트 (Random Forest)\n",
    "\n",
    "---"
   ]
  },
  {
   "cell_type": "code",
   "execution_count": null,
   "metadata": {},
   "outputs": [],
   "source": [
    "from sklearn.ensemble import RandomForestClassifier\n",
    "\n",
    "random_forest = RandomForestClassifier()\n",
    "random_forest.fit(x_train, y_train)         # 학습\n",
    "score = random_forest.score(x_test, y_test) # 평가\n",
    "print(\"Accuracy:\", score)\n",
    "\n",
    "# 학습모델 저장\n",
    "fh.save_data(\"data/rf_model\", random_forest)"
   ]
  },
  {
   "cell_type": "markdown",
   "metadata": {},
   "source": [
    "#### 2.2. 학습: 서포트 벡터 머신 (SVM)\n",
    "\n",
    "---"
   ]
  },
  {
   "cell_type": "code",
   "execution_count": null,
   "metadata": {},
   "outputs": [],
   "source": [
    "from sklearn.svm import SVC\n",
    "\n",
    "svm_model = SVC(probability=True)\n",
    "svm_model.fit(x_train, y_train)         # 학습\n",
    "score = svm_model.score(x_test, y_test) # 평가\n",
    "print('Accuracy :', score)\n",
    "\n",
    "# 학습모델 저장\n",
    "fh.save_data(\"data/svm_model\", svm_model)"
   ]
  },
  {
   "cell_type": "markdown",
   "metadata": {},
   "source": [
    "#### 2.3. 학습: KNN\n",
    "\n",
    "---"
   ]
  },
  {
   "cell_type": "code",
   "execution_count": null,
   "metadata": {},
   "outputs": [],
   "source": [
    "from sklearn.neighbors import KNeighborsClassifier\n",
    "\n",
    "knn_model = KNeighborsClassifier(n_neighbors=20)\n",
    "knn_model.fit(x_train, y_train)         # 학습\n",
    "score = knn_model.score(x_test, y_test) # 평가\n",
    "print('Accuracy :', score)\n",
    "\n",
    "# 학습모델 저장\n",
    "fh.save_data(\"data/knn_model\", knn_model)"
   ]
  },
  {
   "cell_type": "markdown",
   "metadata": {},
   "source": [
    "#### 2.4. 학습: LDA\n",
    "\n",
    "---"
   ]
  },
  {
   "cell_type": "code",
   "execution_count": null,
   "metadata": {},
   "outputs": [],
   "source": [
    "from sklearn.discriminant_analysis import LinearDiscriminantAnalysis\n",
    "\n",
    "lda_model = LinearDiscriminantAnalysis()\n",
    "lda_model.fit(x_train, y_train)         # 학습\n",
    "score = lda_model.score(x_test, y_test) # 평가\n",
    "print('Accuracy :', score)\n",
    "\n",
    "# 학습모델 저장\n",
    "fh.save_data(\"data/lda_model\", lda_model)"
   ]
  },
  {
   "cell_type": "markdown",
   "metadata": {},
   "source": [
    "### 3. 학습모델 활용하기\n",
    "\n",
    "---"
   ]
  },
  {
   "cell_type": "code",
   "execution_count": null,
   "metadata": {},
   "outputs": [],
   "source": [
    "tfidf_dict = fh.load_data(\"data/tfidf_dict\")"
   ]
  },
  {
   "cell_type": "code",
   "execution_count": null,
   "metadata": {
    "scrolled": true
   },
   "outputs": [],
   "source": [
    "query = \"높은 주파수의 신호 사용시에 그 신호의 주파수를 정확하고 일정하게 제어하는 집적회로(IC)\"\n",
    "pos_result = ma.parse(query_lower)\n",
    "ner_result = ner.parse(query_lower)\n",
    "sa_result = sa.parse(pos_result, ner_result)\n",
    "\n",
    "candidate_list = []\n",
    "first_occurrence = 0\n",
    "for word, pos, _, _ in sa_result:\n",
    "    first_occurrence += 1\n",
    "    if pos in [\"NNG\", \"NNP\"]:\n",
    "        if word in tfidf_dict.keys():\n",
    "            candidate_list.append([word, tfidf_dict[word], first_occurrence])\n",
    "        else:\n",
    "            candidate_list.append([word, 0, first_occurrence])\n",
    "\n",
    "candidate_list"
   ]
  },
  {
   "cell_type": "code",
   "execution_count": null,
   "metadata": {},
   "outputs": [],
   "source": [
    "model = fh.load_data(\"data/rf_model\")\n",
    "\n",
    "for candidate in candidate_list:\n",
    "    input_data = [candidate[1], candidate[2]]\n",
    "    candidate_prob_list = model.predict_proba([input_data]).tolist()[0]\n",
    "    if candidate_prob_list[1] > 0.5:\n",
    "        is_keyword = 1\n",
    "    else:\n",
    "        is_keyword = 0\n",
    "    print(candidate[0], is_keyword, input_data, candidate_prob_list)"
   ]
  },
  {
   "cell_type": "code",
   "execution_count": null,
   "metadata": {},
   "outputs": [],
   "source": []
  }
 ],
 "metadata": {
  "kernelspec": {
   "display_name": "Python 3",
   "language": "python",
   "name": "python3"
  },
  "language_info": {
   "codemirror_mode": {
    "name": "ipython",
    "version": 3
   },
   "file_extension": ".py",
   "mimetype": "text/x-python",
   "name": "python",
   "nbconvert_exporter": "python",
   "pygments_lexer": "ipython3",
   "version": "3.8.3"
  }
 },
 "nbformat": 4,
 "nbformat_minor": 2
}
