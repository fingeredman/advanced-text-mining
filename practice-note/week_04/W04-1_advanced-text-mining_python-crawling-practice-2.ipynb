{
 "cells": [
  {
   "cell_type": "markdown",
   "metadata": {},
   "source": [
    "# ADVANCED TEXT MINING\n",
    "- 본 자료는 텍스트 마이닝을 활용한 연구 및 강의를 위한 목적으로 제작되었습니다.\n",
    "- 본 자료를 강의 목적으로 활용하고자 하시는 경우 꼭 아래 메일주소로 연락주세요.\n",
    "- 본 자료에 대한 허가되지 않은 배포를 금지합니다.\n",
    "- 강의, 저작권, 출판, 특허, 공동저자에 관련해서는 문의 바랍니다.\n",
    "- **Contact : ADMIN(admin@teanaps.com)**\n",
    "\n",
    "---"
   ]
  },
  {
   "cell_type": "markdown",
   "metadata": {},
   "source": [
    "## WEEK 04-1. 동적 페이지 수집하기: 네이버 카페\n",
    "- Python을 활용해 가상의 브라우저를 띄워 웹페이지에서 데이터를 크롤링하는 방법에 대해 다룹니다.\n",
    "\n",
    "---"
   ]
  },
  {
   "cell_type": "markdown",
   "metadata": {},
   "source": [
    "> **\\*\\*\\* 주의사항 \\*\\*\\***  \n",
    "본 자료에서 설명하는 웹크롤링하는 방법은 해당 기법에 대한 이해를 돕고자하는 교육의 목적으로 사용되었으며,  \n",
    "이를 활용한 대량의 무단 크롤링은 범죄에 해당할 수 있음을 알려드립니다."
   ]
  },
  {
   "cell_type": "markdown",
   "metadata": {},
   "source": [
    "### 1. 가상의 브라우저 실행하기: Chrome Driver\n",
    "\n",
    "---"
   ]
  },
  {
   "cell_type": "code",
   "execution_count": 1,
   "metadata": {},
   "outputs": [
    {
     "name": "stdout",
     "output_type": "stream",
     "text": [
      "Requirement already satisfied: selenium in /Users/jeonbyeongjin/opt/anaconda3/lib/python3.8/site-packages (3.141.0)\r\n",
      "Requirement already satisfied: urllib3 in /Users/jeonbyeongjin/opt/anaconda3/lib/python3.8/site-packages (from selenium) (1.25.9)\r\n"
     ]
    }
   ],
   "source": [
    "# 가상의 브라우저를 컨트롤 할 수 있도록 도와주는 selenium 패키지를 설치합니다.\n",
    "# 아래 주석을 해지하고 셀을 실행합니다.\n",
    "# 설치는 한번만 수행하면 되며, 재설치시 Requirement already satisfied: ~ 라는 메시지가 출력됩니다.\n",
    "\n",
    "#!pip install selenium"
   ]
  },
  {
   "cell_type": "code",
   "execution_count": 1,
   "metadata": {},
   "outputs": [],
   "source": [
    "# Python 코드를 통해 가상의 브라우저를 띄우기 위해 selenium 패키지를 import 합니다.\n",
    "import selenium\n",
    "from selenium import webdriver\n",
    "from selenium.webdriver.common.by import By\n",
    "\n",
    "# selenium을 활용해 브라우저를 직접 띄우는 경우, 실제 웹서핑을 할때처럼 로딩시간이 필요합니다.\n",
    "# 로딩시간 동안 대기하도록 코드를 구성하기위해 time 패키지를 import 합니다.\n",
    "import time\n",
    "\n",
    "# Python 코드를 통해 웹페이지에 정보를 요청하기 위해 BeautifulSoup, urllib 패키지를 import 합니다.\n",
    "from bs4 import BeautifulSoup\n",
    "import requests"
   ]
  },
  {
   "cell_type": "code",
   "execution_count": 23,
   "metadata": {},
   "outputs": [
    {
     "name": "stderr",
     "output_type": "stream",
     "text": [
      "<ipython-input-23-874df4b8fdf5>:15: DeprecationWarning: use options instead of chrome_options\n",
      "  driver = webdriver.Chrome(executable_path = \"./chromedriver\", chrome_options=chrome_options)\n"
     ]
    }
   ],
   "source": [
    "# Chrome Driver를 호출합니다.\n",
    "chrome_options = webdriver.ChromeOptions()\n",
    "\n",
    "# 브라우저에 임의로 User-agent 옵션을 넣어 Python 코드로 접속함을 숨깁니다.\n",
    "chrome_options.add_argument('--user-agent=\"Mozilla/5.0 (Macintosh; Intel Mac OS X 10_13_4) AppleWebKit/537.36 (KHTML, like Gecko) Chrome/66.0.3359.139 Safari/537.36\"')\n",
    "\n",
    "# Chrome Driver 파일의 경로를 지정하고 실행합니다.\n",
    "# Chrome Driver는 아래 링크에서 다운로드 가능합니다.\n",
    "# 본 Jupyter Notebook 파일과 동일한 경로에 Chrome Driver가 존재하는 경우 아래 경로를 그대로 사용합니다.\n",
    "\n",
    "# Windows 운영체제\n",
    "#driver = webdriver.Chrome(executable_path = \"chromedriver\", chrome_options=chrome_options)\n",
    "\n",
    "# MAC, Linux 운영체제 - 경고메시지 출력 시 보안 및 개인정보보호 메뉴에서 \"확인없이 허용\" 클릭 필요함\n",
    "driver = webdriver.Chrome(executable_path = \"./chromedriver\", chrome_options=chrome_options)"
   ]
  },
  {
   "cell_type": "markdown",
   "metadata": {},
   "source": [
    "Chrome Driver 다운로드 URL : http://chromedriver.chromium.org/downloads"
   ]
  },
  {
   "cell_type": "markdown",
   "metadata": {},
   "source": [
    "### 2. 가상의 브라우저를 활용에 사이트 접속하기\n",
    "\n",
    "---"
   ]
  },
  {
   "cell_type": "code",
   "execution_count": 3,
   "metadata": {},
   "outputs": [],
   "source": [
    "# 브라우저에서 URL에 해당하는 페이지로 이동합니다.\n",
    "URL = \"https://www.daum.net\"\n",
    "driver.get(URL)\n",
    "# 실제 페이지가 불러와지는 시간을 고려해 sleep(SEC) 함수로 기다리는 시간을 지정해줍니다.\n",
    "time.sleep(2)"
   ]
  },
  {
   "cell_type": "code",
   "execution_count": 26,
   "metadata": {},
   "outputs": [],
   "source": [
    "# 네이버 메인페이지로 이동합니다.\n",
    "URL = \"https://www.naver.com\"\n",
    "driver.get(URL)\n",
    "time.sleep(2)"
   ]
  },
  {
   "cell_type": "code",
   "execution_count": 4,
   "metadata": {},
   "outputs": [],
   "source": []
  },
  {
   "cell_type": "code",
   "execution_count": 5,
   "metadata": {},
   "outputs": [],
   "source": []
  },
  {
   "cell_type": "code",
   "execution_count": 25,
   "metadata": {},
   "outputs": [
    {
     "data": {
      "text/plain": [
       "'https://dcnewsj.joins.com/dcarticle/28712?cloc=dcnewsj|home|topnews'"
      ]
     },
     "execution_count": 25,
     "metadata": {},
     "output_type": "execute_result"
    }
   ],
   "source": [
    "URL = \"https://gall.dcinside.com/mgallery/board/lists/?id=youthrecord&page=2\"\n",
    "driver.get(URL)\n",
    "\n",
    "title_td = driver.find_element(By.CLASS_NAME, \"gall_tit\")\n",
    "title_a = title_td.find_element(By.TAG_NAME, \"a\")\n",
    "title_a.get_attribute(\"href\")"
   ]
  },
  {
   "cell_type": "code",
   "execution_count": null,
   "metadata": {},
   "outputs": [],
   "source": []
  },
  {
   "cell_type": "code",
   "execution_count": 27,
   "metadata": {},
   "outputs": [],
   "source": [
    "# 네이버 카페에 접근하기 위해서는 로그인이 필요합니다.\n",
    "# 네이버 로그인 페이지로 이동합니다.\n",
    "# click() 함수로 원하는 요소(태그)를 클릭할 수 있습니다.\n",
    "driver.find_element(By.CLASS_NAME, \"link_login\").click()\n",
    "time.sleep(2)"
   ]
  },
  {
   "cell_type": "code",
   "execution_count": 28,
   "metadata": {},
   "outputs": [],
   "source": [
    "# 네이버 로그인 페이지에서 아이디(ID)와 비밀번호(PW)를 입력합니다.\n",
    "# 아이디와 비밀번호를 브라우저에서 직접 입력해도 됩니다.\n",
    "ID = \"여기에 ID를 입력합니다.\"\n",
    "PW = \"여기에 PW를 입력합니다.\"\n",
    "driver.find_element(By.NAME, \"id\").send_keys(ID)\n",
    "driver.find_element(By.NAME, \"pw\").send_keys(PW)"
   ]
  },
  {
   "cell_type": "code",
   "execution_count": 8,
   "metadata": {
    "collapsed": true
   },
   "outputs": [],
   "source": [
    "# 로그인 버튼을 클릭해 로그인합니다.\n",
    "# 대부분의 경우 자동입력 방지문자 입력이 화면이 출력됩니다.\n",
    "# 이 경우 브라우저에서 직접 로그인합니다.\n",
    "# 직접 로그인 하는 경우 이 셀을 실행하지 않아도 됩니다.\n",
    "driver.find_element(By.NAME, \"frmNIDLogin\").submit()\n",
    "time.sleep(2)"
   ]
  },
  {
   "cell_type": "markdown",
   "metadata": {},
   "source": [
    "### 3. 네이버 카페 게시물 링크 수집하기\n",
    "\n",
    "---"
   ]
  },
  {
   "cell_type": "code",
   "execution_count": 30,
   "metadata": {},
   "outputs": [
    {
     "name": "stderr",
     "output_type": "stream",
     "text": [
      "<ipython-input-30-e6d9c79bb88f>:22: DeprecationWarning: use driver.switch_to.frame instead\n",
      "  driver.switch_to_frame(driver.find_element(By.NAME, \"cafe_main\"))\n",
      "<ipython-input-30-e6d9c79bb88f>:37: DeprecationWarning: use driver.switch_to.default_content instead\n",
      "  driver.switch_to_default_content()\n"
     ]
    }
   ],
   "source": [
    "# 수집할 카페 게시물의 링크주소를 저장할 리스트를 생성합니다.\n",
    "post_list = []\n",
    "\n",
    "# 브라우저에서 직접 내가 수집할 카페에 접속합니다.\n",
    "# 카페 검색기능을 활용해 수집하고 싶은 내용을 검색합니다.\n",
    "# 키워드, 기간, 정렬기준 등을 지정해 원하는 검색결과를 화면에 띄웁니다.\n",
    "# 검색 후 게시물 리스트가 포함된 \"진짜 URL\"을 찾아냅니다.\n",
    "# URL을 복사할 때 맨뒤에 \"...%26search.page=3\" 부분의 숫자(페이지번호)는 제거하고 입력합니다.\n",
    "# 예시는 네이버 카페 \"디젤매니아\"에서 \"청바지\"라는 키워드로 검색된 게시물 URL 입니다.\n",
    "# 게시물 열람이 가능한 계정으로 카페에 접근해야 수집이 가능합니다.\n",
    "URL = \"https://cafe.naver.com/dieselmania?iframe_url=/ArticleSearchList.nhn%3Fsearch.clubid=11262350%26search.media=0%26search.searchdate=all%26userDisplay=15%26search.option=0%26search.sortBy=date%26search.searchBy=0%26search.query=%C3%BB%B9%D9%C1%F6%26search.viewtype=title%26search.page=\"\n",
    "\n",
    "# 몇 페이지 까지 게시물의 URL을 수집할지 지정합니다.\n",
    "# 최대 페이지 수를 넘지 않도록 주의합니다.\n",
    "page_limit = 5\n",
    "\n",
    "# FOR 문을 활용해 페이지 번호를 반복합니다.\n",
    "for page_num in range(1, page_limit+1):\n",
    "    # 검색결과 페이지로 이동합니다.\n",
    "    driver.get(URL + str(page_num))\n",
    "    # 페이지에서 게시물 리스트가 포함된 프레임으로 이동합니다.\n",
    "    driver.switch_to_frame(driver.find_element(By.NAME, \"cafe_main\"))\n",
    "    # 게시물 태그를 모두 불러옵니다.\n",
    "    elem = driver.find_elements(By.CLASS_NAME, \"article\")\n",
    "    for e in elem:\n",
    "        # 웹페이지의 하이퍼링크 URL은 항상 href 속성에 존재합니다.\n",
    "        # href 속성에 저장된 URL을 불러와 post_list에 추가합니다.\n",
    "        post_list.append(e.get_attribute(\"href\"))\n",
    "    # 아래 주석부분은 위 25~29번째 라인과 동일한 코드입니다.\n",
    "    # 혹시 post_list에 URL이 저장되지 않는 경우 아래처럼 태그의 Class 속성을 \"article\"에서 \"aaa\"로 변경해줍니다.\n",
    "    '''\n",
    "    elem = driver.find_elements(By.CLASS_NAME, \"aaa\")\n",
    "    for e in elem:\n",
    "        post_list.append(e.find_element(By.TAG_NAME, \"a\").get_attribute(\"href\"))\n",
    "    '''\n",
    "    # 페이지의 기본 프레임으로 이동합니다.\n",
    "    driver.switch_to_default_content() \n",
    "    time.sleep(2)"
   ]
  },
  {
   "cell_type": "code",
   "execution_count": 31,
   "metadata": {},
   "outputs": [
    {
     "name": "stdout",
     "output_type": "stream",
     "text": [
      "수집된 게시물 URL 개수 : 75\n"
     ]
    }
   ],
   "source": [
    "# 총 몇개의 게시물 URL이 저장되었는지 확인합니다.\n",
    "print(\"수집된 게시물 URL 개수 :\", len(post_list))"
   ]
  },
  {
   "cell_type": "code",
   "execution_count": 32,
   "metadata": {},
   "outputs": [
    {
     "name": "stdout",
     "output_type": "stream",
     "text": [
      "['https://cafe.naver.com/ca-fe/ArticleRead.nhn?clubid=11262350&page=1&inCafeSearch=true&searchBy=0&query=%EC%B2%AD%EB%B0%94%EC%A7%80&includeAll=&exclude=&include=&exact=&searchdate=all&media=0&sortBy=date&articleid=32559312&referrerAllArticles=true', 'https://cafe.naver.com/ca-fe/ArticleRead.nhn?clubid=11262350&page=1&inCafeSearch=true&searchBy=0&query=%EC%B2%AD%EB%B0%94%EC%A7%80&includeAll=&exclude=&include=&exact=&searchdate=all&media=0&sortBy=date&articleid=32559182&referrerAllArticles=true', 'https://cafe.naver.com/ca-fe/ArticleRead.nhn?clubid=11262350&page=1&inCafeSearch=true&searchBy=0&query=%EC%B2%AD%EB%B0%94%EC%A7%80&includeAll=&exclude=&include=&exact=&searchdate=all&media=0&sortBy=date&articleid=32559127&referrerAllArticles=true']\n"
     ]
    }
   ],
   "source": [
    "# URL이 잘 저장되어 있는지 인덱싱을 통해 일부만 확인해봅니다.\n",
    "print(post_list[:3])"
   ]
  },
  {
   "cell_type": "code",
   "execution_count": 33,
   "metadata": {},
   "outputs": [
    {
     "name": "stdout",
     "output_type": "stream",
     "text": [
      "https://cafe.naver.com/ca-fe/ArticleRead.nhn?clubid=11262350&page=1&inCafeSearch=true&searchBy=0&query=%EC%B2%AD%EB%B0%94%EC%A7%80&includeAll=&exclude=&include=&exact=&searchdate=all&media=0&sortBy=date&articleid=32559312&referrerAllArticles=true\n"
     ]
    }
   ],
   "source": [
    "print(post_list[0])"
   ]
  },
  {
   "cell_type": "markdown",
   "metadata": {},
   "source": [
    "### 4. 네이버 카페 게시물 본문과 댓글 수집하기\n",
    "\n",
    "---"
   ]
  },
  {
   "cell_type": "code",
   "execution_count": 34,
   "metadata": {},
   "outputs": [
    {
     "name": "stdout",
     "output_type": "stream",
     "text": [
      "0/75\r"
     ]
    },
    {
     "name": "stderr",
     "output_type": "stream",
     "text": [
      "<ipython-input-34-c81ae6fe1868>:17: DeprecationWarning: use driver.switch_to.frame instead\n",
      "  driver.switch_to_frame(driver.find_element(By.NAME, \"cafe_main\"))\n",
      "<ipython-input-34-c81ae6fe1868>:50: DeprecationWarning: use driver.switch_to.default_content instead\n",
      "  driver.switch_to_default_content()\n"
     ]
    },
    {
     "name": "stdout",
     "output_type": "stream",
     "text": [
      "9/75\r"
     ]
    }
   ],
   "source": [
    "# 게시물 URL이 저장된 post_list에서 몇번째 부터(start) 몇번째 까지(end) URL에 접근할지 지정합니다.\n",
    "start = 0\n",
    "end = 10\n",
    "\n",
    "# 게시물 내용을 저장할 파일을 생성합니다.\n",
    "f = open(\"naver_cafe_dieselmania.txt\", \"w\", encoding=\"utf-8\")\n",
    "\n",
    "# FOR 문을 활용해 페이지 URL을 반복합니다.\n",
    "for url in post_list[start:end]:\n",
    "    # 현재 수집이 진행중인 인덱스를 출력합니다.\n",
    "    print(str(start) + \"/\" + str(len(post_list)), end=\"\\r\")\n",
    "    start += 1\n",
    "    try:\n",
    "        # URL을 통해 게시물 페이지로 이동합니다.\n",
    "        driver.get(url)\n",
    "        time.sleep(5)\n",
    "        # 페이지에서 게시물 내용이 포함된 프레임으로 이동합니다.\n",
    "        driver.switch_to_frame(driver.find_element(By.NAME, \"cafe_main\"))\n",
    "\n",
    "        # 페이지에서 태그의 속성을 활용해 원하는 부분을 불러옵니다.\n",
    "        # 1. 게시물 제목\n",
    "        title = driver.find_element(By.CLASS_NAME, \"title_text\").text.strip()\n",
    "        #title = elem.find_elements(By.TAG_NAME, \"td\")[0].text\n",
    "        # 2. 게시판 이름\n",
    "        board_type = driver.find_element(By.CLASS_NAME, \"link_board\").text.strip()\n",
    "        # 3. 게시물 작성일자\n",
    "        datetime = driver.find_element(By.CLASS_NAME, \"date\").text\n",
    "        # 4. 게시물 작성자(닉네임)\n",
    "        user = driver.find_element(By.CLASS_NAME, \"nickname\").text\n",
    "        # 5. 게시물 내용\n",
    "        # 파일에서 게시물 구분을 줄단위로 하기위해 줄바꿈을 모두 제거합니다.\n",
    "        contents = driver.find_element(By.CLASS_NAME, \"article_viewer\").text.replace(\"\\n\", \" \")\n",
    "        # 파일에 수집한 게시물 내용을 기록합니다.\n",
    "        f.write(\"POSTING\" + \"\\t\" + user + \"\\t\" + datetime + \\\n",
    "                \"\\t\" + board_type + \"\\t\" + title + \"\\t\" + contents + \"\\n\") \n",
    "\n",
    "        # 댓글을 모두 불러옵니다.\n",
    "        reply_list = driver.find_elements(By.CLASS_NAME, \"comment_box\")\n",
    "        # FOR 문을 활용해 댓글을 모두 반복합니다.\n",
    "        for reply in reply_list:\n",
    "            # 6. 댓글 내용\n",
    "            comment = reply.find_element(By.CLASS_NAME, \"text_comment\").text.replace(\"\\n\", \" \")\n",
    "            # 7. 댓글 작성자(닉네임)\n",
    "            user_nik = reply.find_element(By.CLASS_NAME, \"comment_nickname\").text\n",
    "            # 8. 댓글 작성일자\n",
    "            reply_date = reply.find_element(By.CLASS_NAME, \"comment_info_date\").text\n",
    "            # 파일에 수집한 댓글 내용을 기록합니다.\n",
    "            f.write(\"COMMENT\" + \"\\t\" + user_nik + \"\\t\" + reply_date + \\\n",
    "                    \"\\t\" + board_type + \"\\t\" + \"None\" + \"\\t\" + comment + \"\\n\")\n",
    "        # 페이지의 기본 프레임으로 이동합니다.\n",
    "        driver.switch_to_default_content()\n",
    "        time.sleep(2)\n",
    "    except:\n",
    "        driver.switch_to_default_content()\n",
    "        time.sleep(2)\n",
    "        continue\n",
    "f.close()"
   ]
  },
  {
   "cell_type": "code",
   "execution_count": 20,
   "metadata": {},
   "outputs": [],
   "source": [
    "# Chrome Driver를 닫습니다.\n",
    "driver.close()"
   ]
  },
  {
   "cell_type": "code",
   "execution_count": 36,
   "metadata": {
    "scrolled": false
   },
   "outputs": [
    {
     "name": "stdout",
     "output_type": "stream",
     "text": [
      "POSTING\t상렬이형\t2020.09.28. 20:10\t■디매iN 라이프■\t10만원 아래 청바지 추천좀요!\tㅁㄷ나인이 최선인가요?? 벅돼종돼라 데빠나 와이드핏 입습니다\n",
      "COMMENT\tShinwo\t2020.09.28. 20:28\t■디매iN 라이프■\tNone\t리바이스요\n",
      "POSTING\t일단아는척함\t2020.09.28. 19:57\t■디매iN 라이프■\t바버 인터네셔널에 청바지 진청vs연청\t진청이 잘 어울리나요 연청이 잘 어울리나요\n",
      "COMMENT\t헬스장순이\t2020.09.28. 19:58\t■디매iN 라이프■\tNone\t진청이요\n",
      "COMMENT\t효창공원쿵쿵따\t2020.09.28. 20:00\t■디매iN 라이프■\tNone\t진진진이욤\n",
      "COMMENT\tEnoch\t2020.09.28. 20:06\t■디매iN 라이프■\tNone\t진청인듯합니다!\n",
      "POSTING\t고구마옥수수\t2020.09.28. 19:52\t이벤트 포토 후기\t[라츠] T001 크롭 테이퍼드 데님 후기\t● 아래 내용의 삭제를 금합니다 ● ※ 회원들을 대표하여 받은 이벤트 상품에 대하여 정성스런 후기 부탁드립니다. ※ 본 이벤트, 체험단은 위 해당업체의 특정 제품을 회원님들이 협찬받아 작성하는 후기입니다. ※ 본글은 위 제품을 홍보하기위한 본 체험단에 위 해당 브랜드로 부터 제품을 무료로 제공받아 작성되었습니다. 안녕하세요 청바지 브랜드중 너무나도 유명한 플랙의 프로젝트 레이블 '라츠' 브랜드 청바지의 리뷰를 시작해보겠습니다. 프로젝트 컨셉은 첫번째 프로젝트는 라츠 오브 피플 (lots of people) 이라는 주제로, 디자인은 미니멀하지만 다양한 스타일링을 통해 일상 속 여러 사람들을 대변합니다. 이렇듯 라츠는 심플한 웨어, 합리적인 가격, 최상의 품질로 우리 옷장에 필요한 아이템을 전개할 예정입니다 바지의 전면부 사진입니다.  여럿 테이퍼드진의 착용감이 청바지의 질감이 너무 빳빳해 불편함을 느끼게하는 브랜드의 청바지들도 종종있는데, 라츠의 청바지는 부드럽고 편리성을 보장합니다. 그렇다고 너무 얇지도 않으며 사계절용으로 딱 훌륭할정도의 두께입니다. 청바지의 후면부입니다. 청바지의 후면부에서는 디테일의 승부가 중요하다고 생각합니다. 그런면에서 라츠의 청바지 포켓은 상단허리부분과 매우 밀접학 배치해 뒤에서 보았을때, 다리가 길어보이는 효과가 납니다.    청바지의 질감을 더 자세히 볼 수 있는사진입니다. 워싱이 매우 자연스럽게 베어있으면서 리벳도 촘촘히 마무리되어있습니다. 개인적으로는 무난하며 싼티나지않는 워싱이라고 생각됩니다.  테이퍼드 핏같은경우 롤업을통해 코디에 포인트를 주기도하는데, 롤업부분 마감의 퀄리티가 매우 준수합니다 착샷입니다. 175/68 일부로 조금 널널히입기위해 30사이즈를 착용하였습니다. 총평: 플랙브랜드의 프로젝트 브랜드답게 기본기에 충실한 가격대비 아주 훌륭한 청바지라고 생각됩니다. 청바지의 여러 디테일면에서 신경쓴게 아주 인상깊었고, 테이퍼드 핏 또한, 이상하게 널널히 떨어지지않는, 허벅지부터 슬림하게 잘 빠져 다리가 길어보이는 효과. 99,000에서 세일가 79,000 이하로도 구매할수있는데, 이 가격이면 큰 메리트라고 생각합니다. 감사합니다.\n",
      "POSTING\t뭘봐죽을래\t2020.09.28. 19:45\t■디매iN 라이프■\t옷 사는거 다 부질없네요 ㅋㅋ\t몸 좋은사람이 흰티 청바지 입으면 끝나네요 ㅋㅋ\n",
      "COMMENT\t조쉬 하트넷\t2020.09.28. 19:45\t■디매iN 라이프■\tNone\t죄송합니다\n",
      "COMMENT\t뭘봐죽을래\t2020.09.28. 19:46\t■디매iN 라이프■\tNone\tㅋㅋㅋㅋ아닙니다 ㅠㅠ\n",
      "COMMENT\t핑크솔트\t2020.09.28. 19:46\t■디매iN 라이프■\tNone\t몸 좋게만들고 사면 되져\n",
      "COMMENT\t돈벌려고옷삼\t2020.09.28. 19:46\t■디매iN 라이프■\tNone\t죄송함니당\n",
      "COMMENT\t뭘봐죽을래\t2020.09.28. 19:47\t■디매iN 라이프■\tNone\t아닙니다 행님 ㅠ\n",
      "COMMENT\t김읏되\t2020.09.28. 19:47\t■디매iN 라이프■\tNone\t진짜 몸핏이좋거나 패완얼입니다\n",
      "COMMENT\t젤 라 비\t2020.09.28. 19:47\t■디매iN 라이프■\tNone\t정말 죄송 해여 사과 드립니다.\n",
      "COMMENT\tsemi0805\t2020.09.28. 19:47\t■디매iN 라이프■\tNone\t요즘은 얼굴도 잘생기고.키도크고.돈도많고.몸도좋아야하고 옷도잘입어야해서....\n",
      "COMMENT\tluvluvluv\t2020.09.28. 19:48\t■디매iN 라이프■\tNone\t그래서 요즘 운동에 더 투자하고있어요🙇🏻‍♀️핫바디필수..ㅋㅋㅋㅋ\n",
      "COMMENT\t국물용멸치\t2020.09.28. 19:49\t■디매iN 라이프■\tNone\t조시ㅗㅇ지송지송\n",
      "COMMENT\t중국\t2020.09.28. 19:49\t■디매iN 라이프■\tNone\t존잘러 친구 스파브랜드만 입어요ㅋㅋㅋㅋ 디매 유행템 수십만원짜리 옷 신발 다 부질없음\n",
      "COMMENT\t왕족발\t2020.09.28. 19:49\t■디매iN 라이프■\tNone\tㅇㅈㅇㅈ 몸이다함\n",
      "COMMENT\t사회문제토론반\t2020.09.28. 19:52\t■디매iN 라이프■\tNone\t몸 키우느라 돈이 없어서 그래유 ㅠㅡㅠ\n",
      "POSTING\t니 체\t2020.09.28. 18:58\t■디매iN 라이프■\t에어맥스 97 트화 코디 추천이나 사진좀 부탁드려요!\t일단 사긴 했는데 크롭청바지나 조거 말고 다른코디는 없을까요?\n",
      "COMMENT\t프리드로\t2020.09.28. 19:01\t■디매iN 라이프■\tNone\t검정 슬랙스\n",
      "COMMENT\t정신차려라임마\t2020.09.28. 19:02\t■디매iN 라이프■\tNone\t22\n",
      "COMMENT\t만나면좋은친구\t2020.09.28. 19:07\t■디매iN 라이프■\tNone\t조거팬츠!\n",
      "POSTING\t코로나언제끝나져\t2020.09.28. 18:35\t●디매인 쇼핑후기●\t헤링턴 자켓 샀어용ㅎㅎ\t● 개인 채널, SNS 및 기타 외부의 협찬 상품을 게시하는 경우 - 해당브랜드 금칙어 및 강퇴 처리됩니다. ● 구입한 제품의 사진이 없는 단순 구입내역 첨부나 아이쇼핑 후기는 패션토크 게시판 이용 바랍니다. ※고의로 기본정보(브랜드,제품명)를 누락시켜 '좌표요청, 쪽지요청' 댓글을 유도하는 게시글은 제재됩니다. 상습시 영구강퇴. ※보세 및 자체제작 제품의 경우 '자체제작', '보세' 가 아닌 해당 업체명(브랜드)을 정확히 기재.  ex)ㄷㅁㅇ(X) ※규정상 정상 브랜드명 기입이 불가능한 스팸어브랜드 작성이 불가능합니다. (스팸어 전체공지 참고) (전형적인 쪽지정보댓글 금지 - \"정보(좌표) 쪽지주세요\" \"쪽지드렸습니다\") 내용: 브루먼/블랙와치 헤링턴자켓 프리오더 기간에 구매한 브루먼의  블랙와치 헤링텅 자켓입니다. 정가는 16만원대였는데, 20%저렴히  13만원대에 구매했습니다. 프리오더라 기간은 일주일 넘게 걸린거 같은데 실물체크패턴이 너~무 고와서 아까워서 어떻게입나 고민 많이했습니다. 바라쿠타 g9의 가격대가  50(직구 40정도)인걸 감안하면 핏감이나 패턴 가성비 모두 뒤지지 않는제품이라 생각해요 ㅎㅎ 수입 코쥬라 패브릭으로 만들었는데 내구성도좋고, 가벼우면서 빠른건조와 변색이안되는  장점이 있다고합니다!! 코튼60%,나일론40%이라 빈티지파카에 쓰이는  밸런스감 좋은 원단이라하구여 확실히 만져보면 원단이 좋구나했으니요! 한겨울되기전까진 레이어드하면서 전투용출격갑니당 TIP) 스펙:174/63 사이즈:M 가격:13만원 보정없이 찍은사진인데 패턴감이 잘보이네요 블랙와치패턴에 푹빠져서 폴로 체크셔츠,넥타이  파르티멘토 후드자켓까지 구매했는데,볼수록 빨려들어가는 마성의 패턴입니다ㅋㅋㅋㅋ 핏감은 바라쿠타랑 비슷하구요 M사이즈가  100정도 되네요 헤링턴자켓은 약간 작게입는게 국룰이라서 S살까 하다가 안에 니트입으면 어좁크리 뜰까봐 M했는데 선택이 좋았씁니당 가벼운원단에 블랙와치패턴,투웨이지퍼 쫀쫀시보리,목부분 2단추,덮개주머니 웬만한 기능은 다 갖추고있습니다 청바지에 아주 찰떡느낌스,, 뒷모습도 엄청 귀엽네여 갈매기모양으로 덮개가 덮어있습니다 어깨는 래글런이라서 좀 작으면 어쩌나 했는데 도톰한 울자켓느낌이 아니라 셔츠나 니트에 편안합니당 목엔 단추 2개가 달려있어서 잠그고 입으면 느낌 좀 더 납니다. 그래도 투웨이 지퍼니  하나만 잠그고 배꼽 열어주면 바라쿠타 느낌 물씬날거같네여ㅎㅎ 밑단에 쭈리라고 하죠 보통? 엄청 쫀쫀합니다 지퍼도 2개 YKK고, 마감처리도 깔끔하네여  확실히 바라쿠타는 오버핏과는 안어울리고 정사이즈로 잡아주는 느낌 그게 있는거같습니당 똑딱이 단추가 있는 덮개주머니인데, 저는 이게 마음에 들더라구여 바라쿠타도 저지형식이라 입으면 핸드폰이나 담배를 주머니에 넣고다니는데 가끔 미끄러지듯 잘 떨어지더라구여 그거 방지해줘서 참굿굿 속주머니도 똑딱이네요 귀여운 똑딱이 수입원단증표?라벨입니다 처음 입어보는 원단이네 깔끔하고 고급진 느낌이에요 청바지에 캐쥬얼 착장도 가볼게여!!! 모두 즐추하세영~~ ※ 게시자는 '쪽지확인' '좌표요청' 댓글이 도배되지 않고 정보가 잘 전달될 수 있도록 본문내 정보를 최대한 작성해주시기 바랍니다. ※ 본 게시판 관련 활동정지 규정 공지 - https://cafe.naver.com/dieselmania/22996482\n",
      "COMMENT\t코아화이트\t2020.09.28. 18:41\t●디매인 쇼핑후기●\tNone\t와 이쁘네요 ...\n",
      "COMMENT\t코로나언제끝나져\t2020.09.28. 19:48\t●디매인 쇼핑후기●\tNone\t패턴이 너무 이쁩니다 !!ㅎㅎㅎ\n",
      "POSTING\t뚱띵땡똥\t2020.09.28. 17:49\t■디매iN 라이프■\t남성분들 회색후드+청바지나\t대충 회색 후드집업+청바지 입으시는거 너무 좋아요,, 중학교때부터 변하지 않은 취향\n",
      "COMMENT\t퇴사뿌뿌\t2020.09.28. 17:51\t■디매iN 라이프■\tNone\t저도 ㅋㅋㅋㅋㅋ\n",
      "COMMENT\t소 간 지\t2020.09.28. 17:55\t■디매iN 라이프■\tNone\t감사합니다\n",
      "COMMENT\t소주좀주소\t2020.09.28. 18:04\t■디매iN 라이프■\tNone\t후드는 회색이 진리~\n",
      "POSTING\t착한말고운말\t2020.09.28. 16:20\t■디매iN 라이프■\t소개팅때 폴로 마티니베어니트 입고 나가면 차단당하나요\t그냥 셔츠에 라코스테가디건 입고 갈까요...\n",
      "COMMENT\t모택솔로\t2020.09.28. 16:21\t■디매iN 라이프■\tNone\t셔츠입으삼\n",
      "COMMENT\t프로칼퇴러\t2020.09.28. 16:21\t■디매iN 라이프■\tNone\t셔츠에 라코가 낫겠어영\n",
      "COMMENT\t집에보내\t2020.09.28. 16:22\t■디매iN 라이프■\tNone\t너무 깜찍해보일듯여\n",
      "COMMENT\t맘스돈터치\t2020.09.28. 16:22\t■디매iN 라이프■\tNone\t삼프터때 입으면 고백성공\n",
      "COMMENT\t아기현듀\t2020.09.28. 16:22\t■디매iN 라이프■\tNone\t귀영웅데\n",
      "COMMENT\t치치치리치\t2020.09.28. 16:23\t■디매iN 라이프■\tNone\t귀엽 ㅎ\n",
      "COMMENT\tB U Z Z\t2020.09.28. 16:32\t■디매iN 라이프■\tNone\t뜨끈하이 입고나가셔도됩니다,,\n",
      "COMMENT\t천재님\t2020.09.28. 16:42\t■디매iN 라이프■\tNone\t인상이 강하면은 반전매력으로 곰돌곰돌하게 아니면 셔츠\n",
      "COMMENT\t물 한병\t2020.09.28. 16:47\t■디매iN 라이프■\tNone\t안에 셔츠+넥타이 / 청바지 / 스웨이드 로퍼면 극호감\n",
      "COMMENT\t웅ㅇ ㅣ\t2020.09.28. 17:22\t■디매iN 라이프■\tNone\t셔츠요!\n",
      "POSTING\t파피포\t2020.09.28. 15:28\t■디매iN 라이프■\t스팀다리미로 슬랙스나 청바지 앞에 칼주름 잡아지나요?\t뾰족하지 않고 납작하지 않은 스팀다리미로 슬랙스나 청바지 앞에 칼주름 잡아지나요?\n",
      "COMMENT\t태도와행동차이\t2020.09.28. 15:29\t■디매iN 라이프■\tNone\t되는데 라인 딱 잡아서 바지 쫙펴서 해야해유 힘들어유\n",
      "POSTING\t펭ㄱ윈\t2020.09.28. 15:16\t■디매iN 라이프■\t아끼는 청바지 살려냈어요...\t데님 앤 서플라이라고 전에 엄마가 백화점에서 사준건데 7~8년 이상 입은거 같아요 ㅋㅋㅋㅋ 전에 일하면서 커피를 와장창 쏟았는데 말끔하게 사라졌어요 ㅎㅎㅎㅎ\n",
      "COMMENT\t일단아는척함\t2020.09.28. 15:17\t■디매iN 라이프■\tNone\t살아난거 맞나요\n",
      "COMMENT\t펭ㄱ윈\t2020.09.28. 15:18\t■디매iN 라이프■\tNone\tㅋㅋㅋㅋ 사진이 저래서.. 색감도 저것보다 훨씬 진해요. 낮이라 그런듯요..\n",
      "COMMENT\tApccccc\t2020.09.28. 15:17\t■디매iN 라이프■\tNone\t색감 예쁘네요\n",
      "COMMENT\t펭ㄱ윈\t2020.09.28. 15:18\t■디매iN 라이프■\tNone\t7~8년의 세월이 고스란히 담긴거 같아요.. 그래서 더 아끼는듯.\n",
      "COMMENT\tApccccc\t2020.09.28. 15:19\t■디매iN 라이프■\tNone\t저도 그런 바지 있어요ㅠㅠ 오래오래 입으시길!\n",
      "COMMENT\t펭ㄱ윈\t2020.09.28. 15:21\t■디매iN 라이프■\tNone\t네네!!! 다시는 일하는곳에 입고 가지 않을거에요 ㅋㅋ ㅜ\n",
      "COMMENT\t민무늬양복\t2020.09.28. 15:18\t■디매iN 라이프■\tNone\t데님앤서플라이 브랜드 없앤 거 아쉽... 괜찮았는데 포지셔닝이 애매하긴 했져\n",
      "COMMENT\ttsunami\t2020.09.28. 15:19\t■디매iN 라이프■\tNone\t이라인 단종된지 몇년 됐는데 ㅋㅋ 폴로중에 제일 이뻤어요\n"
     ]
    }
   ],
   "source": [
    "# 파일에 저장된 카페 게시글 내용을 확인합니다.\n",
    "f = open(\"naver_cafe_dieselmania.txt\", encoding=\"utf-8\")\n",
    "for post in f:\n",
    "    print(post.strip())\n",
    "f.close()"
   ]
  },
  {
   "cell_type": "code",
   "execution_count": null,
   "metadata": {},
   "outputs": [],
   "source": []
  }
 ],
 "metadata": {
  "kernelspec": {
   "display_name": "Python 3",
   "language": "python",
   "name": "python3"
  },
  "language_info": {
   "codemirror_mode": {
    "name": "ipython",
    "version": 3
   },
   "file_extension": ".py",
   "mimetype": "text/x-python",
   "name": "python",
   "nbconvert_exporter": "python",
   "pygments_lexer": "ipython3",
   "version": "3.8.3"
  }
 },
 "nbformat": 4,
 "nbformat_minor": 2
}
