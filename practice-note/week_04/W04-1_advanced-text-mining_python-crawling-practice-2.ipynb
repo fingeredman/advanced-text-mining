{
 "cells": [
  {
   "cell_type": "markdown",
   "metadata": {},
   "source": [
    "# ADVANCED TEXT MINING\n",
    "- 본 자료는 텍스트 마이닝을 활용한 연구 및 강의를 위한 목적으로 제작되었습니다.\n",
    "- 본 자료를 강의 목적으로 활용하고자 하시는 경우 꼭 아래 메일주소로 연락주세요.\n",
    "- 본 자료에 대한 허가되지 않은 배포를 금지합니다.\n",
    "- 강의, 저작권, 출판, 특허, 공동저자에 관련해서는 문의 바랍니다.\n",
    "- **Contact : ADMIN(admin@teanaps.com)**\n",
    "\n",
    "---"
   ]
  },
  {
   "cell_type": "markdown",
   "metadata": {},
   "source": [
    "## WEEK 04-1. 동적 페이지 수집하기: 네이버 카페\n",
    "- Python을 활용해 가상의 브라우저를 띄워 웹페이지에서 데이터를 크롤링하는 방법에 대해 다룹니다.\n",
    "\n",
    "---"
   ]
  },
  {
   "cell_type": "markdown",
   "metadata": {},
   "source": [
    "> **\\*\\*\\* 주의사항 \\*\\*\\***  \n",
    "본 자료에서 설명하는 웹크롤링하는 방법은 해당 기법에 대한 이해를 돕고자하는 교육의 목적으로 사용되었으며,  \n",
    "이를 활용한 대량의 무단 크롤링은 범죄에 해당할 수 있음을 알려드립니다."
   ]
  },
  {
   "cell_type": "markdown",
   "metadata": {},
   "source": [
    "### 1. 가상의 브라우저 실행하기: Chrome Driver\n",
    "\n",
    "---"
   ]
  },
  {
   "cell_type": "code",
   "execution_count": 2,
   "metadata": {},
   "outputs": [],
   "source": [
    "# 가상의 브라우저를 컨트롤 할 수 있도록 도와주는 selenium 패키지를 설치합니다.\n",
    "# 아래 주석을 해지하고 셀을 실행합니다.\n",
    "# 설치는 한번만 수행하면 되며, 재설치시 Requirement already satisfied: ~ 라는 메시지가 출력됩니다.\n",
    "\n",
    "#!pip install selenium"
   ]
  },
  {
   "cell_type": "code",
   "execution_count": 6,
   "metadata": {},
   "outputs": [],
   "source": [
    "# Python 코드를 통해 가상의 브라우저를 띄우기 위해 selenium 패키지를 import 합니다.\n",
    "import selenium\n",
    "from selenium import webdriver\n",
    "from selenium.webdriver.common.by import By\n",
    "\n",
    "# selenium을 활용해 브라우저를 직접 띄우는 경우, 실제 웹서핑을 할때처럼 로딩시간이 필요합니다.\n",
    "# 로딩시간 동안 대기하도록 코드를 구성하기위해 time 패키지를 import 합니다.\n",
    "import time\n",
    "\n",
    "# Python 코드를 통해 웹페이지에 정보를 요청하기 위해 BeautifulSoup, urllib 패키지를 import 합니다.\n",
    "from bs4 import BeautifulSoup\n",
    "import requests"
   ]
  },
  {
   "cell_type": "code",
   "execution_count": 9,
   "metadata": {},
   "outputs": [
    {
     "name": "stdout",
     "output_type": "stream",
     "text": [
      "0\n",
      "1\n",
      "2\n",
      "3\n",
      "4\n",
      "5\n",
      "6\n",
      "7\n",
      "8\n",
      "9\n"
     ]
    }
   ],
   "source": [
    "for i in range(10):\n",
    "    print(i)\n",
    "    time.sleep(1)"
   ]
  },
  {
   "cell_type": "code",
   "execution_count": 12,
   "metadata": {},
   "outputs": [
    {
     "name": "stderr",
     "output_type": "stream",
     "text": [
      "<ipython-input-12-874df4b8fdf5>:15: DeprecationWarning: use options instead of chrome_options\n",
      "  driver = webdriver.Chrome(executable_path = \"./chromedriver\", chrome_options=chrome_options)\n"
     ]
    }
   ],
   "source": [
    "# Chrome Driver를 호출합니다.\n",
    "chrome_options = webdriver.ChromeOptions()\n",
    "\n",
    "# 브라우저에 임의로 User-agent 옵션을 넣어 Python 코드로 접속함을 숨깁니다.\n",
    "chrome_options.add_argument('--user-agent=\"Mozilla/5.0 (Macintosh; Intel Mac OS X 10_13_4) AppleWebKit/537.36 (KHTML, like Gecko) Chrome/66.0.3359.139 Safari/537.36\"')\n",
    "\n",
    "# Chrome Driver 파일의 경로를 지정하고 실행합니다.\n",
    "# Chrome Driver는 아래 링크에서 다운로드 가능합니다.\n",
    "# 본 Jupyter Notebook 파일과 동일한 경로에 Chrome Driver가 존재하는 경우 아래 경로를 그대로 사용합니다.\n",
    "\n",
    "# Windows 운영체제\n",
    "#driver = webdriver.Chrome(executable_path = \"chromedriver\", chrome_options=chrome_options)\n",
    "\n",
    "# MAC, Linux 운영체제 - 경고메시지 출력 시 보안 및 개인정보보호 메뉴에서 \"확인없이 허용\" 클릭 필요함\n",
    "driver = webdriver.Chrome(executable_path = \"./chromedriver\", chrome_options=chrome_options)"
   ]
  },
  {
   "cell_type": "markdown",
   "metadata": {},
   "source": [
    "Chrome Driver 다운로드 URL : http://chromedriver.chromium.org/downloads"
   ]
  },
  {
   "cell_type": "code",
   "execution_count": 13,
   "metadata": {},
   "outputs": [],
   "source": [
    "#driver.close()"
   ]
  },
  {
   "cell_type": "markdown",
   "metadata": {},
   "source": [
    "### 2. 가상의 브라우저를 활용에 사이트 접속하기\n",
    "\n",
    "---"
   ]
  },
  {
   "cell_type": "code",
   "execution_count": 16,
   "metadata": {},
   "outputs": [],
   "source": [
    "# 브라우저에서 URL에 해당하는 페이지로 이동합니다.\n",
    "URL = \"https://www.daum.net\"\n",
    "driver.get(URL)\n",
    "# 실제 페이지가 불러와지는 시간을 고려해 sleep(SEC) 함수로 기다리는 시간을 지정해줍니다.\n",
    "time.sleep(2)"
   ]
  },
  {
   "cell_type": "code",
   "execution_count": 17,
   "metadata": {},
   "outputs": [],
   "source": [
    "# 네이버 메인페이지로 이동합니다.\n",
    "URL = \"https://naver.com\"\n",
    "driver.get(URL)\n",
    "time.sleep(2)"
   ]
  },
  {
   "cell_type": "code",
   "execution_count": 18,
   "metadata": {},
   "outputs": [],
   "source": [
    "# 네이버 카페에 접근하기 위해서는 로그인이 필요합니다.\n",
    "# 네이버 로그인 페이지로 이동합니다.\n",
    "# click() 함수로 원하는 요소(태그)를 클릭할 수 있습니다.\n",
    "# request > .find, .findAll\n",
    "driver.find_element(By.CLASS_NAME, \"link_login\").click()\n",
    "time.sleep(2)"
   ]
  },
  {
   "cell_type": "code",
   "execution_count": 19,
   "metadata": {},
   "outputs": [],
   "source": [
    "# 네이버 로그인 페이지에서 아이디(ID)와 비밀번호(PW)를 입력합니다.\n",
    "# 아이디와 비밀번호를 브라우저에서 직접 입력해도 됩니다.\n",
    "ID = \"여기에 ID를 입력합니다.\"\n",
    "PW = \"여기에 PW를 입력합니다.\"\n",
    "driver.find_element(By.NAME, \"id\").send_keys(ID)\n",
    "driver.find_element(By.NAME, \"pw\").send_keys(PW)"
   ]
  },
  {
   "cell_type": "code",
   "execution_count": 11,
   "metadata": {},
   "outputs": [],
   "source": [
    "# 로그인 버튼을 클릭해 로그인합니다.\n",
    "# 대부분의 경우 자동입력 방지문자 입력이 화면이 출력됩니다.\n",
    "# 이 경우 브라우저에서 직접 로그인합니다.\n",
    "# 직접 로그인 하는 경우 이 셀을 실행하지 않아도 됩니다.\n",
    "#driver.find_element(By.NAME, \"frmNIDLogin\").submit()\n",
    "#time.sleep(2)"
   ]
  },
  {
   "cell_type": "markdown",
   "metadata": {},
   "source": [
    "### 3. 네이버 카페 게시물 링크 수집하기\n",
    "\n",
    "---"
   ]
  },
  {
   "cell_type": "code",
   "execution_count": 20,
   "metadata": {},
   "outputs": [
    {
     "name": "stderr",
     "output_type": "stream",
     "text": [
      "<ipython-input-20-4eaf79961b6d>:22: DeprecationWarning: use driver.switch_to.frame instead\n",
      "  driver.switch_to_frame(driver.find_element(By.NAME, \"cafe_main\"))\n",
      "<ipython-input-20-4eaf79961b6d>:37: DeprecationWarning: use driver.switch_to.default_content instead\n",
      "  driver.switch_to_default_content()\n"
     ]
    }
   ],
   "source": [
    "# 수집할 카페 게시물의 링크주소를 저장할 리스트를 생성합니다.\n",
    "post_list = []\n",
    "\n",
    "# 브라우저에서 직접 내가 수집할 카페에 접속합니다.\n",
    "# 카페 검색기능을 활용해 수집하고 싶은 내용을 검색합니다.\n",
    "# 키워드, 기간, 정렬기준 등을 지정해 원하는 검색결과를 화면에 띄웁니다.\n",
    "# 검색 후 게시물 리스트가 포함된 \"진짜 URL\"을 찾아냅니다.\n",
    "# URL을 복사할 때 맨뒤에 \"...%26search.page=3\" 부분의 숫자(페이지번호)는 제거하고 입력합니다.\n",
    "# 예시는 네이버 카페 \"디젤매니아\"에서 \"청바지\"라는 키워드로 검색된 게시물 URL 입니다.\n",
    "# 게시물 열람이 가능한 계정으로 카페에 접근해야 수집이 가능합니다.\n",
    "URL = \"https://cafe.naver.com/dieselmania?iframe_url=/ArticleSearchList.nhn%3Fsearch.clubid=11262350%26search.media=0%26search.searchdate=all%26userDisplay=15%26search.option=0%26search.sortBy=date%26search.searchBy=0%26search.query=%C3%BB%B9%D9%C1%F6%26search.viewtype=title%26search.page=\"\n",
    "\n",
    "# 몇 페이지 까지 게시물의 URL을 수집할지 지정합니다.\n",
    "# 최대 페이지 수를 넘지 않도록 주의합니다.\n",
    "page_limit = 3\n",
    "\n",
    "# FOR 문을 활용해 페이지 번호를 반복합니다.\n",
    "for page_num in range(1, page_limit+1):\n",
    "    # 검색결과 페이지로 이동합니다.\n",
    "    driver.get(URL + str(page_num))\n",
    "    # 페이지에서 게시물 리스트가 포함된 프레임으로 이동합니다.\n",
    "    driver.switch_to_frame(driver.find_element(By.NAME, \"cafe_main\"))\n",
    "    # 게시물 태그를 모두 불러옵니다.\n",
    "    elem = driver.find_elements(By.CLASS_NAME, \"article\")\n",
    "    for e in elem:\n",
    "        # 웹페이지의 하이퍼링크 URL은 항상 href 속성에 존재합니다.\n",
    "        # href 속성에 저장된 URL을 불러와 post_list에 추가합니다.\n",
    "        post_list.append(e.get_attribute(\"href\"))\n",
    "    # 아래 주석부분은 위 25~29번째 라인과 동일한 코드입니다.\n",
    "    # 혹시 post_list에 URL이 저장되지 않는 경우 아래처럼 태그의 Class 속성을 \"article\"에서 \"aaa\"로 변경해줍니다.\n",
    "    '''\n",
    "    elem = driver.find_elements(By.CLASS_NAME, \"aaa\")\n",
    "    for e in elem:\n",
    "        post_list.append(e.find_element(By.TAG_NAME, \"a\").get_attribute(\"href\"))\n",
    "    '''\n",
    "    # 페이지의 기본 프레임으로 이동합니다.\n",
    "    driver.switch_to_default_content() \n",
    "    time.sleep(2)"
   ]
  },
  {
   "cell_type": "code",
   "execution_count": 21,
   "metadata": {},
   "outputs": [
    {
     "name": "stdout",
     "output_type": "stream",
     "text": [
      "수집된 게시물 URL 개수 : 45\n"
     ]
    }
   ],
   "source": [
    "# 총 몇개의 게시물 URL이 저장되었는지 확인합니다.\n",
    "print(\"수집된 게시물 URL 개수 :\", len(post_list))"
   ]
  },
  {
   "cell_type": "code",
   "execution_count": 22,
   "metadata": {},
   "outputs": [
    {
     "name": "stdout",
     "output_type": "stream",
     "text": [
      "['https://cafe.naver.com/ca-fe/ArticleRead.nhn?clubid=11262350&page=1&inCafeSearch=true&searchBy=0&query=%EC%B2%AD%EB%B0%94%EC%A7%80&includeAll=&exclude=&include=&exact=&searchdate=all&media=0&sortBy=date&articleid=36047951&referrerAllArticles=true']\n"
     ]
    }
   ],
   "source": [
    "# URL이 잘 저장되어 있는지 인덱싱을 통해 일부만 확인해봅니다.\n",
    "print(post_list[:1])"
   ]
  },
  {
   "cell_type": "code",
   "execution_count": 23,
   "metadata": {},
   "outputs": [
    {
     "name": "stdout",
     "output_type": "stream",
     "text": [
      "https://cafe.naver.com/ca-fe/ArticleRead.nhn?clubid=11262350&page=1&inCafeSearch=true&searchBy=0&query=%EC%B2%AD%EB%B0%94%EC%A7%80&includeAll=&exclude=&include=&exact=&searchdate=all&media=0&sortBy=date&articleid=36047951&referrerAllArticles=true\n"
     ]
    }
   ],
   "source": [
    "print(post_list[0])"
   ]
  },
  {
   "cell_type": "markdown",
   "metadata": {},
   "source": [
    "### 4. 네이버 카페 게시물 본문과 댓글 수집하기\n",
    "\n",
    "---"
   ]
  },
  {
   "cell_type": "code",
   "execution_count": 27,
   "metadata": {},
   "outputs": [
    {
     "name": "stdout",
     "output_type": "stream",
     "text": [
      "문자열1\n"
     ]
    }
   ],
   "source": [
    "try:\n",
    "    print(\"문자열\" + \"1\")\n",
    "except:\n",
    "    print(\"실패\")"
   ]
  },
  {
   "cell_type": "code",
   "execution_count": null,
   "metadata": {},
   "outputs": [],
   "source": []
  },
  {
   "cell_type": "code",
   "execution_count": null,
   "metadata": {},
   "outputs": [],
   "source": []
  },
  {
   "cell_type": "code",
   "execution_count": 28,
   "metadata": {},
   "outputs": [
    {
     "name": "stdout",
     "output_type": "stream",
     "text": [
      "1/45\r"
     ]
    },
    {
     "name": "stderr",
     "output_type": "stream",
     "text": [
      "<ipython-input-28-b1eea65b1f8e>:18: DeprecationWarning: use driver.switch_to.frame instead\n",
      "  driver.switch_to_frame(driver.find_element(By.NAME, \"cafe_main\"))\n",
      "<ipython-input-28-b1eea65b1f8e>:51: DeprecationWarning: use driver.switch_to.default_content instead\n",
      "  driver.switch_to_default_content()\n"
     ]
    },
    {
     "name": "stdout",
     "output_type": "stream",
     "text": [
      "9/45\r"
     ]
    }
   ],
   "source": [
    "# 게시물 URL이 저장된 post_list에서 몇번째 부터(start) 몇번째 까지(end) URL에 접근할지 지정합니다.\n",
    "start = 0\n",
    "end = 9\n",
    "\n",
    "# 게시물 내용을 저장할 파일을 생성합니다.\n",
    "f = open(\"naver_cafe_dieselmania.txt\", \"w\", encoding=\"utf-8\")\n",
    "\n",
    "# FOR 문을 활용해 페이지 URL을 반복합니다.\n",
    "for url in post_list[start:end]:\n",
    "    # 현재 수집이 진행중인 인덱스를 출력합니다.\n",
    "    print(str(start+1) + \"/\" + str(len(post_list)), end=\"\\r\")\n",
    "    start += 1\n",
    "    try:\n",
    "        # URL을 통해 게시물 페이지로 이동합니다.\n",
    "        driver.get(url)\n",
    "        time.sleep(5)\n",
    "        # 페이지에서 게시물 내용이 포함된 프레임으로 이동합니다.\n",
    "        driver.switch_to.frame(driver.find_element(By.NAME, \"cafe_main\"))\n",
    "\n",
    "        # 페이지에서 태그의 속성을 활용해 원하는 부분을 불러옵니다.\n",
    "        # 1. 게시물 제목\n",
    "        title = driver.find_element(By.CLASS_NAME, \"title_text\").text.strip()\n",
    "        #title = elem.find_elements(By.TAG_NAME, \"td\")[0].text\n",
    "        # 2. 게시판 이름\n",
    "        board_type = driver.find_element(By.CLASS_NAME, \"link_board\").text.strip()\n",
    "        # 3. 게시물 작성일자\n",
    "        datetime = driver.find_element(By.CLASS_NAME, \"date\").text\n",
    "        # 4. 게시물 작성자(닉네임)\n",
    "        user = driver.find_element(By.CLASS_NAME, \"nickname\").text\n",
    "        # 5. 게시물 내용\n",
    "        # 파일에서 게시물 구분을 줄단위로 하기위해 줄바꿈을 모두 제거합니다.\n",
    "        contents = driver.find_element(By.CLASS_NAME, \"article_viewer\").text.replace(\"\\n\", \" \")\n",
    "        # 파일에 수집한 게시물 내용을 기록합니다.\n",
    "        f.write(\"POSTING\" + \"\\t\" + user + \"\\t\" + datetime + \\\n",
    "                \"\\t\" + board_type + \"\\t\" + title + \"\\t\" + contents + \"\\n\") \n",
    "\n",
    "        # 댓글을 모두 불러옵니다.\n",
    "        reply_list = driver.find_elements(By.CLASS_NAME, \"comment_box\")\n",
    "        # FOR 문을 활용해 댓글을 모두 반복합니다.\n",
    "        for reply in reply_list:\n",
    "            # 6. 댓글 내용\n",
    "            comment = reply.find_element(By.CLASS_NAME, \"text_comment\").text.replace(\"\\n\", \" \")\n",
    "            # 7. 댓글 작성자(닉네임)\n",
    "            user_nik = reply.find_element(By.CLASS_NAME, \"comment_nickname\").text\n",
    "            # 8. 댓글 작성일자\n",
    "            reply_date = reply.find_element(By.CLASS_NAME, \"comment_info_date\").text\n",
    "            # 파일에 수집한 댓글 내용을 기록합니다.\n",
    "            f.write(\"COMMENT\" + \"\\t\" + user_nik + \"\\t\" + reply_date + \\\n",
    "                    \"\\t\" + board_type + \"\\t\" + \"None\" + \"\\t\" + comment + \"\\n\")\n",
    "        # 페이지의 기본 프레임으로 이동합니다.\n",
    "        driver.switch_to.default_content()\n",
    "        time.sleep(2)\n",
    "    except:\n",
    "        driver.switch_to.default_content()\n",
    "        time.sleep(2)\n",
    "        continue\n",
    "f.close()"
   ]
  },
  {
   "cell_type": "code",
   "execution_count": 30,
   "metadata": {},
   "outputs": [],
   "source": [
    "# Chrome Driver를 닫습니다.\n",
    "driver.close()"
   ]
  },
  {
   "cell_type": "code",
   "execution_count": 29,
   "metadata": {
    "scrolled": false
   },
   "outputs": [
    {
     "name": "stdout",
     "output_type": "stream",
     "text": [
      "POSTING\tJISOOO\t2021.09.27. 19:51\t■디매인 라이프■\t-\t❤️‍🔥\n",
      "COMMENT\tSkrrr\t2021.09.27. 19:52\t■디매인 라이프■\tNone\t하\n",
      "COMMENT\t그것을알고보니섰다\t2021.09.27. 19:52\t■디매인 라이프■\tNone\t화이자 인챈트 성.공.적☆\n",
      "COMMENT\t블로그\t2021.09.27. 19:53\t■디매인 라이프■\tNone\t백신 머리 넘무 아프던데ㅠ\n",
      "COMMENT\t미친개이각\t2021.09.27. 19:52\t■디매인 라이프■\tNone\tㅗㅜㅑ\n",
      "COMMENT\t배추도사메두사\t2021.09.27. 19:52\t■디매인 라이프■\tNone\n",
      "COMMENT\t메탈헤드\t2021.09.27. 19:52\t■디매인 라이프■\tNone\t누나짱\n",
      "COMMENT\t실내사정\t2021.09.27. 19:52\t■디매인 라이프■\tNone\t굿\n",
      "COMMENT\t존버하자\t2021.09.27. 19:52\t■디매인 라이프■\tNone\n",
      "COMMENT\t미 아\t2021.09.27. 19:52\t■디매인 라이프■\tNone\tㄴㄴㅉ\n",
      "COMMENT\t윤해강\t2021.09.27. 19:52\t■디매인 라이프■\tNone\t굿\n",
      "COMMENT\t아도리\t2021.09.27. 19:54\t■디매인 라이프■\tNone\t와 디매 원탑 등장\n",
      "COMMENT\t므먀\t2021.09.27. 19:53\t■디매인 라이프■\tNone\t하앙 이맛디💖 20분 전 델룩 완내스예여,, 😚\n",
      "COMMENT\t댕 댕 이\t2021.09.27. 19:52\t■디매인 라이프■\tNone\t누나짱\n",
      "COMMENT\tBluetooth\t2021.09.27. 20:05\t■디매인 라이프■\tNone\t살빠지신거 같은데요 라면 두그릇 드세여 😓\n",
      "COMMENT\t윤종신덕후\t2021.09.27. 19:52\t■디매인 라이프■\tNone\t와씨 미쳐다\n",
      "COMMENT\t켄 드 릭 라 마\t2021.09.27. 19:52\t■디매인 라이프■\tNone\t댓글 ㅋㅋㅋㅋㅋㅋㅋ 물소형들 뛰 ㅡㅡㅡㅡ어\n",
      "COMMENT\t발기부전\t2021.09.27. 19:53\t■디매인 라이프■\tNone\t왔다..내 사랑\n",
      "COMMENT\t키큰여자좋아함\t2021.09.27. 19:52\t■디매인 라이프■\tNone\t요새 안오셔서 기다렸어여누나..\n",
      "COMMENT\t남 도일\t2021.09.27. 19:52\t■디매인 라이프■\tNone\t청바지 데12룩은 항상 있네요 ㅎㅎ\n",
      "COMMENT\tDpr lan\t2021.09.27. 19:52\t■디매인 라이프■\tNone\t카톡완료\n",
      "COMMENT\t어예에에\t2021.09.27. 19:52\t■디매인 라이프■\tNone\t두두두두두둑\n",
      "COMMENT\t젊은사람\t2021.09.27. 19:52\t■디매인 라이프■\tNone\t글시가안보여요..\n",
      "COMMENT\t가나다라마가나다라\t2021.09.27. 19:52\t■디매인 라이프■\tNone\t하이\n",
      "COMMENT\t규맙다너에게\t2021.09.27. 19:52\t■디매인 라이프■\tNone\t사람이 문제다.\n",
      "COMMENT\t1305\t2021.09.27. 19:52\t■디매인 라이프■\tNone\t드디어 처음보네요ㅎ\n",
      "COMMENT\t차가운포근함\t2021.09.27. 19:52\t■디매인 라이프■\tNone\t노래 밤에 자기 전 들어보도록 하겠습니다! ㅎㅎ\n",
      "COMMENT\t김한자\t2021.09.27. 19:52\t■디매인 라이프■\tNone\t쬐고~~~~~!!!!\n",
      "COMMENT\t김 유 정\t2021.09.27. 19:52\t■디매인 라이프■\tNone\t누나짱짱\n",
      "COMMENT\t우리가보낸가장긴밤\t2021.09.27. 19:53\t■디매인 라이프■\tNone\t왔다 내누나\n",
      "COMMENT\t어바웃타임옴므\t2021.09.27. 19:53\t■디매인 라이프■\tNone\t하 세상예쁘심\n",
      "COMMENT\t09최희섭\t2021.09.27. 19:53\t■디매인 라이프■\tNone\t블그라떼 빨때옶이 먹는게 더맛나유\n",
      "COMMENT\t마 동 석\t2021.09.27. 19:53\t■디매인 라이프■\tNone\t와....지쥬...★\n",
      "COMMENT\t너구리쥬\t2021.09.27. 19:53\t■디매인 라이프■\tNone\t와 지수님 사진첨봐여 몸매가 명품 ㅠㅠ\n",
      "COMMENT\t무직스\t2021.09.27. 19:53\t■디매인 라이프■\tNone\t하... 인생\n",
      "COMMENT\t돞으\t2021.09.27. 19:53\t■디매인 라이프■\tNone\t사진에 마크 없어요\n",
      "COMMENT\t심심한나\t2021.09.27. 19:53\t■디매인 라이프■\tNone\t와 씨쓰루\n",
      "COMMENT\tnkdw\t2021.09.27. 19:53\t■디매인 라이프■\tNone\t항상 사람이 문제 ㅠㅠ\n",
      "COMMENT\t후시DEANN\t2021.09.27. 19:53\t■디매인 라이프■\tNone\t오랜만에 보는데 역시👍👍\n",
      "COMMENT\t영양프린스\t2021.09.27. 19:53\t■디매인 라이프■\tNone\t코디까지 완벽\n",
      "COMMENT\t브 루 니\t2021.09.27. 19:53\t■디매인 라이프■\tNone\tㅘ 존녜 횽림\n",
      "COMMENT\t케이원\t2021.09.27. 19:53\t■디매인 라이프■\tNone\t와우 ㄷㄷ\n",
      "COMMENT\t맥아더많이사랑한죄\t2021.09.27. 19:53\t■디매인 라이프■\tNone\t확실한 건 지수해옹림 인플루언서 이실것 같아요 ㅠㅠ\n",
      "COMMENT\t밀라노\t2021.09.27. 19:53\t■디매인 라이프■\tNone\t나죽네 나주거\n",
      "COMMENT\t예쁘면ㅡㅡ\t2021.09.27. 19:53\t■디매인 라이프■\tNone\tㅡㅡb\n",
      "COMMENT\t우리둘만아는\t2021.09.27. 19:53\t■디매인 라이프■\tNone\t다리핏 진쯔... 하의 입을맛 나겠다리 조녜!!\n",
      "COMMENT\t물 소\t2021.09.27. 19:53\t■디매인 라이프■\tNone\t사는게재미있으시겠다 ㄹㅇ\n",
      "COMMENT\t쿨키드20\t2021.09.27. 19:53\t■디매인 라이프■\tNone\t앗 지수님도 가는 김가네 김밥 반갑네요 ㅋㅋ\n",
      "COMMENT\t김 츄\t2021.09.27. 19:53\t■디매인 라이프■\tNone\t대조녜!!! 아이돌 비주얼 센터 메인보컬 메인댄서 다하세여 ㅠㅠㅠ\n",
      "COMMENT\t핑크팬\t2021.09.27. 19:53\t■디매인 라이프■\tNone\t짱짱맨\n",
      "COMMENT\tSTUS2Y\t2021.09.27. 19:54\t■디매인 라이프■\tNone\t인생외힙 있으신가요 추천 부탁드림니다!!!\n",
      "COMMENT\tOGGO\t2021.09.27. 19:54\t■디매인 라이프■\tNone\t회원님!! 청바지 진짜 잘 어울리세요,, 비율 미쳤네요,, 하앙\n",
      "COMMENT\t난 너를 응원해\t2021.09.27. 19:54\t■디매인 라이프■\tNone\t디매 원탑 디매 원픽 센터 ㄷㄷㄷ\n",
      "COMMENT\t치킨시킬까말까\t2021.09.27. 19:54\t■디매인 라이프■\tNone\n",
      "COMMENT\t트리마제\t2021.09.27. 19:54\t■디매인 라이프■\tNone\t화이자 2차 배꼽룩 ㄷ ㄷ\n",
      "COMMENT\t아작네\t2021.09.27. 19:54\t■디매인 라이프■\tNone\t실루엣 미쳫어요ㅠㅠ 부잣집 딸내미룩? ㅋㅋㅋ\n",
      "COMMENT\t토익 100점\t2021.09.27. 19:54\t■디매인 라이프■\tNone\t와 드릴로 맞으셨네\n",
      "COMMENT\t타키야 겐지\t2021.09.27. 19:54\t■디매인 라이프■\tNone\t왔다 조녜쨩 🥰🙌🙄🔫\n",
      "COMMENT\t집돌이야\t2021.09.27. 19:54\t■디매인 라이프■\tNone\t와 디매지수짱 딘짜\n",
      "COMMENT\t그린매니아\t2021.09.27. 19:55\t■디매인 라이프■\tNone\tㅠㅠ\n",
      "COMMENT\t우리는꿈을꾸는아재들\t2021.09.27. 19:55\t■디매인 라이프■\tNone\t이름에 지수들어간사람 특 존예\n",
      "COMMENT\t개구리형v\t2021.09.27. 19:56\t■디매인 라이프■\tNone\n",
      "COMMENT\t당신 거기 넣어줄래요\t2021.09.27. 19:56\t■디매인 라이프■\tNone\tㄹㅇ대존예\n",
      "COMMENT\t박스주운\t2021.09.27. 19:56\t■디매인 라이프■\tNone\t와 ㄷㄷ\n",
      "COMMENT\t로 제\t2021.09.27. 19:56\t■디매인 라이프■\tNone\t형림 안에 다 비치는거 29금인거 아임니까\n",
      "COMMENT\thell th\t2021.09.27. 19:56\t■디매인 라이프■\tNone\t와 진짜 늦었다\n",
      "COMMENT\tCccYyySss\t2021.09.27. 19:57\t■디매인 라이프■\tNone\t누님 아프지 마요\n",
      "COMMENT\t언제나좋음\t2021.09.27. 19:57\t■디매인 라이프■\tNone\t몸매 최고 ㅠ.ㅠ\n",
      "COMMENT\t측면삼각근\t2021.09.27. 19:58\t■디매인 라이프■\tNone\t울형냐 역시,,,아무사진이던 최고,,,✨✨ 백신맞고서는 잘먹고 잘쉬어야합니다 형림!! 🔥🔥\n",
      "COMMENT\t부드러운 시크남\t2021.09.27. 19:58\t■디매인 라이프■\tNone\t4번 이쁘네요\n",
      "COMMENT\tHelen\t2021.09.27. 19:59\t■디매인 라이프■\tNone\t와,, 세상여리여리,,,,,✨✨\n",
      "COMMENT\tㅇㅏ름다워\t2021.09.27. 19:59\t■디매인 라이프■\tNone\t거의죽습니다\n",
      "COMMENT\t이엘리야\t2021.09.27. 20:00\t■디매인 라이프■\tNone\t와 따 지 수 띤 😳😳\n",
      "COMMENT\t다만 빵에서 구하소서\t2021.09.27. 20:00\t■디매인 라이프■\tNone\n",
      "COMMENT\t신세 경\t2021.09.27. 20:01\t■디매인 라이프■\tNone\t와 지수쨩 올만에 왔다요~  역시 디매원탑👍\n",
      "COMMENT\t캐롤라인쑤\t2021.09.27. 20:01\t■디매인 라이프■\tNone\t일치 맛있쪼 거기 고르곤졸라 핏자도 맛나용 ㅋㅋ 저도 간지 쫌 되었는데 가바야겠어효❤️‍🔥 맛난거 마니 드시고 힘내세요...💪🏻\n",
      "COMMENT\t소다쇼\t2021.09.27. 20:01\t■디매인 라이프■\tNone\t청바지최고\n",
      "COMMENT\tapogee\t2021.09.27. 20:01\t■디매인 라이프■\tNone\tㅘㅘㅘ\n",
      "COMMENT\t소이밀크\t2021.09.27. 20:02\t■디매인 라이프■\tNone\t왔다!! 존예 지수찡💜 에고고 이제 괜찮으세요? 아프지마요오 🥲\n",
      "COMMENT\t삼겹살귀신\t2021.09.27. 20:02\t■디매인 라이프■\tNone\t배꼽샷 ㅋㅋㅋ\n",
      "COMMENT\t귤매니아2\t2021.09.27. 20:03\t■디매인 라이프■\tNone\t와 마지막 음악 취향 대박\n",
      "COMMENT\t손 흥민\t2021.09.27. 20:03\t■디매인 라이프■\tNone\t스테이씨걸 이츠 고잉 다운\n",
      "COMMENT\t코쵸우시노부\t2021.09.27. 20:04\t■디매인 라이프■\tNone\t이런 여신이랑 사귀면 어떤 느낌일까?\n",
      "COMMENT\t해적왕룹희\t2021.09.27. 20:04\t■디매인 라이프■\tNone\t디매 원탑님\n",
      "COMMENT\t밤의 징조\t2021.09.27. 20:05\t■디매인 라이프■\tNone\t이번 핼러윈 의상 뭐할건지 정함? 오만 잡놈이 다 오징어 게임 할 거 같아서 불길. 지수 믿어본다!!!!!\n",
      "COMMENT\t정 신 병 자\t2021.09.27. 20:05\t■디매인 라이프■\tNone\t와 화이자 부럽다\n",
      "COMMENT\t오리야 넌 늘 소중해\t2021.09.27. 20:06\t■디매인 라이프■\tNone\t지수님 오랜만이에요😍 아프면 안되요 마음아픕니다ㅠ\n",
      "COMMENT\t오늘만 사는놈\t2021.09.27. 20:06\t■디매인 라이프■\tNone\t이게.. 천국?\n",
      "COMMENT\t음모탈\t2021.09.27. 20:08\t■디매인 라이프■\tNone\n",
      "COMMENT\tF E R R A R I\t2021.09.27. 20:15\t■디매인 라이프■\tNone\t눈나 오랜만이네료👋\n",
      "COMMENT\t꼰데가르송\t2021.09.27. 20:16\t■디매인 라이프■\tNone\t나 딤애 접으까,,, 이걸 못 보네!!!(요)\n",
      "COMMENT\tYoung Sinatra\t2021.09.27. 20:16\t■디매인 라이프■\tNone\t아 진짜 선곡 리스트 어쩔거에여어어❤️❤️🔥🔥🔥\n",
      "COMMENT\t진인사대천명언\t2021.09.27. 20:19\t■디매인 라이프■\tNone\n",
      "COMMENT\t그림팔이소년\t2021.09.27. 20:19\t■디매인 라이프■\tNone\t하도 인기글에 올라거 진짜 연예인보다 이쁜게 분명하다 싶어 알람해두었는데 십분채안돼서 안보이니…해지해야겠네여 ㅠㅠㅠㅠ…ㅎㅎ사요나라!\n",
      "COMMENT\t정10\t2021.09.27. 20:19\t■디매인 라이프■\tNone\t아 펑 너무 빠르잖아요!! ㅠ\n",
      "COMMENT\t고먐미는연체동물이야\t2021.09.27. 20:20\t■디매인 라이프■\tNone\t급식보이큐 조와영\n",
      "COMMENT\t잠안오고\t2021.09.27. 20:21\t■디매인 라이프■\tNone\t와 못봤따 ㅜㅜㅜ\n",
      "COMMENT\t돌멩이님\t2021.09.27. 20:27\t■디매인 라이프■\tNone\t나 왜 맨날 못봐여 쒸익쒸익 😣💢\n",
      "COMMENT\tyArN\t2021.09.27. 20:29\t■디매인 라이프■\tNone\t아 .. 진짜 또 못봤어요..하아..선곡은 늘 추가중..\n",
      "COMMENT\t헐크 봉인중\t2021.09.27. 20:32\t■디매인 라이프■\tNone\t톰브 가디건 사이에 슬쩍배꼽 넘 섹시해요 :o\n",
      "COMMENT\t브이탄\t2021.09.27. 20:35\t■디매인 라이프■\tNone\t아.. 이걸 못보네 ㅠㅠ 지수누나 넘 빨리 가는거 아니에요?😭😭\n",
      "POSTING\t안녕효근\t2021.09.27. 19:29\t■디매인 라이프■\t※ 무료나눔 ※ 청바지와 티샤쓰\t1번 상품 리바이스 청바지입니다. 살이 쪄서 안 맞네요... 흑흙 허리 38 기장 90 밑단 24 2번 상품 빈티지 티셔츠 5종 길단 XL 사이즈입니다. 어깨 55 팔 길이 20 총장 75 이상의 큰 티셔츠입니다. 별것 아니지만 필요하시다면 좋은 나눔이 되고 싶네요! 댓글로 원하시는 상품 번호 올려주시면 추첨 후 댓글 드리겠습니다. 배송은 10월 6일 예상하며 배송 전까지 댓글 부탁드려요!!! @_@ ※상품은 착불배송 입니다!※\n",
      "COMMENT\t비엠더블유\t2021.09.27. 19:30\t■디매인 라이프■\tNone\t수험생 동생 입고다니라고 티셔츠 선물해주고싶어요!!\n",
      "COMMENT\t도깨비워락\t2021.09.27. 19:30\t■디매인 라이프■\tNone\t2번이요~!!\n",
      "COMMENT\t습도\t2021.09.27. 19:31\t■디매인 라이프■\tNone\t와 티셔츠 정말 취향이네요 길단 xl입는데 사이즈도 딱입니다! 2번 길단 티셔츠 신청드립니다\n",
      "COMMENT\t애기ㅈㅇ\t2021.09.27. 19:30\t■디매인 라이프■\tNone\t엇 저 바지 부탁드립니다!\n",
      "COMMENT\t어여쁘다\t2021.09.27. 19:31\t■디매인 라이프■\tNone\t2번 신청해봅니다 ㅎㅎ\n",
      "COMMENT\t노력해라\t2021.09.27. 19:32\t■디매인 라이프■\tNone\t티샤쯔 디자인 좋네유 사이즈도 얼추 맞는것 같아서 신청해볼게유! 나눔 감사용\n",
      "COMMENT\t살콤한상상\t2021.09.27. 19:33\t■디매인 라이프■\tNone\t2번 신청이요 !\n",
      "COMMENT\tv타락천사v\t2021.09.27. 19:36\t■디매인 라이프■\tNone\t2번욧!!\n",
      "COMMENT\tNarrow\t2021.09.27. 19:38\t■디매인 라이프■\tNone\t2번 신청합니다!!!\n",
      "COMMENT\t토토토토토토토\t2021.09.27. 19:39\t■디매인 라이프■\tNone\t2번 신청합니다\n",
      "COMMENT\tmbape\t2021.09.27. 19:50\t■디매인 라이프■\tNone\t2번 길단 티셔츠 신청합니다!\n",
      "POSTING\t세차가좋아\t2021.09.27. 19:26\t■디매인 라이프■\t작업복 바지 머입으시나여?\t정장안입구 조거팬츠나 면바지 입는데 추천좀 해주세요 ㅎㅎ\n",
      "COMMENT\t발딱선비\t2021.09.27. 19:27\t■디매인 라이프■\tNone\tCK모달\n",
      "COMMENT\t세차가좋아\t2021.09.27. 19:29\t■디매인 라이프■\tNone\t전 리바이스파 입니다 ㅋㅋ\n",
      "COMMENT\thaha38\t2021.09.27. 19:27\t■디매인 라이프■\tNone\t작업복은 청바지가 최고 아닌가요? 튼튼하고 찢어져도 걍 입고\n",
      "COMMENT\t세차가좋아\t2021.09.27. 19:29\t■디매인 라이프■\tNone\t역시 청바지만한게없는데 작업복으로 멋좀부리고싶네요 ㅎㅎ\n",
      "POSTING\t배불러도참고먹자\t2021.09.27. 18:33\t■디매인 라이프■\t다리 긴 분들 청바지 어디서 사나요?\t총장 최소 98은 됐으면하는데 대부분 짧네요 어디서 사시나요?\n",
      "COMMENT\t찌찌매니아\t2021.09.27. 18:34\t■디매인 라이프■\tNone\t총장 98정도는 피스워커 크롭버전만 사도 98은 될듯요\n",
      "COMMENT\t배불러도참고먹자\t2021.09.27. 18:35\t■디매인 라이프■\tNone\t아 그럼 그것보단 더 길었으면합니다..\n",
      "COMMENT\t찌찌매니아\t2021.09.27. 18:36\t■디매인 라이프■\tNone\t플랙진 베를린 좀 긴건 길게 나오더라고요\n",
      "COMMENT\t철통보안\t2021.09.27. 18:35\t■디매인 라이프■\tNone\t국내 도메스틱은 짧고 해외 부랜드가 기러요\n",
      "COMMENT\t도미노1\t2021.09.27. 18:36\t■디매인 라이프■\tNone\t길어본적이 없어서 생각치도 못햇네요 하하하하하하하하하하하핳하하하ㅏㅎ하하\n",
      "COMMENT\t호랑이의 열정\t2021.09.27. 18:38\t■디매인 라이프■\tNone\t총장 98은 ??? 어디서든 가능이지 않나요? 110정도 되는줄...\n",
      "COMMENT\t신 혜 선\t2021.09.27. 18:42\t■디매인 라이프■\tNone\t22 당장 105정도도 엄청 많을거같은데여\n",
      "COMMENT\t아즈모\t2021.09.27. 18:45\t■디매인 라이프■\tNone\t클럽모나코꺼도 길게 나오던데요\n",
      "POSTING\t닉네임할게없다\t2021.09.27. 18:20\t■디매인 라이프■\t회사에서 신을 전투화로 뉴발574 괜찮은가요?\t청바지나 면바지(크림/블랙)와 슬랙스에 주로 신을 듯 합니다. 상의는 옥스포드셔츠나 피케티? 정도가 될 듯 하네요! 전투화라 992 993은 너무 과한 듯 한데,, 예쁘게 잘 신었다 이런거 없이 그냥 무난하게 신을 용도로는 574 괜찮을까요?\n",
      "COMMENT\t띠옹\t2021.09.27. 18:20\t■디매인 라이프■\tNone\t회사원이시면 992하나 질러줍시당\n",
      "COMMENT\t닉네임할게없다\t2021.09.27. 18:21\t■디매인 라이프■\tNone\t앜ㅋㅋㅋ 첫월급도 아직인 초년생입니다..\n",
      "COMMENT\t가 능 성\t2021.09.27. 18:26\t■디매인 라이프■\tNone\t원래 992 993 생각하신거면 2002rc도 추천드려여 흰끈이나 아이보리 끈으로 바꾸면 이뻐요\n",
      "COMMENT\t닉네임할게없다\t2021.09.27. 18:31\t■디매인 라이프■\tNone\t아 2002R 그레이에 흰끈이나 아이보리끈이요? 감사합니다 :) 992 반값이긴 하네여.. 280사이즈 기준\n",
      "POSTING\t대구민샘\t2021.09.27. 17:40\t●디매인 쇼핑후기●\t20FW 역시즌 코오롱스포츠 안타티카 데일리 패딩 후기\t● 개인 채널, SNS 및 기타 외부 이벤트/협찬 상품을 노출하는 경우 - 해당브랜드 금칙어 및 영구강퇴 ● 제품의 실사가 없는 구입내역/아이쇼핑 후기 = '패션' 게시판. ● 규정상 정상 브랜드명 기입이 불가능한 스팸어브랜드 작성이 불가능 합니다. (스팸어(금칙어) 전체공지 참고) ● '자체제작','보세' 표기금지 해당업체명(쇼핑몰명, oo상가) 정확히 기재. 혹은 '(정보없음, 기억안남)' 으로 표기. '정보없음, 기억안남' 표기 후 쪽지/댓글로 정보를 주는 행위 강력제재. ● 정보누락글 제재. \"(정보/좌표) 쪽지요청\" \"쪽지발송\" 댓글 제재 -> 모든 정보는 본문기재 및 댓글로 답변. 내용  노비스 야테시,이브살로몬,아이더 크로노스,코오롱스포츠 안타티카롱,제스트,테라노바롱, 헨리코튼 스핏파이어,네파 아르테 기타등등 패딩을 워낙 좋아하는 패딩남입니다 이번에 구입한 패딩은 안타티카 데일리입니다 색상은 그레이와 차콜카키 두가지 색인데 그 중에 차콜카키를 구입하였습니다 그레이는 류준열님으로 대체 할께요 ^^ 작년부터 역시즌 뜨면 살려고 찍어둔 패딩인데 이유에 대해서 이야기 해보면 1.코오롱스포츠 안타티카는 유명하니까 아는분들이 많죠    가지고 있는 분들도 많을거라 봅니다    18년이전 안타티카 숏이 우모량이 400g중반대로 아는데         겨울철에 매일 입고 다니기에는 땀나고 덥습니다 겨울철 추울때만 입는 분들이 대부분입니다 거꾸로 이야기하면 패딩의 활용도가 떨어진다는 말도 되구요 그래서 나온게 안타티카 데일리죠 (안타티카에서 적당히 우모량을 빼고 활용도를 높인 말 그대로 데일리버전) 작년에 나온 안타티카 데일리는 스펙은 위에 있는것처럼 고어인피니움  유러피안구스 800필이상 솜털과 깃털비율 9:1 우모량은 모름 (입어본 느낌은 대충 300g초~중반정도) 본사에 전화해서 문의했는데 모른다고 하더라구요  물론 예전에 비해 우모량이 줄어서 오픈을 안 할수도 있구요 느낌상 입어보니 코오롱스포츠 제스트와 거의 비슷합니다 개인적으로 가장 자주입고 좋아하는게 17년 제스트인데 우모량이 340g인데 비슷한 느낌입니다 (19년 제스트도 이월로 판매하나 재질이 다릅니다  17년 제스트는 일본수입원단이라서 재질도 짱짱하고 신축성이 있음) 매일 입을수 있는 딱 원하는 보온력입니다 개인적으로 영하 3도정도까지는 매일 입고 다녀도 될 정도입니다 따뜻하고 가벼운 편입니다 (저는 기온별로 패딩을 바꾸어 입고 다닙니다) 그렇기 때문에 활용도가 높습니다 2. 색감이 상당히 마음에 들고 좋습니다     (사진보다 실물이 고급스러움)     보통 겨울패딩은 모두 검정색이 대부분인데 차콜카키는 보자마자 질 좋은 야상자켓이 바로 생각나더라구요 차콜카키라서 어두운 카키라고 생각하시면 됩니다 밝은곳에서는 카키 어두운 곳에서는 차콜에 가까운 차분한 색인데 재질도 좋아서 마음에 들더라구요 3. 개인적으로 안타티카 오리지널은 2010년 초반때로 회귀한 디자인이라고 생각되고 안타티카 데일리는 미니멀하고 야상스타일에 깔끔함이 있습니다  (안타티카 오리지널은 안타티카 데일리보다 좀 더 우모량이 많은 버전-사실 이 버전은 타 아웃도어에도 대체제가 있음) 팔꿈치 투톤도 없어서 아웃도어의 느낌도 없구요 다만 단점은 남성용은 모자의 디플렉티브와 뒷쪽의 안타티카 로고인데 왜 그랬을까하는 의문이 생기는 디자인이구요 참고로 여성용 안타티카 데일리는 디플렉티브와 안타티카로고가 없습니다  하지만 다행히도 모자에 로고가 가려지고 색상이 어두운 카키라서 눈에 들어오지는 않더라구요 안타티카 데일리는 평상시 입고 다니는 용도에 패딩이라면 가장 활용도가 높은 좋은 패딩이구요 질 좋은 카키야상의 겨울버전을 좋아하신다면 현명한 선택이라구 생각합니다  청바지나 아무거나 입어도 무난히 잘 어울리구요 고가라인 특유의 마감,재질 고급스러운 디테일도 좋구요 (하단 주머니는 자석으로 닫고 하단주머니 옆쪽으로 사이드지퍼까지 그리고 내부에도 큰 주머니,안경닦이 등등 소소한 디테일이 상당히 좋습니다) 코오롱스포츠 작년 다른 패딩들은 인터넷이나 공식 홈페이지 뜨는데 세일가로 뜨는데 안타티카 데일리만 유일하게 공식홈페이지에서 빠져있더라구요 예전에 코오롱스포츠 스칼렛이 그랬습니다 인터넷도 신기하게도 80만원대만 올라와 있구요 저는 수소문해서 37만 2600원에 최저가 구입했습니다 (46% 할인가이고 이번달 말까지라고 알고 있음-정가 69만원) 100사이즈 기준으로 정 103정도라서 살짝 더 큽니다 기장은 엉덩이를 딱 가리는 길이구요 코오롱스포츠 작년 다른 패딩들보다 할인율은 낮은편인데 개인적인 만족도나 활용도는 더 좋다고 생각합니다  안타티카 데일리가 이월수량이 극소량으로 확인 (재고부담으로 많이 만들지 않는걸로 보임) 그래서 코오롱에서 타 패딩대비 이월 할인율을 낮추었다는 생각도 들구요 (참고로 코오롱스포츠 이월매장의 상당수가 정상매장으로 바뀌었으니 직접 입어보실분들은  참고하세요 작년에 신상매장에서 입어 봤지만 다시 입어보고 선택할려고했는데 대구에는 이월매장이 전부 다 없어져서 애 먹었네요) 이제 이월패딩들도 슬슬 날씨가 추워지면서 나름 유명한 패딩들은 재고가 다 빠지고 가격이 오르니 서둘러 월동준비하세요 (매년 가격체크 하다보니 가격이 어떻게 움직이는지 보이네요)  마음에 드는 좋은 패딩들이 있다면 저렴한 가격에  빨리 준비하세요 (혹여나 다른 역시즌 패딩들이 궁금하시다면 제 이전 작성글 참고하세요) ※ 게시자는 '쪽지/좌표요청' 댓글이 발생하지 않고 정보가 잘 전달될 수 있도록 본문 내 정보를 최대한 작성해 주세요.\n",
      "COMMENT\tA Threesome Place\t2021.09.27. 17:44\t●디매인 쇼핑후기●\tNone\t이거 후기 기다렸습니다ㅜㅜ 지금부터 아울렛 발품뛰면 있을까요? 디자인이 영 별로라 안땡기긴했는데ㅜ\n",
      "COMMENT\t대구민샘\t2021.09.27. 18:16\t●디매인 쇼핑후기●\tNone\t실물이 사진보다 훨씬 좋구요  이거 뒤쪽은 모자에 가리고 차콜카키는 입고 다녀도 표가 거의 안 나더라구요 매일 입는 패딩 사는거면 강추합니다 아울렛마다 가격이 조금씩 다릅니다 코오롱스포츠 이월도 같이 파는 매장들도 이제 정상매장으로 전환했더라구요 그리고 아울렛에 전화돌려보니 105사이즈는 거의 몇장 없더라구요 100사이즈도 많지 않구요 참고하세요\n",
      "COMMENT\tA Threesome Place\t2021.09.27. 17:49\t●디매인 쇼핑후기●\tNone\t감사합니다!\n",
      "COMMENT\t아지루니\t2021.09.27. 18:28\t●디매인 쇼핑후기●\tNone\t여자것도 있으면 어머니께 효도 선물로 해드리고 싶네여 ㄷㄷㄷ\n",
      "COMMENT\t대구민샘\t2021.09.27. 18:30\t●디매인 쇼핑후기●\tNone\n",
      "COMMENT\t대구민샘\t2021.09.27. 18:30\t●디매인 쇼핑후기●\tNone\n",
      "COMMENT\t대구민샘\t2021.09.27. 18:33\t●디매인 쇼핑후기●\tNone\t위에는 여자버전 안타티카 데일리 2종입니다\n",
      "COMMENT\t대구민샘\t2021.09.27. 18:37\t●디매인 쇼핑후기●\tNone\t하지만 어머니는 이거 선물하세요 이게 갑이네요 제가 예전에 리뷰도 썼네요  코오롱스포츠 스칼렛 정상가 110만원 이월가 40만원 초반 참고로 저도 어머니와 와이프 선물한 패딩 안타티카 상위버전에 허리가 날씬해보이고 폭스퍼가 대박이네요 국산패딩중에 최고 참고로 이거도 이제 완판전입니다\n",
      "COMMENT\t대구민샘\t2021.09.27. 18:41\t●디매인 쇼핑후기●\tNone\n",
      "COMMENT\t슈퍼맨이 돌아왔다\t2021.09.27. 19:23\t●디매인 쇼핑후기●\tNone\t전화돌려서 구매해야하나요 인터넷이아니라??\n",
      "COMMENT\t대구민샘\t2021.09.27. 19:25\t●디매인 쇼핑후기●\tNone\t어떤 패딩을 물어보시는거죠?\n",
      "COMMENT\t으으으으으으응\t2021.09.27. 19:27\t●디매인 쇼핑후기●\tNone\t이거 중계업체에 일부사이즈널린듯\n",
      "COMMENT\t대구민샘\t2021.09.27. 19:28\t●디매인 쇼핑후기●\tNone\t맞아요 스칼렛 중계업처에서 파는데 주문해보시면 황금사이즈들은 거의 다 팔렸네요 얼마 안 남았죠\n",
      "COMMENT\t으으으으으으응\t2021.09.27. 19:29\t●디매인 쇼핑후기●\tNone\t중계업체에 제스트도있던데 제스트 무게감은 어떤가요 민샘님\n",
      "COMMENT\t대구민샘\t2021.09.27. 19:42\t●디매인 쇼핑후기●\tNone\t그게 저도 19년 제스트 실물은 봤는데 본문에도 쓴거처럼 17년 제스트보다는 못해요 그때는 제스트가 안타티카보다 비쌌고 특히 재질이 일본수입원단이라서 신축성도 좋고 짱짱했는데 19년 제스트는 재질이 바뀌고 가격은 내리고 예전만 못하더라구요 무게는 생각보다 가벼워요  그래도 그 가격이면 괜찮다고 봅니다 하지만 예전보다 못해서 강추하긴 애매모호합니다\n",
      "COMMENT\t아지루니\t2021.09.27. 19:33\t●디매인 쇼핑후기●\tNone\t와 몰랐는데 리플이...친절함..ㄷㄷㄷ 감사합니다 정말!! 저거 예뻐보이는데 스칼렛,,왠지 엄청 무거울 거 같은데 어떤가요?? 어머니께서 무거우신 옷은 못입는 편이라요 궁금합니다, 그런데 퍼가 장난이 아니네여 ㄷㄷ\n",
      "COMMENT\t으으으으으으응\t2021.09.27. 19:35\t●디매인 쇼핑후기●\tNone\t추석때쌌는데조금올랐네요\n",
      "COMMENT\t대구민샘\t2021.09.27. 19:43\t●디매인 쇼핑후기●\tNone\t강추합니다 가벼워요 국내 여성패딩중에 원답이라고 생각하는 패딩이고 여성 안타티카롱보다 허리라인이 날씬함 보온과 라인을 다 잡은 유일한 패딩입니다 라인을 잡은 패딩들은 일반적으로 우모량이 작아서 추워요 여성분들은 날씬하게 입는거 좋아하시죠 그리고 폭스퍼는 사제 폭스퍼업체보다 양질입니다 40만원 초반이라도 퀄리티 생각하면 혜자가격입니다\n",
      "COMMENT\t대구민샘\t2021.09.27. 19:37\t●디매인 쇼핑후기●\tNone\t그렇죠 이제 추워지면 유명 역시즌 패딩들 물량도 빠지고 가격도 오름 지금이 기회이긴 해요\n",
      "COMMENT\t아지루니\t2021.09.27. 19:44\t●디매인 쇼핑후기●\tNone\t아이고 그럼 미리 사드려야 겠네요. 인터넷에서 검색해서 사이즈 있는 곳에서 사도 문제는 없겠죠?\n",
      "COMMENT\t대구민샘\t2021.09.27. 19:45\t●디매인 쇼핑후기●\tNone\t네 그렇더라구요 업체리뷰보시고 선택하세요\n",
      "COMMENT\t아지루니\t2021.09.27. 19:53\t●디매인 쇼핑후기●\tNone\t죄송한데 패딩 전문가이신거 같아서 한가지만 여쭤볼께여 ㅋㅋ 혹시 이 제품 보다 기장이 짧은 모델 추천 해주실 수 있는거 있을까요?? 무릎위쯤 오는 기장으로 어머니 키가 160초반입니다\n",
      "COMMENT\t대구민샘\t2021.09.27. 19:59\t●디매인 쇼핑후기●\tNone\t와이프도 159인데 잘 어울리는긴 해요 롱패딩보다는 살짝 짧은데 음 그러면 안타티카숏 19년버전으로 찾아보세요 20만원 중후반정도인데 이건 여성용은 아직 아울렛이나 인터넷에 재고 있더라구요 길이가 더 짧아요\n",
      "COMMENT\t대구민샘\t2021.09.27. 20:01\t●디매인 쇼핑후기●\tNone\n",
      "COMMENT\t대구민샘\t2021.09.27. 20:01\t●디매인 쇼핑후기●\tNone\thttps://msearch.shopping.naver.com/catalog/28631779040?NaPm=ct%3Dku2jhdq8%7Cci%3Df38c2a2d2ec4ae4f503bf04abd4313d29ac3bb00%7Ctr%3Dforuf%7Csn%3D95694%7Chk%3D2c0663f21ab6f8be279d9ee1adbffedb63191c13&cat_id=50002628&frm=MOFUSFS&query=%EC%95%88%ED%83%80%ED%8B%B0%EC%B9%B4&sort=LOW_PRICE\n",
      "COMMENT\t아지루니\t2021.09.27. 20:05\t●디매인 쇼핑후기●\tNone\t어이쿠 감사합니다!! 좋은 하루 보내세요!!\n",
      "COMMENT\t대구민샘\t2021.09.27. 20:05\t●디매인 쇼핑후기●\tNone\t네 따뜻한 겨울 보내세요\n",
      "COMMENT\t이제는삼십대\t2021.09.27. 19:25\t●디매인 쇼핑후기●\tNone\t한때 패딩을 좋아해서 패딩카페에서 활동도 했었는데요 대구민샌님 덕에 추억에 젖었네요 ㅎㅎ 안타키카 초판이 참 빵빵했었는데.. 요즘은 홀쭉하더라구요\n",
      "COMMENT\t대구민샘\t2021.09.27. 19:27\t●디매인 쇼핑후기●\tNone\t그렇죠 그 때는 몬스터급 패딩도 많았죠 이제는 시대의 흐름과 재고부담으로 저렴하고 홀쭉하게 가기는 하네요\n",
      "COMMENT\tkak tue\t2021.09.27. 19:38\t●디매인 쇼핑후기●\tNone\t요몇일세 안타티카 타커뮤도 세일글마니올라오네요ㅎㅎ 근데 여름에 세일가격보다 다 비싸게팔더라구요 ㅜ 아쉽\n",
      "COMMENT\t대구민샘\t2021.09.27. 19:39\t●디매인 쇼핑후기●\tNone\t이제 추워지면 당연히 비싸지죠 유명 역시즌 패딩들은 이제 빠지기 시작하니까요\n",
      "COMMENT\t쿠키팡\t2021.09.27. 20:24\t●디매인 쇼핑후기●\tNone\t오프 아울렛에서만 구매할수 있는건가요??\n",
      "COMMENT\t아미매니아\t2021.09.27. 20:32\t●디매인 쇼핑후기●\tNone\t아울렛에서 39에 살까말까 진짜 고민 많이하다 안샀는데 지금 보니 또 사고싶네요 ㅎㅎ\n",
      "COMMENT\t태식아\t2021.09.27. 20:32\t●디매인 쇼핑후기●\tNone\t딱 구매하고 싶은 패딩이네요. 이월상품은 어디서 어찌확인해 볼수있을까요?\n",
      "POSTING\t은바비\t2021.09.27. 16:39\t■디매인 라이프■\t주말 ㄹㄹ\t큰일났어요  운동복입고 다니는게 편해졌네요 청바지 슬랙스 다 불편해요ㅠㅠㅠㅠ 퇴근하자마자 용산에 찜해둔 고깃집으로 출석 ㅇ처음처럼시키면 이름대로 프린팅해서  땡땡처럼 만들어줘여ㅋㅋㅋㅋㅋㅋ 용산피플들이 자주 간다는 포차도 가봤어여,, 일단 기본찬들로 소주 한병 그냥 먹어요 이건 짜파게티 ,,,  청경채에 칵테일새우까지 완벼크 저렇게 다 묻히고 이모님이랑 얘기함요,,  안 닦아주고 동영상까지 찍던 그 ,,,  히히 이제 금주할거에요 ^___^\n",
      "COMMENT\t클래식 블 루\t2021.09.27. 16:40\t■디매인 라이프■\tNone\n",
      "COMMENT\t은바비\t2021.09.27. 16:41\t■디매인 라이프■\tNone\n",
      "COMMENT\t이 말 년\t2021.09.27. 16:40\t■디매인 라이프■\tNone\t고기 마싯겠당\n",
      "COMMENT\t은바비\t2021.09.27. 16:40\t■디매인 라이프■\tNone\t맛있겠져 이번주에 또 갈거에요\n",
      "COMMENT\t이쉡\t2021.09.27. 16:40\t■디매인 라이프■\tNone\t와\n",
      "COMMENT\t은바비\t2021.09.27. 16:42\t■디매인 라이프■\tNone\t칸\n",
      "COMMENT\tP e a c h e s\t2021.09.27. 16:40\t■디매인 라이프■\tNone\t졸귀\n",
      "COMMENT\t은바비\t2021.09.27. 16:42\t■디매인 라이프■\tNone\t감사해용\n",
      "COMMENT\t군대리아좋아함\t2021.09.27. 16:40\t■디매인 라이프■\tNone\t고깃집 알려주세요…\n",
      "COMMENT\t은바비\t2021.09.27. 16:41\t■디매인 라이프■\tNone\t마라돈왕주먹고기 용산이에요!\n",
      "COMMENT\t키큰횽아\t2021.09.27. 16:40\t■디매인 라이프■\tNone\t존쟈르의향기가..\n",
      "COMMENT\t은바비\t2021.09.27. 16:41\t■디매인 라이프■\tNone\t형 ,,,,\n",
      "COMMENT\t아닉\t2021.09.27. 16:40\t■디매인 라이프■\tNone\t포차 이름이 먼가야\n",
      "COMMENT\t은바비\t2021.09.27. 16:41\t■디매인 라이프■\tNone\t포차 이름이 없어요 ... ㅋㅋㅋㅋㅋㅋ\n",
      "COMMENT\t아닉\t2021.09.27. 16:42\t■디매인 라이프■\tNone\t그냥… 보세요??\n",
      "COMMENT\t은바비\t2021.09.27. 16:45\t■디매인 라이프■\tNone\t이름은 따로 없구 한강사철탕 주소찍고 가시면 돼요 가게옆에 지하에 있어욬ㅋ⫬ㅋ⫬ㅋ⫬ㅋ⫬\n",
      "COMMENT\t아닉\t2021.09.27. 16:46\t■디매인 라이프■\tNone\t감사합니다~\n",
      "COMMENT\t가슴털로망스\t2021.09.27. 16:40\t■디매인 라이프■\tNone\t어우야..\n",
      "COMMENT\t은바비\t2021.09.27. 16:41\t■디매인 라이프■\tNone\t왜 왜여,,,\n",
      "COMMENT\t야수돈돈\t2021.09.27. 16:42\t■디매인 라이프■\tNone\t먹보 1짱 찰쨔아앙앙\n",
      "COMMENT\t은바비\t2021.09.27. 16:42\t■디매인 라이프■\tNone\t.... 먹보ㅠ_ㅠ\n",
      "COMMENT\t고먐미는연체동물이야\t2021.09.27. 16:42\t■디매인 라이프■\tNone\t와 포차 기본안주 무엇 ㄷㄷㄷ\n",
      "COMMENT\t은바비\t2021.09.27. 16:46\t■디매인 라이프■\tNone\t안주 대박이져 .. 소시지에 무심한듯 부친 계란후라이, 김치면 끝났죠\n",
      "COMMENT\t고먐미는연체동물이야\t2021.09.27. 16:50\t■디매인 라이프■\tNone\t크으..적셔!!!\n",
      "COMMENT\t반부패부 박정환\t2021.09.27. 16:43\t■디매인 라이프■\tNone\n",
      "COMMENT\t은바비\t2021.09.27. 16:46\t■디매인 라이프■\tNone\n",
      "COMMENT\t다만 빵에서 구하소서\t2021.09.27. 16:43\t■디매인 라이프■\tNone\n",
      "COMMENT\t은바비\t2021.09.27. 16:46\t■디매인 라이프■\tNone\n",
      "COMMENT\t올리브형\t2021.09.27. 16:57\t■디매인 라이프■\tNone\t와ㅡㅡ\n",
      "COMMENT\t은바비\t2021.09.27. 17:03\t■디매인 라이프■\tNone\t와\n",
      "COMMENT\t천년무검\t2021.09.27. 18:06\t■디매인 라이프■\tNone\n",
      "COMMENT\t송규\t2021.09.27. 18:08\t■디매인 라이프■\tNone\t한강사털탕 와드\n",
      "COMMENT\t엉덩\t2021.09.27. 18:10\t■디매인 라이프■\tNone\t대개 은행나무 포차라고 부르죠 ㅋㅋㅋ\n",
      "COMMENT\t베이지ㄱ\t2021.09.27. 18:13\t■디매인 라이프■\tNone\t여자분들 레깅스만 입고 다니는거 신기해요. 거의 색 있는 스타킹 같은데\n",
      "COMMENT\t남 도일\t2021.09.27. 18:14\t■디매인 라이프■\tNone\t청바지매니아에서 레깅스매니아 되는군요\n",
      "POSTING\tCollection Of Style\t2021.09.27. 13:43\t--\t마시모두띠 셔츠 어떤가욤?\t재질, 핏 폴로 셔츠에 비교해보면 어떤 수준인가요?\n",
      "COMMENT\t꽃향기폴폴\t2021.09.27. 13:44\t--\tNone\t스페인에서 사는거면 살만한데 한국은 비싸져서 오던데 아닌가요..?ㅠㅠ 고급자라 같아요\n",
      "COMMENT\tCollection Of Style\t2021.09.27. 13:45\t--\tNone\t가격은 세일이나 직구 해야겠군요 재질,핏은 괜찮나요? 가격 대비 별로인가요?\n",
      "COMMENT\t꽃향기폴폴\t2021.09.27. 13:48\t--\tNone\t네 저는 3년전에 샀는데도 티셔츠 조차 목늘어짐 없어요 원피스 청바지 매우 다 잘입고있슴당 !\n",
      "COMMENT\tCollection Of Style\t2021.09.27. 13:48\t--\tNone\t로고플레이도 아니고 딱좋겠네요! 로고플레이 싫어해서요..ㅎㅎ\n",
      "COMMENT\t동산병원\t2021.09.27. 13:44\t--\tNone\t걍 디자인 이쁜게 가끔 보이면 사는 정도?\n",
      "COMMENT\tCollection Of Style\t2021.09.27. 13:46\t--\tNone\t혹시 폴로 가먼트다이 같은거 비슷한 제품 있을가요?\n",
      "COMMENT\t동산병원\t2021.09.27. 13:55\t--\tNone\t그거는 그냥 폴로 사시는게 낫지 않을까요? 있더라도 마시모에서 살 메리트가 별로 없을거같은데...\n",
      "COMMENT\tCollection Of Style\t2021.09.27. 14:02\t--\tNone\t정가에 사는건 메리트가 없나보네요 ...\n",
      "COMMENT\t바닐라더블샷톨아이스\t2021.09.27. 13:45\t--\tNone\t저 오가닉셔츠? 그거 있는데 재질 핏 다 맘에 들어요 가격만 한 3만원만 더 저렴하면 와 개이득 이러면서 살듯\n",
      "COMMENT\tCollection Of Style\t2021.09.27. 13:45\t--\tNone\t세일이나 직구를 노려야겠네요? 폴로 대체 셔츠 찾고 있는데 어떤가 궁금했습니다.\n",
      "POSTING\t271717177277\t2021.09.27. 12:57\t디매인 고민-상담\t닥터마틴 모노처럼 비즈니스 케쥬얼 (슬렉스,청바지) 다 잘 어울리는 신발?\t뭐가 있을까요? 굽도 좀 있음 좋겠어요.. 컨버스 척테일러는 제외해주세요.. 척테일러보다 굽이 더 있음 좋겠는데 ㅠㅠ 워커든 구두든 스니커즈든..\n",
      "COMMENT\t드제르매니아\t2021.09.27. 12:58\t디매인 고민-상담\tNone\t파라부트 미카엘\n",
      "COMMENT\t271717177277\t2021.09.27. 12:59\t디매인 고민-상담\tNone\t가격대가 좀 나가는군요 ㄷㄷ\n",
      "COMMENT\t드제르매니아\t2021.09.27. 15:08\t디매인 고민-상담\tNone\t라고 생각하시겠지만, 저 닥마 모노 6년째 신고 있고 파라부트 5년째 신고 있는데 둘다 밑창 멀쩡할정도로 내구도 괴물이에요\n",
      "COMMENT\t드제르매니아\t2021.09.27. 15:08\t디매인 고민-상담\tNone\t첫 구매가격 나누기 연수 로 치면 어정쩡한 신발 10만원주고 2~3년 신고 버릴바엔 그만큼 가치있게 돌아온다 생각합니다.\n",
      "COMMENT\t주아앙\t2021.09.27. 13:00\t디매인 고민-상담\tNone\t윗분 말대로 파라부트 미카엘도 좋아요! 근데 뭔가 여기저기 어울리는 느낌은 아니고, 청바지나 반바지에 어울리는듯한… 요즘엔 레드윙 포스트맨만 신고 있는데 좋아요!\n",
      "COMMENT\t271717177277\t2021.09.27. 13:46\t디매인 고민-상담\tNone\t포스트맨도 괜찮네요. 가격대가 얼마죠?\n",
      "COMMENT\t주아앙\t2021.09.27. 18:21\t디매인 고민-상담\tNone\t20만원대로 기억해요!\n",
      "COMMENT\t첫\t2021.09.27. 14:02\t디매인 고민-상담\tNone\t쫌 투자하면 파라부트 3(미카엘/샴보드/아비뇽) 그냥 가성비명 하루타( 더비711/ 등) / 리갈\n"
     ]
    }
   ],
   "source": [
    "# 파일에 저장된 카페 게시글 내용을 확인합니다.\n",
    "f = open(\"naver_cafe_dieselmania.txt\", encoding=\"utf-8\")\n",
    "for post in f:\n",
    "    print(post.strip())\n",
    "f.close()"
   ]
  },
  {
   "cell_type": "code",
   "execution_count": null,
   "metadata": {},
   "outputs": [],
   "source": []
  }
 ],
 "metadata": {
  "kernelspec": {
   "display_name": "Python 3",
   "language": "python",
   "name": "python3"
  },
  "language_info": {
   "codemirror_mode": {
    "name": "ipython",
    "version": 3
   },
   "file_extension": ".py",
   "mimetype": "text/x-python",
   "name": "python",
   "nbconvert_exporter": "python",
   "pygments_lexer": "ipython3",
   "version": "3.8.3"
  }
 },
 "nbformat": 4,
 "nbformat_minor": 2
}
