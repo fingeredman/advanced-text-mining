{
 "cells": [
  {
   "cell_type": "markdown",
   "metadata": {},
   "source": [
    "# ADVANCED TEXT MINING\n",
    "- 본 자료는 텍스트 마이닝을 활용한 연구 및 강의를 위한 목적으로 제작되었습니다.\n",
    "- 본 자료를 강의 목적으로 활용하고자 하시는 경우 꼭 아래 메일주소로 연락주세요.\n",
    "- 본 자료에 대한 허가되지 않은 배포를 금지합니다.\n",
    "- 강의, 저작권, 출판, 특허, 공동저자에 관련해서는 문의 바랍니다.\n",
    "- **Contact : ADMIN(admin@teanaps.com)**\n",
    "\n",
    "---"
   ]
  },
  {
   "cell_type": "markdown",
   "metadata": {},
   "source": [
    "## WEEK 04-1. 동적 페이지 수집하기: 네이버 카페\n",
    "- Python을 활용해 가상의 브라우저를 띄워 웹페이지에서 데이터를 크롤링하는 방법에 대해 다룹니다.\n",
    "\n",
    "---"
   ]
  },
  {
   "cell_type": "markdown",
   "metadata": {},
   "source": [
    "> **\\*\\*\\* 주의사항 \\*\\*\\***  \n",
    "본 자료에서 설명하는 웹크롤링하는 방법은 해당 기법에 대한 이해를 돕고자하는 교육의 목적으로 사용되었으며,  \n",
    "이를 활용한 대량의 무단 크롤링은 범죄에 해당할 수 있음을 알려드립니다."
   ]
  },
  {
   "cell_type": "markdown",
   "metadata": {},
   "source": [
    "### 1. 가상의 브라우저 실행하기: Chrome Driver\n",
    "\n",
    "---"
   ]
  },
  {
   "cell_type": "code",
   "execution_count": 1,
   "metadata": {},
   "outputs": [],
   "source": [
    "# 가상의 브라우저를 컨트롤 할 수 있도록 도와주는 selenium 패키지를 설치합니다.\n",
    "# 아래 주석을 해지하고 셀을 실행합니다.\n",
    "# 설치는 한번만 수행하면 되며, 재설치시 Requirement already satisfied: ~ 라는 메시지가 출력됩니다.\n",
    "\n",
    "#!pip install selenium"
   ]
  },
  {
   "cell_type": "code",
   "execution_count": 2,
   "metadata": {},
   "outputs": [],
   "source": [
    "# Python 코드를 통해 가상의 브라우저를 띄우기 위해 selenium 패키지를 import 합니다.\n",
    "import selenium\n",
    "from selenium import webdriver\n",
    "from selenium.webdriver.common.by import By\n",
    "\n",
    "# selenium을 활용해 브라우저를 직접 띄우는 경우, 실제 웹서핑을 할때처럼 로딩시간이 필요합니다.\n",
    "# 로딩시간 동안 대기하도록 코드를 구성하기위해 time 패키지를 import 합니다.\n",
    "import time\n",
    "\n",
    "# Python 코드를 통해 웹페이지에 정보를 요청하기 위해 BeautifulSoup, urllib 패키지를 import 합니다.\n",
    "from bs4 import BeautifulSoup\n",
    "import requests"
   ]
  },
  {
   "cell_type": "code",
   "execution_count": 6,
   "metadata": {},
   "outputs": [
    {
     "name": "stderr",
     "output_type": "stream",
     "text": [
      "<ipython-input-6-874df4b8fdf5>:15: DeprecationWarning: use options instead of chrome_options\n",
      "  driver = webdriver.Chrome(executable_path = \"./chromedriver\", chrome_options=chrome_options)\n"
     ]
    }
   ],
   "source": [
    "# Chrome Driver를 호출합니다.\n",
    "chrome_options = webdriver.ChromeOptions()\n",
    "\n",
    "# 브라우저에 임의로 User-agent 옵션을 넣어 Python 코드로 접속함을 숨깁니다.\n",
    "chrome_options.add_argument('--user-agent=\"Mozilla/5.0 (Macintosh; Intel Mac OS X 10_13_4) AppleWebKit/537.36 (KHTML, like Gecko) Chrome/66.0.3359.139 Safari/537.36\"')\n",
    "\n",
    "# Chrome Driver 파일의 경로를 지정하고 실행합니다.\n",
    "# Chrome Driver는 아래 링크에서 다운로드 가능합니다.\n",
    "# 본 Jupyter Notebook 파일과 동일한 경로에 Chrome Driver가 존재하는 경우 아래 경로를 그대로 사용합니다.\n",
    "\n",
    "# Windows 운영체제\n",
    "#driver = webdriver.Chrome(executable_path = \"chromedriver\", chrome_options=chrome_options)\n",
    "\n",
    "# MAC, Linux 운영체제 - 경고메시지 출력 시 보안 및 개인정보보호 메뉴에서 \"확인없이 허용\" 클릭 필요함\n",
    "driver = webdriver.Chrome(executable_path = \"./chromedriver\", chrome_options=chrome_options)"
   ]
  },
  {
   "cell_type": "markdown",
   "metadata": {},
   "source": [
    "Chrome Driver 다운로드 URL : http://chromedriver.chromium.org/downloads"
   ]
  },
  {
   "cell_type": "markdown",
   "metadata": {},
   "source": [
    "### 2. 가상의 브라우저를 활용에 사이트 접속하기\n",
    "\n",
    "---"
   ]
  },
  {
   "cell_type": "code",
   "execution_count": 7,
   "metadata": {},
   "outputs": [],
   "source": [
    "# 브라우저에서 URL에 해당하는 페이지로 이동합니다.\n",
    "URL = \"https://www.daum.net\"\n",
    "driver.get(URL)\n",
    "# 실제 페이지가 불러와지는 시간을 고려해 sleep(SEC) 함수로 기다리는 시간을 지정해줍니다.\n",
    "time.sleep(2)"
   ]
  },
  {
   "cell_type": "code",
   "execution_count": 8,
   "metadata": {},
   "outputs": [],
   "source": [
    "# 네이버 메인페이지로 이동합니다.\n",
    "URL = \"https://www.naver.com\"\n",
    "driver.get(URL)\n",
    "time.sleep(2)"
   ]
  },
  {
   "cell_type": "code",
   "execution_count": 9,
   "metadata": {},
   "outputs": [],
   "source": [
    "# 네이버 카페에 접근하기 위해서는 로그인이 필요합니다.\n",
    "# 네이버 로그인 페이지로 이동합니다.\n",
    "# click() 함수로 원하는 요소(태그)를 클릭할 수 있습니다.\n",
    "driver.find_element(By.CLASS_NAME, \"link_login\").click()\n",
    "time.sleep(2)"
   ]
  },
  {
   "cell_type": "code",
   "execution_count": 10,
   "metadata": {},
   "outputs": [],
   "source": [
    "# 네이버 로그인 페이지에서 아이디(ID)와 비밀번호(PW)를 입력합니다.\n",
    "# 아이디와 비밀번호를 브라우저에서 직접 입력해도 됩니다.\n",
    "ID = \"여기에 ID를 입력합니다.\"\n",
    "PW = \"여기에 PW를 입력합니다.\"\n",
    "driver.find_element(By.NAME, \"id\").send_keys(ID)\n",
    "driver.find_element(By.NAME, \"pw\").send_keys(PW)"
   ]
  },
  {
   "cell_type": "code",
   "execution_count": 11,
   "metadata": {},
   "outputs": [],
   "source": [
    "# 로그인 버튼을 클릭해 로그인합니다.\n",
    "# 대부분의 경우 자동입력 방지문자 입력이 화면이 출력됩니다.\n",
    "# 이 경우 브라우저에서 직접 로그인합니다.\n",
    "# 직접 로그인 하는 경우 이 셀을 실행하지 않아도 됩니다.\n",
    "#driver.find_element(By.NAME, \"frmNIDLogin\").submit()\n",
    "#time.sleep(2)"
   ]
  },
  {
   "cell_type": "markdown",
   "metadata": {},
   "source": [
    "### 3. 네이버 카페 게시물 링크 수집하기\n",
    "\n",
    "---"
   ]
  },
  {
   "cell_type": "code",
   "execution_count": 12,
   "metadata": {},
   "outputs": [
    {
     "name": "stderr",
     "output_type": "stream",
     "text": [
      "<ipython-input-12-4eaf79961b6d>:22: DeprecationWarning: use driver.switch_to.frame instead\n",
      "  driver.switch_to_frame(driver.find_element(By.NAME, \"cafe_main\"))\n",
      "<ipython-input-12-4eaf79961b6d>:37: DeprecationWarning: use driver.switch_to.default_content instead\n",
      "  driver.switch_to_default_content()\n"
     ]
    }
   ],
   "source": [
    "# 수집할 카페 게시물의 링크주소를 저장할 리스트를 생성합니다.\n",
    "post_list = []\n",
    "\n",
    "# 브라우저에서 직접 내가 수집할 카페에 접속합니다.\n",
    "# 카페 검색기능을 활용해 수집하고 싶은 내용을 검색합니다.\n",
    "# 키워드, 기간, 정렬기준 등을 지정해 원하는 검색결과를 화면에 띄웁니다.\n",
    "# 검색 후 게시물 리스트가 포함된 \"진짜 URL\"을 찾아냅니다.\n",
    "# URL을 복사할 때 맨뒤에 \"...%26search.page=3\" 부분의 숫자(페이지번호)는 제거하고 입력합니다.\n",
    "# 예시는 네이버 카페 \"디젤매니아\"에서 \"청바지\"라는 키워드로 검색된 게시물 URL 입니다.\n",
    "# 게시물 열람이 가능한 계정으로 카페에 접근해야 수집이 가능합니다.\n",
    "URL = \"https://cafe.naver.com/dieselmania?iframe_url=/ArticleSearchList.nhn%3Fsearch.clubid=11262350%26search.media=0%26search.searchdate=all%26userDisplay=15%26search.option=0%26search.sortBy=date%26search.searchBy=0%26search.query=%C3%BB%B9%D9%C1%F6%26search.viewtype=title%26search.page=\"\n",
    "\n",
    "# 몇 페이지 까지 게시물의 URL을 수집할지 지정합니다.\n",
    "# 최대 페이지 수를 넘지 않도록 주의합니다.\n",
    "page_limit = 3\n",
    "\n",
    "# FOR 문을 활용해 페이지 번호를 반복합니다.\n",
    "for page_num in range(1, page_limit+1):\n",
    "    # 검색결과 페이지로 이동합니다.\n",
    "    driver.get(URL + str(page_num))\n",
    "    # 페이지에서 게시물 리스트가 포함된 프레임으로 이동합니다.\n",
    "    driver.switch_to_frame(driver.find_element(By.NAME, \"cafe_main\"))\n",
    "    # 게시물 태그를 모두 불러옵니다.\n",
    "    elem = driver.find_elements(By.CLASS_NAME, \"article\")\n",
    "    for e in elem:\n",
    "        # 웹페이지의 하이퍼링크 URL은 항상 href 속성에 존재합니다.\n",
    "        # href 속성에 저장된 URL을 불러와 post_list에 추가합니다.\n",
    "        post_list.append(e.get_attribute(\"href\"))\n",
    "    # 아래 주석부분은 위 25~29번째 라인과 동일한 코드입니다.\n",
    "    # 혹시 post_list에 URL이 저장되지 않는 경우 아래처럼 태그의 Class 속성을 \"article\"에서 \"aaa\"로 변경해줍니다.\n",
    "    '''\n",
    "    elem = driver.find_elements(By.CLASS_NAME, \"aaa\")\n",
    "    for e in elem:\n",
    "        post_list.append(e.find_element(By.TAG_NAME, \"a\").get_attribute(\"href\"))\n",
    "    '''\n",
    "    # 페이지의 기본 프레임으로 이동합니다.\n",
    "    driver.switch_to_default_content() \n",
    "    time.sleep(2)"
   ]
  },
  {
   "cell_type": "code",
   "execution_count": 13,
   "metadata": {},
   "outputs": [
    {
     "name": "stdout",
     "output_type": "stream",
     "text": [
      "수집된 게시물 URL 개수 : 45\n"
     ]
    }
   ],
   "source": [
    "# 총 몇개의 게시물 URL이 저장되었는지 확인합니다.\n",
    "print(\"수집된 게시물 URL 개수 :\", len(post_list))"
   ]
  },
  {
   "cell_type": "code",
   "execution_count": 14,
   "metadata": {},
   "outputs": [
    {
     "name": "stdout",
     "output_type": "stream",
     "text": [
      "['https://cafe.naver.com/ca-fe/ArticleRead.nhn?clubid=11262350&page=1&inCafeSearch=true&searchBy=0&query=%EC%B2%AD%EB%B0%94%EC%A7%80&includeAll=&exclude=&include=&exact=&searchdate=all&media=0&sortBy=date&articleid=34296809&referrerAllArticles=true', 'https://cafe.naver.com/ca-fe/ArticleRead.nhn?clubid=11262350&page=1&inCafeSearch=true&searchBy=0&query=%EC%B2%AD%EB%B0%94%EC%A7%80&includeAll=&exclude=&include=&exact=&searchdate=all&media=0&sortBy=date&articleid=34296218&referrerAllArticles=true', 'https://cafe.naver.com/ca-fe/ArticleRead.nhn?clubid=11262350&page=1&inCafeSearch=true&searchBy=0&query=%EC%B2%AD%EB%B0%94%EC%A7%80&includeAll=&exclude=&include=&exact=&searchdate=all&media=0&sortBy=date&articleid=34296203&referrerAllArticles=true']\n"
     ]
    }
   ],
   "source": [
    "# URL이 잘 저장되어 있는지 인덱싱을 통해 일부만 확인해봅니다.\n",
    "print(post_list[:3])"
   ]
  },
  {
   "cell_type": "code",
   "execution_count": 15,
   "metadata": {},
   "outputs": [
    {
     "name": "stdout",
     "output_type": "stream",
     "text": [
      "https://cafe.naver.com/ca-fe/ArticleRead.nhn?clubid=11262350&page=1&inCafeSearch=true&searchBy=0&query=%EC%B2%AD%EB%B0%94%EC%A7%80&includeAll=&exclude=&include=&exact=&searchdate=all&media=0&sortBy=date&articleid=34296809&referrerAllArticles=true\n"
     ]
    }
   ],
   "source": [
    "print(post_list[0])"
   ]
  },
  {
   "cell_type": "markdown",
   "metadata": {},
   "source": [
    "### 4. 네이버 카페 게시물 본문과 댓글 수집하기\n",
    "\n",
    "---"
   ]
  },
  {
   "cell_type": "code",
   "execution_count": 16,
   "metadata": {},
   "outputs": [
    {
     "name": "stdout",
     "output_type": "stream",
     "text": [
      "0/45\r"
     ]
    },
    {
     "name": "stderr",
     "output_type": "stream",
     "text": [
      "<ipython-input-16-d556220c7294>:18: DeprecationWarning: use driver.switch_to.frame instead\n",
      "  driver.switch_to_frame(driver.find_element(By.NAME, \"cafe_main\"))\n",
      "<ipython-input-16-d556220c7294>:51: DeprecationWarning: use driver.switch_to.default_content instead\n",
      "  driver.switch_to_default_content()\n"
     ]
    },
    {
     "name": "stdout",
     "output_type": "stream",
     "text": [
      "9/45\r"
     ]
    }
   ],
   "source": [
    "# 게시물 URL이 저장된 post_list에서 몇번째 부터(start) 몇번째 까지(end) URL에 접근할지 지정합니다.\n",
    "start = 0\n",
    "end = 10\n",
    "\n",
    "# 게시물 내용을 저장할 파일을 생성합니다.\n",
    "f = open(\"naver_cafe_dieselmania.txt\", \"w\", encoding=\"utf-8\")\n",
    "\n",
    "# FOR 문을 활용해 페이지 URL을 반복합니다.\n",
    "for url in post_list[start:end]:\n",
    "    # 현재 수집이 진행중인 인덱스를 출력합니다.\n",
    "    print(str(start) + \"/\" + str(len(post_list)), end=\"\\r\")\n",
    "    start += 1\n",
    "    try:\n",
    "        # URL을 통해 게시물 페이지로 이동합니다.\n",
    "        driver.get(url)\n",
    "        time.sleep(5)\n",
    "        # 페이지에서 게시물 내용이 포함된 프레임으로 이동합니다.\n",
    "        driver.switch_to_frame(driver.find_element(By.NAME, \"cafe_main\"))\n",
    "\n",
    "        # 페이지에서 태그의 속성을 활용해 원하는 부분을 불러옵니다.\n",
    "        # 1. 게시물 제목\n",
    "        title = driver.find_element(By.CLASS_NAME, \"title_text\").text.strip()\n",
    "        #title = elem.find_elements(By.TAG_NAME, \"td\")[0].text\n",
    "        # 2. 게시판 이름\n",
    "        board_type = driver.find_element(By.CLASS_NAME, \"link_board\").text.strip()\n",
    "        # 3. 게시물 작성일자\n",
    "        datetime = driver.find_element(By.CLASS_NAME, \"date\").text\n",
    "        # 4. 게시물 작성자(닉네임)\n",
    "        user = driver.find_element(By.CLASS_NAME, \"nickname\").text\n",
    "        # 5. 게시물 내용\n",
    "        # 파일에서 게시물 구분을 줄단위로 하기위해 줄바꿈을 모두 제거합니다.\n",
    "        contents = driver.find_element(By.CLASS_NAME, \"article_viewer\").text.replace(\"\\n\", \" \")\n",
    "        # 파일에 수집한 게시물 내용을 기록합니다.\n",
    "        f.write(\"POSTING\" + \"\\t\" + user + \"\\t\" + datetime + \\\n",
    "                \"\\t\" + board_type + \"\\t\" + title + \"\\t\" + contents + \"\\n\") \n",
    "\n",
    "        # 댓글을 모두 불러옵니다.\n",
    "        reply_list = driver.find_elements(By.CLASS_NAME, \"comment_box\")\n",
    "        # FOR 문을 활용해 댓글을 모두 반복합니다.\n",
    "        for reply in reply_list:\n",
    "            # 6. 댓글 내용\n",
    "            comment = reply.find_element(By.CLASS_NAME, \"text_comment\").text.replace(\"\\n\", \" \")\n",
    "            # 7. 댓글 작성자(닉네임)\n",
    "            user_nik = reply.find_element(By.CLASS_NAME, \"comment_nickname\").text\n",
    "            # 8. 댓글 작성일자\n",
    "            reply_date = reply.find_element(By.CLASS_NAME, \"comment_info_date\").text\n",
    "            # 파일에 수집한 댓글 내용을 기록합니다.\n",
    "            f.write(\"COMMENT\" + \"\\t\" + user_nik + \"\\t\" + reply_date + \\\n",
    "                    \"\\t\" + board_type + \"\\t\" + \"None\" + \"\\t\" + comment + \"\\n\")\n",
    "        # 페이지의 기본 프레임으로 이동합니다.\n",
    "        driver.switch_to_default_content()\n",
    "        time.sleep(2)\n",
    "    except:\n",
    "        driver.switch_to_default_content()\n",
    "        time.sleep(2)\n",
    "        continue\n",
    "f.close()"
   ]
  },
  {
   "cell_type": "code",
   "execution_count": 17,
   "metadata": {},
   "outputs": [],
   "source": [
    "# Chrome Driver를 닫습니다.\n",
    "driver.close()"
   ]
  },
  {
   "cell_type": "code",
   "execution_count": 18,
   "metadata": {
    "scrolled": false
   },
   "outputs": [
    {
     "name": "stdout",
     "output_type": "stream",
     "text": [
      "POSTING\t쌀국수국수\t2021.03.24. 18:23\t■디매iN 라이프■\t위에 옷 살말..??\t츄리닝입고가서 바지가..ㅈㅅ여 청바지입음 이쁠것같은데 어때요 빨리..!\n",
      "COMMENT\t미니멀우\t2021.03.24. 18:24\t■디매iN 라이프■\tNone\tㄴㄴ\n",
      "COMMENT\t당신없이는 못live\t2021.03.24. 18:24\t■디매iN 라이프■\tNone\t극호\n",
      "COMMENT\tpaulusoh\t2021.03.24. 18:24\t■디매iN 라이프■\tNone\t사세요\n",
      "COMMENT\t메종킷으네\t2021.03.24. 18:24\t■디매iN 라이프■\tNone\tㄴㄴㄴ\n",
      "COMMENT\t무야Ho\t2021.03.24. 18:24\t■디매iN 라이프■\tNone\t치킨 승\n",
      "COMMENT\tVansOldSkool\t2021.03.24. 18:24\t■디매iN 라이프■\tNone\t고고\n",
      "COMMENT\t오리날다1\t2021.03.24. 18:25\t■디매iN 라이프■\tNone\t극호\n",
      "COMMENT\t다한증\t2021.03.24. 18:25\t■디매iN 라이프■\tNone\n",
      "COMMENT\t섹스누피\t2021.03.24. 18:26\t■디매iN 라이프■\tNone\t팔이 너무 길어요\n",
      "COMMENT\t빡대가리\t2021.03.24. 18:26\t■디매iN 라이프■\tNone\t말\n",
      "COMMENT\twatsup\t2021.03.24. 18:27\t■디매iN 라이프■\tNone\t청 ㄱㄱ\n",
      "COMMENT\t연어매니아\t2021.03.24. 18:27\t■디매iN 라이프■\tNone\t언제 입으시게요?\n",
      "COMMENT\tconceit\t2021.03.24. 18:30\t■디매iN 라이프■\tNone\t개섹시함\n",
      "COMMENT\t우와와왕\t2021.03.24. 18:30\t■디매iN 라이프■\tNone\t사랑에 빠질뻔\n",
      "COMMENT\t이런 남자\t2021.03.24. 18:30\t■디매iN 라이프■\tNone\n",
      "COMMENT\tpjoon\t2021.03.24. 18:31\t■디매iN 라이프■\tNone\t구매\n",
      "COMMENT\t소장사\t2021.03.24. 18:34\t■디매iN 라이프■\tNone\t일단 알람 완료\n",
      "COMMENT\t옥수수수수깡\t2021.03.24. 18:34\t■디매iN 라이프■\tNone\t말\n",
      "COMMENT\t장 원 영\t2021.03.24. 18:44\t■디매iN 라이프■\tNone\t호우\n",
      "COMMENT\tBBVA\t2021.03.24. 18:45\t■디매iN 라이프■\tNone\t하.. 좋다\n",
      "COMMENT\t비오는 압구정\t2021.03.24. 18:50\t■디매iN 라이프■\tNone\t아직 7시도 안됐는데 ㅠㅠ\n",
      "POSTING\t빵아구\t2021.03.24. 16:47\t●디매인 패션문답●\t992코디 어떨까요??\t원래 신발을 좋아해서 신을건 많긴한데 고딩 + 20살 까지 993 그 이후 990 잘 신었는데 992 어떨까요 코디 스테디니까 청바지 슬랙스 와이드 어디다가 매치해도 괜찮겠죠?? 요즘 맨날 이지 조던 라이톤 컨버스만 신으니까 질리기도 하고 간만에 뉴발맛 느껴 볼까하는데 코디 빡센가요?? 아님 무난에 992면 코디 끝일까요?? 마지막으로 사이즈는 신고있는 신발들이랑 동사 가면 괜찮겠죠? 발볼러라 80신는데 미친듯한 꽉끈 까지는 아니고 다 나름에 꽉끈인데 992 80도 괜찮은 꽉끈 쉐잎 나오겠죠?\n",
      "COMMENT\t잘죽었노\t2021.03.24. 16:47\t●디매인 패션문답●\tNone\t어디든 잘 어울려요\n",
      "COMMENT\t빵아구\t2021.03.24. 16:48\t●디매인 패션문답●\tNone\t괜찮겠죠? 990도 신다가 매물 보내고 993은 몇년 신다가 버렸는데 고고 할까요?\n",
      "COMMENT\tCecil\t2021.03.24. 16:48\t●디매인 패션문답●\tNone\t사는게 어렵지 사고나면 코디는 쉬워요\n",
      "COMMENT\t빵아구\t2021.03.24. 16:49\t●디매인 패션문답●\tNone\t다른 신발처럼 280 출격 가능인가요?\n",
      "COMMENT\tCecil\t2021.03.24. 16:52\t●디매인 패션문답●\tNone\t저는 다른 신발들과 동일하게 갔고 잘 맞습니다(996, 1400, 어센틱, 데브 모두 동 사이즈)\n",
      "COMMENT\t빵아구\t2021.03.24. 17:00\t●디매인 패션문답●\tNone\t오 데브 280신으니 280으로 가겠습니다 감사합니다!\n",
      "COMMENT\t마졜라\t2021.03.24. 16:48\t●디매인 패션문답●\tNone\t스트릿 빼고는 다 잘어울려용 뽕 무조건 뽑는 신발\n",
      "COMMENT\t빵아구\t2021.03.24. 16:50\t●디매인 패션문답●\tNone\t스트릿맛 달달한데 이제 청바지랑 슬랙스 사야겠네요 ㅎㅎ\n",
      "COMMENT\t12354\t2021.03.24. 16:49\t●디매인 패션문답●\tNone\t992는 진짜 안어울리는거 찾기가힘들어요 슬림핏 와이드핏 청바지 슬랙스 반바지 면바지 다어울림\n",
      "COMMENT\t빵아구\t2021.03.24. 16:50\t●디매인 패션문답●\tNone\t반바지에 무조건 이지만 신었는데 992 출격갑니다\n",
      "COMMENT\tVansOldSkool\t2021.03.24. 16:51\t●디매인 패션문답●\tNone\t뉴발이 딱히 포인트 줄려고 신는 신발이 아니라 걍 무난 평범맛으로 신는거죠\n",
      "COMMENT\t빵아구\t2021.03.24. 17:00\t●디매인 패션문답●\tNone\t올해는 이지말고 뉴발로 가겠슴돠\n",
      "POSTING\t난가\t2021.03.24. 16:45\t●디매인 패션문답●\t청바지 핏좀 봐주세요!\t1. 플랙진 베를린 슬림스트 32 2. 플랙진 테이퍼드핏 30인가... 31인가... 그랬을꺼에요 3. 리바이스 511 인데사진이 검게 나왔네요 테이퍼드 입었을때는 확실히 허벅지가 널널했는데  슬림스트 입을때 허벅지 저정도면 끼는건가요? 만약에 구입하면 구입하고 크롭느낌내려면 발목에서 잘라서 쓰면 되는건가요? 키 173에 허리83cm 허벅지 56cm 정도 합니다...\n",
      "POSTING\t그루밍계사\t2021.03.24. 15:52\t이벤트 포토 후기\t[LEE] 인디고 청바지 리뷰 후기\t안녕하세요 그루밍계사입니다  오늘은 제가 어린 시절부터 예쁘다고 생각해왔던 청바지인 LEE 청바지 리뷰를 가지고 왔습니다 포스터의 사진과 같이 편하게 입을 수 있는 최고의 가치 LEE 를 강조하네요 요즘 워낙 프리미엄 브랜드의 청바지도 많고 리바이스, 국내브랜드인 플랙진까지 경쟁이 치열함에도 불구하고 LEE는 잘 살아 남아 온 것같습니다 제가 이번 리뷰어로 작성하게 될 청바지는 LEE 인디고 미디엄 청바지입니다!! 참고로 전 179/72 정도의 신체사이즈를 가지구 있구여 청바지 사이즈는 32 입니다! 자 이제 실제 상세 사진 보여드리겠습니다 상세사진 이렇게 깔끔하게 포장되어 왔습니다 Organic cotton으로 제조되었음을 강조합니다 청바지 뒷면과 단추에 LEE로고가 잘 보입니다! 귀엽네요 전신샷입니다! 사실 카메라 사진 보다 좀더 밝은 청바지 색감이니 이부분은 참고 부탁드립니다!! 다음으로 실제 착용샷 보여드립니다 개인적으로 편하게 입는 걸 좋아하게되었는데요  굳이 수선의 필요성이 없는 깔끔한 핏이었습니다 일단 편의성은 좋습니다 신축성도 조금 있어보이구요! 추가적으로 색감 자체도 무난해서 모든룩에 좋을 것으로 보입니다!  하지만 개인적으로 엉덩이 부분이 좀 펑퍼짐한 느낌이 있는데 힙업되는 느낌이 아니라서 그부분은 좀 아쉽네요!  총 평점: 별 5 개 중 4 개 드립니다! 가성비, 색감, 편의성은 좋으나! 핏감이 조금 아쉽다! 착용샷 정보는 상의: Maison Kistune 가디건: Maison Kistune 하의: LEE 신발: Common projects ● 아래 내용의 삭제를 금합니다 ● ※ 회원들을 대표하여 솔직하고 정성스러운 후기 부탁드립니다. ※ 본 글은 체험단 홍보를 위해 해당 브랜드로부터 제품을 무료로 제공받아 작성되었습니다.\n",
      "COMMENT\tPIECEMINUSONE\t2021.03.24. 16:06\t이벤트 포토 후기\tNone\t컴언...\n",
      "POSTING\t디망이\t2021.03.24. 15:26\t디매iN 고민-상담\t주말에 소개팅 갑니다\t무슨 옷을 입을까요 올 화이트 패션으로 가려고 했는데 비가 온다고 해서 뇌정지왔습니다 하얀티에 청바지만 입고 가도 되겠죠? 아니면 여자는 무조건 원피스 입어야 하나요..? 처음 만나는데 바지 입었다고 빠꾸 먹으면 그냥 인연이 아닌가봐 라고 하려고 했는데 다들 치마치치치치마 이래서 혼동이 오네요\n",
      "COMMENT\tCan i love\t2021.03.24. 15:27\t디매iN 고민-상담\tNone\t하얀티 청바지.극호\n",
      "COMMENT\t디망이\t2021.03.24. 15:29\t디매iN 고민-상담\tNone\t그렇게 홍대에 패션이 다 하얀티 청바지라면서요..?\n",
      "COMMENT\tCan i love\t2021.03.24. 15:29\t디매iN 고민-상담\tNone\t핏으로 승부 보세요. 클론이 별건가요\n",
      "COMMENT\t디망이\t2021.03.24. 15:32\t디매iN 고민-상담\tNone\t안녕하세요 어디계쎄요 아 저 10번 출구인데 하얀티에 청바지 입은 사람이 저에요 ?????? 약 20명이 있는데 그중에 어느분이세요 핏..................핏이요 크로스핏 할때 그 핏 인가요\n",
      "COMMENT\tCan i love\t2021.03.24. 15:34\t디매iN 고민-상담\tNone\t드립을 보니 소개팅 성공하시겠어여\n",
      "COMMENT\t디망이\t2021.03.24. 15:49\t디매iN 고민-상담\tNone\t드립 안칠거에요...\n",
      "COMMENT\t둘 리\t2021.03.24. 17:08\t디매iN 고민-상담\tNone\t주말에 날씨보고 입으세융 .. 서울쪽은 구날 비온다고 되어있어요\n",
      "POSTING\t킴타쿠\t2021.03.24. 15:13\t●디매인 쇼핑후기●\t앤더슨벨 x 아식스 1090 실버 구매후기\t● 개인 채널, SNS 및 기타 외부의 협찬 상품을 게시하는 경우 - 해당브랜드 금칙어 및 강퇴 처리됩니다.  ● 구입한 제품의 사진이 없는 단순 구입내역 첨부나 아이쇼핑 후기는 패션토크 게시판 이용 바랍니다.  ※노출된 상품의 정보를 고의로 누락시켜 '좌표요청, 쪽지요청' 댓글을 유도하는 게시글은 제재됩니다. 상습시 영구강퇴.  ※보세 및 자체제작 제품의 경우 '자체제작', '보세' 가 아닌 해당 업체명(쇼핑몰명, oo상가)을 정확히 기재. 혹은 '(브랜드정보없음, 기억안남)' 으로 표기. '정보없음, 기억안남' 표기 후 쪽지나 댓글로 정보를 주는 경우 강퇴 처리.  ※규정상 정상 브랜드명 기입이 불가능한 스팸어브랜드 작성이 불가능합니다. (스팸어 전체공지 참고)  (전형적인 쪽지정보댓글 금지 - \"정보(좌표) 쪽지주세요\" \"쪽지드렸습니다\") - 모든 정보는 본문내 표기.  실물 너무 좋구여 편해요!! 반업이나 일업하시면 좋을듯합니다. 가격도 너무좋고 앤더슨벨에서 제대로 하나 뽑아줬네요 핫한 누데이크도 가보구영 핫한 말차크림케익이랑 저 마이크로아상.. 린다01... 지린다... 지난시즌 앤더슨벨 까죽셔츠랑도 찰떡! 연청이나 흑청 와이드슬랙스 조거에도 두루두루 잘 어울립니다! 양재꽃시장에서 산삼을 닮은 나무하나 가져왔습니다. 이름은 삼이로 지어줬구요 쑥쑥자라라 우리삼이 날씨 린다.. 지린다.. 킨다소바 세번은 아니고 두번정도 가세여 맛있습니다.. 엄용백 돼지국밥이랑 콜라보한 돈코츠라멘을 판매중입니다.. 마제소바는 여기보단 멘야하나비로.. 주말까지 얼마 안남았습니다. 수요일 화이팅하세여 ※ 게시자는 '쪽지확인' '좌표요청' 댓글이 도배되지 않고 정보가 잘 전달될 수 있도록 본문내 정보를 최대한 작성해주시기 바랍니다.  ※ 본 게시판 관련 활동정지 규정 공지 - https://cafe.naver.com/dieselmania/22996482\n",
      "COMMENT\t윤총무\t2021.03.24. 15:14\t●디매인 쇼핑후기●\tNone\t형님 청바지 정보들좀알수있을까용?\n",
      "COMMENT\t킴타쿠\t2021.03.24. 15:19\t●디매인 쇼핑후기●\tNone\t둘다 빈티지 501입니다!\n",
      "COMMENT\t부리부리대마왕임\t2021.03.24. 15:14\t●디매인 쇼핑후기●\tNone\t와... 당첨되셨나요? 부럽읍니다\n",
      "COMMENT\t킴타쿠\t2021.03.24. 15:19\t●디매인 쇼핑후기●\tNone\t돈만 털리고있져..\n",
      "COMMENT\t팡팡질팡\t2021.03.24. 15:15\t●디매인 쇼핑후기●\tNone\t하 느그벨...\n",
      "COMMENT\t킴타쿠\t2021.03.24. 15:20\t●디매인 쇼핑후기●\tNone\t내일 ㅇㅏ트모스랑 무젠틀에서도 라플한다고합니다!!\n",
      "COMMENT\t야 수\t2021.03.24. 15:16\t●디매인 쇼핑후기●\tNone\tㅘ대존예\n",
      "COMMENT\t킴타쿠\t2021.03.24. 15:20\t●디매인 쇼핑후기●\tNone\t가격도 실물도 대만족!\n",
      "COMMENT\t신세 경\t2021.03.24. 15:21\t●디매인 쇼핑후기●\tNone\t넘사고싶네요 낼당첨되길🥺🥺\n",
      "COMMENT\t킴타쿠\t2021.03.24. 15:23\t●디매인 쇼핑후기●\tNone\t당첨기원!\n",
      "COMMENT\tjhz1000\t2021.03.24. 15:26\t●디매인 쇼핑후기●\tNone\t형님 전 후리스 정보좀...부탁드릴게요..\n",
      "COMMENT\t킴타쿠\t2021.03.24. 15:47\t●디매인 쇼핑후기●\tNone\tLQQK STUDIO 제품인데.. 품절..\n",
      "POSTING\t지건내리꽂고싶네\t2021.03.24. 15:07\t■디매iN 라이프■\t보통 브랜드에서 옷 팔면 마진 얼마나 남겨요?\t궁금\n",
      "COMMENT\t옴 팡 이\t2021.03.24. 15:09\t■디매iN 라이프■\tNone\t브랜드 마다 다르지 싶은데..본사에서 얼마 가져가고 월세 내고 하면 생각보다 많이 안남는거 같더라구요 10년전쯤 리바이스 일할때 50프로 행사해서 팔면 거의 손해라고 했어요\n",
      "COMMENT\t알키노스\t2021.03.24. 15:10\t■디매iN 라이프■\tNone\t백화점 입점기준 보통 5배수요 근데 전부 이익이 아니라 (원가1 재고1 백화점수수료1 대리점1 이익1)\n",
      "COMMENT\t산적st\t2021.03.24. 15:11\t■디매iN 라이프■\tNone\t브랜드별 케바케인데요~ 예를들어서 청바지 거의 1에 떼어와서 성수기에 10에 팔다가, 남은재고는 \" 눈물의 창고정리\" 문구 로 3 에 판다는 이야기들은적이있어요\n",
      "COMMENT\tLaco Polo\t2021.03.24. 15:11\t■디매iN 라이프■\tNone\t주력상품으로 손익분기점 넘기고 나머지로 세일때려서 재고떨이하는 니낌\n",
      "COMMENT\t유산균ㄱㄱ\t2021.03.24. 18:34\t■디매iN 라이프■\tNone\t나이키 티셔츠 7~8불햇었네요 원가가\n",
      "POSTING\t커피중독자\t2021.03.24. 15:00\t●연예인 女 패션●\t손예진 발렌티노 광고 캠페인 '디바스' 컷 모음\t1, 2번 청바지 컷 분위기 장난 없네요\n",
      "COMMENT\t카페인부족장\t2021.03.24. 15:39\t●연예인 女 패션●\tNone\t분위기 쩌네요\n",
      "COMMENT\t람이네이트\t2021.03.24. 15:40\t●연예인 女 패션●\tNone\t뭔들... 분위기 완전 다르네요\n",
      "COMMENT\t디젤자동차부릉\t2021.03.24. 16:22\t●연예인 女 패션●\tNone\t와 갓ㅇㅖ진..\n",
      "COMMENT\tdelff\t2021.03.24. 16:48\t●연예인 女 패션●\tNone\t발렌티노보다 프로엔자슐러 이런게 더 잘어울릴거 같은데\n",
      "POSTING\t찔레꽃처럼울었지\t2021.03.24. 14:12\t■디매iN 라이프■\t구로nc 브룩스브라더스 세일? 후기 ㄹㄹ\t살거는 크게 없었던거 같아요 원래 피케셔츠만리아도 건지자 하고 간건데 다행이 제 사이즈가 마지막?으로 남아 있었네요 정장 셔츠류는 아주 많고 정장셋트 자켓도 좀 있습니다. 금장 없습니다. 피케는 빅사이즈 105 이상만 남았다 보시면 되구요 아니면 90사이즈 95~100은 거의 없습니다. 밀라도핏 같은 면바지류는 많습니다 청바지는없고 정장구두도 큰사이즈만 남아있었습니다. 오전에 이미 많은 사람들이 왔다 갔다하더라구요. 피케는 택에 5.9만이라 적혀있었는데 계산할때 자동으로 할인 되더라구요 10만 20만 30만 이상 구매하면 상품권 주긴 하더라구요. 이상입니다~\n",
      "COMMENT\tMAMMUT\t2021.03.24. 14:13\t■디매iN 라이프■\tNone\t어 모든 엔씨 다하나요?\n",
      "COMMENT\t김미영팀장\t2021.03.24. 14:14\t■디매iN 라이프■\tNone\t저럴때 손 쑤욱 집어넣어서 95 하나 건지면 개이득 ㅎ\n",
      "COMMENT\t쇼기\t2021.03.24. 14:14\t■디매iN 라이프■\tNone\t오 득템 하셨네요 근데 흰티랑 검정티랑 라벨색이 다른데 검정은 다른 제품인가요?\n",
      "COMMENT\t와사바리킬러\t2021.03.24. 14:25\t■디매iN 라이프■\tNone\t흰색은 슬림핏같고 빨간색은 엑스트라슬림 아니면 클래식핏 둘중하나일듯한데요\n",
      "COMMENT\t찔레꽃처럼울었지\t2021.03.24. 16:01\t■디매iN 라이프■\tNone\t색만 다르고 둘다 1818 라인이네요 ㅎㅎ\n",
      "COMMENT\t칭밍\t2021.03.24. 14:42\t■디매iN 라이프■\tNone\t트렌치코트있나요?\n",
      "COMMENT\t니엉꼬비\t2021.03.24. 14:44\t■디매iN 라이프■\tNone\t없어용\n",
      "COMMENT\tkimkt711\t2021.03.24. 15:01\t■디매iN 라이프■\tNone\t집근처라 3시에가니까 살거 하나도없음 ㅋㅋ 물건도 진짜 찐 아울렛에 아울렛 물건인듯\n",
      "POSTING\t아기깡패둘리\t2021.03.24. 13:27\t■디매iN 라이프■\t오버핏 패션은 2015년부터 유행끝물 소리들었네요\t저격은 아니고(아이디 다 가림) 디매옛날글들보니  2015년부터 오버핏 유행끝이다, 부츠컷처럼 한철유행이라는 반응들이 있었네여 진짜 언제까지 나올까 신기\n",
      "COMMENT\t사이올러지\t2021.03.24. 13:27\t■디매iN 라이프■\tNone\t오버핏 진짜 끝물이라 봅니다\n",
      "COMMENT\tc l o s e r\t2021.03.24. 13:27\t■디매iN 라이프■\tNone\t호재인가요?\n",
      "COMMENT\t동모형\t2021.03.24. 13:29\t■디매iN 라이프■\tNone\t저 정도 점쟁이면 코인했을듯.  멸치,어좁,x알핏,노인다리핏보다 훨 나음\n",
      "COMMENT\t사브레ee\t2021.03.24. 13:36\t■디매iN 라이프■\tNone\t노인다리핏이 뭐예요?\n",
      "COMMENT\t동모형\t2021.03.24. 13:38\t■디매iN 라이프■\tNone\t젓가락급 다리\n",
      "COMMENT\t답정너연구원\t2021.03.24. 13:27\t■디매iN 라이프■\tNone\t코인같은녀석인가\n",
      "COMMENT\t트레이서\t2021.03.24. 13:28\t■디매iN 라이프■\tNone\t멸치들에겐 한줄기의 희망이라 ㅋㅋ\n",
      "COMMENT\t성실답변인\t2021.03.24. 13:30\t■디매iN 라이프■\tNone\t스키니가 마르지 않으면 부담되기에 일자나 오버핏 등 다양하게 아마 소화될거 같아요 또 완전 미니키니 급이 나올지 오버오버핏이될지는 디자이너들 하기 나름일듯요\n",
      "COMMENT\t메종킷으네\t2021.03.24. 13:32\t■디매iN 라이프■\tNone\t올해도 하이엔드급 컬렉션만봐도 와이드가 넘치는데 끝일리가여\n",
      "COMMENT\tBlue End\t2021.03.24. 13:38\t■디매iN 라이프■\tNone\t개인적으로 15년도에 오버핏 반팔 처음 입고 체형보정이 완전 신세계였어요 ㅋㅋ 현재까지 무조건 세미오버핏 이상으로 입음\n",
      "COMMENT\tCullinan\t2021.03.24. 13:42\t■디매iN 라이프■\tNone\t아시아인 체형을 보정할 수 있는 옷이라 스테디로 쭉 가지 않을까요? 흰티에 청바지같은 느낌으로\n",
      "COMMENT\t유리주먹\t2021.03.24. 13:51\t■디매iN 라이프■\tNone\t오버핏은 이제 끝났습니다\n"
     ]
    }
   ],
   "source": [
    "# 파일에 저장된 카페 게시글 내용을 확인합니다.\n",
    "f = open(\"naver_cafe_dieselmania.txt\", encoding=\"utf-8\")\n",
    "for post in f:\n",
    "    print(post.strip())\n",
    "f.close()"
   ]
  },
  {
   "cell_type": "code",
   "execution_count": null,
   "metadata": {},
   "outputs": [],
   "source": []
  }
 ],
 "metadata": {
  "kernelspec": {
   "display_name": "Python 3",
   "language": "python",
   "name": "python3"
  },
  "language_info": {
   "codemirror_mode": {
    "name": "ipython",
    "version": 3
   },
   "file_extension": ".py",
   "mimetype": "text/x-python",
   "name": "python",
   "nbconvert_exporter": "python",
   "pygments_lexer": "ipython3",
   "version": "3.8.3"
  }
 },
 "nbformat": 4,
 "nbformat_minor": 2
}
