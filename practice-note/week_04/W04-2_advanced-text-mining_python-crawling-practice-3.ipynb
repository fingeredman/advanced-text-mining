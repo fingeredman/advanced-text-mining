{
 "cells": [
  {
   "cell_type": "markdown",
   "metadata": {},
   "source": [
    "# ADVANCED TEXT MINING\n",
    "- 본 자료는 텍스트 마이닝을 활용한 연구 및 강의를 위한 목적으로 제작되었습니다.\n",
    "- 본 자료를 강의 목적으로 활용하고자 하시는 경우 꼭 아래 메일주소로 연락주세요.\n",
    "- 본 자료에 대한 허가되지 않은 배포를 금지합니다.\n",
    "- 강의, 저작권, 출판, 특허, 공동저자에 관련해서는 문의 바랍니다.\n",
    "- **Contact : ADMIN(admin@teanaps.com)**\n",
    "\n",
    "---"
   ]
  },
  {
   "cell_type": "markdown",
   "metadata": {},
   "source": [
    "## WEEK 04-2. 동적 페이지 수집하기: 인스타그램\n",
    "- Python을 활용해 가상의 브라우저를 띄워 웹페이지에서 데이터를 크롤링하는 방법에 대해 다룹니다.\n",
    "\n",
    "---"
   ]
  },
  {
   "cell_type": "markdown",
   "metadata": {},
   "source": [
    "> **\\*\\*\\* 주의사항 \\*\\*\\***  \n",
    "본 자료에서 설명하는 웹크롤링하는 방법은 해당 기법에 대한 이해를 돕고자하는 교육의 목적으로 사용되었으며,  \n",
    "이를 활용한 대량의 무단 크롤링은 범죄에 해당할 수 있음을 알려드립니다."
   ]
  },
  {
   "cell_type": "markdown",
   "metadata": {},
   "source": [
    "### 1. 가상의 브라우저 실행하기: Chrome Driver\n",
    "\n",
    "---"
   ]
  },
  {
   "cell_type": "code",
   "execution_count": 1,
   "metadata": {},
   "outputs": [],
   "source": [
    "# 가상의 브라우저를 컨트롤 할 수 있도록 도와주는 selenium 패키지를 설치합니다.\n",
    "# 아래 주석을 해지하고 셀을 실행합니다.\n",
    "# 설치는 한번만 수행하면 되며, 재설치시 Requirement already satisfied: ~ 라는 메시지가 출력됩니다.\n",
    "\n",
    "#!pip install selenium"
   ]
  },
  {
   "cell_type": "code",
   "execution_count": 2,
   "metadata": {},
   "outputs": [],
   "source": [
    "# Python 코드를 통해 가상의 브라우저를 띄우기 위해 selenium 패키지를 import 합니다.\n",
    "import selenium\n",
    "from selenium import webdriver\n",
    "from selenium.webdriver.common.by import By\n",
    "\n",
    "# selenium을 활용해 브라우저를 직접 띄우는 경우, 실제 웹서핑을 할때처럼 로딩시간이 필요합니다.\n",
    "# 로딩시간 동안 대기하도록 코드를 구성하기위해 time 패키지를 import 합니다.\n",
    "import time\n",
    "\n",
    "# Python 코드를 통해 웹페이지에 정보를 요청하기 위해 BeautifulSoup, urllib 패키지를 import 합니다.\n",
    "from bs4 import BeautifulSoup\n",
    "import requests"
   ]
  },
  {
   "cell_type": "code",
   "execution_count": 3,
   "metadata": {},
   "outputs": [
    {
     "name": "stderr",
     "output_type": "stream",
     "text": [
      "<ipython-input-3-9c2777329be6>:16: DeprecationWarning: use options instead of chrome_options\n",
      "  driver = webdriver.Chrome(executable_path = \"./chromedriver\", chrome_options=chrome_options)\n"
     ]
    }
   ],
   "source": [
    "# Chrome Driver를 호출합니다.\n",
    "chrome_options = webdriver.ChromeOptions()\n",
    "\n",
    "# 브라우저에 임의로 User-agent 옵션을 넣어 Python 코드로 접속함을 숨깁니다.\n",
    "chrome_options.add_argument('--user-agent=\"Mozilla/5.0 (Macintosh; Intel Mac OS X 10_13_4) AppleWebKit/537.36 (KHTML, like Gecko) Chrome/66.0.3359.139 Safari/537.36\"')\n",
    "\n",
    "# Chrome Driver 파일의 경로를 지정하고 실행합니다.\n",
    "# Chrome Driver는 아래 링크에서 다운로드 가능합니다.\n",
    "\n",
    "# 본 Jupyter Notebook 파일과 동일한 경로에 Chrome Driver가 존재하는 경우 아래 경로를 그대로 사용합니다.\n",
    "\n",
    "# Windows 운영체제\n",
    "#driver = webdriver.Chrome(executable_path = \"chromedriver\", chrome_options=chrome_options)\n",
    "\n",
    "# MAC, Linux 운영체제\n",
    "driver = webdriver.Chrome(executable_path = \"./chromedriver\", chrome_options=chrome_options)"
   ]
  },
  {
   "cell_type": "markdown",
   "metadata": {},
   "source": [
    "Chrome Driver 다운로드 URL : http://chromedriver.chromium.org/downloads"
   ]
  },
  {
   "cell_type": "markdown",
   "metadata": {},
   "source": [
    "### 2. 가상의 브라우저를 활용에 사이트 접속하기\n",
    "\n",
    "---"
   ]
  },
  {
   "cell_type": "code",
   "execution_count": 4,
   "metadata": {},
   "outputs": [],
   "source": [
    "# 브라우저에서 URL에 해당하는 페이지로 이동합니다.\n",
    "URL = \"https://www.instagram.com/\"\n",
    "driver.get(URL)\n",
    "# 실제 페이지가 불러와지는 시간을 고려해 sleep(SEC) 함수로 기다리는 시간을 지정해줍니다.\n",
    "time.sleep(10)"
   ]
  },
  {
   "cell_type": "code",
   "execution_count": 6,
   "metadata": {},
   "outputs": [],
   "source": [
    "# 인스타그램 게시물에 접근하기 위해서는 로그인이 필요합니다.\n",
    "# 인스타그램 로그인 페이지로 이동합니다.\n",
    "# click() 함수로 원하는 요소(태그)를 클릭할 수 있습니다.\n",
    "driver.find_element(By.CLASS_NAME, \"izU2O\").find_element(By.TAG_NAME, \"a\").click()\n",
    "time.sleep(10)"
   ]
  },
  {
   "cell_type": "code",
   "execution_count": 7,
   "metadata": {},
   "outputs": [],
   "source": [
    "# 인스타그램 로그인 페이지에서 아이디(ID)와 비밀번호(PW)를 입력합니다.\n",
    "# 아이디와 비밀번호를 브라우저에서 직접 입력해도 됩니다.\n",
    "ID = \"여기에 ID를 입력합니다.\"\n",
    "PW = \"여기에 PW를 입력합니다.\"\n",
    "driver.find_element(By.NAME, \"username\").send_keys(ID)\n",
    "driver.find_element(By.NAME, \"password\").send_keys(PW)\n",
    "time.sleep(2)"
   ]
  },
  {
   "cell_type": "code",
   "execution_count": 7,
   "metadata": {
    "collapsed": true
   },
   "outputs": [],
   "source": [
    "# 로그인 버튼을 직접 클릭해 로그인합니다.\n",
    "# Selenium으로 로그인 버튼을 클릭하는 경우 자동입력방지문자를 입력해야 합니다."
   ]
  },
  {
   "cell_type": "code",
   "execution_count": 8,
   "metadata": {
    "collapsed": true
   },
   "outputs": [],
   "source": [
    "# 알림 설정 관련 선택창이 출현한 경우에 \"나중에 하기\"를 선택합니다.\n",
    "# 알림 설정 창이 출현하지 않는다면 실행을 하지 말아주세요.\n",
    "driver.find_element(By.CLASS_NAME, \"mt3GC\").find_elements(By.TAG_NAME, \"button\")[1].click()"
   ]
  },
  {
   "cell_type": "code",
   "execution_count": 13,
   "metadata": {},
   "outputs": [],
   "source": [
    "# 인스타그램 검색창에 해시태그를 검색합니다.\n",
    "\n",
    "# 검색어를 입력합니다.\n",
    "keyword = \"#빅데이터\"\n",
    "search_form = driver.find_element(By.CSS_SELECTOR, \"#react-root > section > nav > div._8MQSO.Cx7Bp > div > div > div.LWmhU._0aCwM > input\")\n",
    "search_form.send_keys(keyword)\n",
    "time.sleep(5)"
   ]
  },
  {
   "cell_type": "code",
   "execution_count": 14,
   "metadata": {},
   "outputs": [],
   "source": [
    "# 해시태그 검색결과 중 가장 상위에 출현한 해시태그 검색결과로 이동합니다.\n",
    "search_url = driver.find_element(By.CLASS_NAME, \"fuqBx\").find_element(By.TAG_NAME, \"a\").get_attribute(\"href\")\n",
    "driver.get(search_url)\n",
    "time.sleep(5)"
   ]
  },
  {
   "cell_type": "markdown",
   "metadata": {},
   "source": [
    "### 3. 인스타그램 게시물 본문 수집하기\n",
    "\n",
    "---"
   ]
  },
  {
   "cell_type": "code",
   "execution_count": 15,
   "metadata": {},
   "outputs": [],
   "source": [
    "#스크롤을 내려 모든 포스트 목록이 보이도록 합니다.\n",
    "for i in range(10):\n",
    "    driver.execute_script(\"window.scrollTo(0, document.body.scrollHeight);\")\n",
    "    time.sleep(2)"
   ]
  },
  {
   "cell_type": "code",
   "execution_count": 18,
   "metadata": {},
   "outputs": [],
   "source": [
    "#화면에 보이는 포스트 목록을 리스트에 저장합니다.\n",
    "post_list = driver.find_elements(By.CLASS_NAME, \"_9AhH0\")"
   ]
  },
  {
   "cell_type": "code",
   "execution_count": 19,
   "metadata": {},
   "outputs": [
    {
     "name": "stdout",
     "output_type": "stream",
     "text": [
      "> 수집할 총 게시물 개수 : 51\n"
     ]
    }
   ],
   "source": [
    "print(\"> 수집할 총 게시물 개수 :\", len(post_list))"
   ]
  },
  {
   "cell_type": "code",
   "execution_count": 30,
   "metadata": {},
   "outputs": [
    {
     "name": "stdout",
     "output_type": "stream",
     "text": [
      "5/51\r"
     ]
    }
   ],
   "source": [
    "f = open(\"instagram_post_\" + keyword.replace(\"#\", \"\") + \".txt\", \"w\", encoding=\"utf-8\")\n",
    "index = 0\n",
    "for post in post_list[:5]:\n",
    "    index += 1\n",
    "    print(str(index) + \"/\" + str(len(posts)), end=\"\\r\")\n",
    "    try:\n",
    "        post.click()\n",
    "        time.sleep(5)\n",
    "        try:\n",
    "            content = driver.find_element(By.CLASS_NAME, \"C4VMK\").text\n",
    "            content = content.replace(\"\\n\", \" \")\n",
    "            f.write(content + \"\\n\")\n",
    "            driver.find_element(By.XPATH, \"/html/body/div[4]/div[3]/button/div\").click()\n",
    "            time.sleep(1)\n",
    "        except:\n",
    "            driver.find_element(By.XPATH, \"/html/body/div[4]/div[3]/button/div\").click()\n",
    "            time.sleep(1)\n",
    "            continue\n",
    "    except:\n",
    "        continue\n",
    "f.close()"
   ]
  },
  {
   "cell_type": "code",
   "execution_count": 31,
   "metadata": {},
   "outputs": [],
   "source": [
    "# Chrome Driver를 닫습니다.\n",
    "driver.close()"
   ]
  },
  {
   "cell_type": "code",
   "execution_count": 34,
   "metadata": {},
   "outputs": [
    {
     "name": "stdout",
     "output_type": "stream",
     "text": [
      "seung_ju_bookstory 👨‍💻 앱에 생채정보 올리면 집에서 비대면진료 . . 🔹️언컨텍트 김용섭 작가님의 말중에 컨텍트하기위해 언컨택트하는것이다 라는말이 생각나네요.  🔹️이모든 변화들이 결국은 우리의 생존과 직결되어 있으며 전보다 더안전성을추구하고 편리함과 합리적인 삶을 살기위한 변화인것인것입니다 . 🔸️헬스케어플랫폼.원격의료 이젠 더이상 남의 이야기가아니죠 미국.중국.일본도 원격의료를도입했는데.아직우리나라는 개인정보법에 따른문제때문에 다른나라에비해 상황이 쉽지만은 않네요. . 🔸️스마트헬스케어플랫폼 헬스온을 개발한 헬스커넥트는 원격의료를 할수있다는강점을 내세우고 있네요 . 🔸️헬스온은 만성관리.AI 기반질환 예측 원격모니터등 다양한 기능을갖춘 디지털 의료플랫폼. 스마트폰 어플리케이션(앱)이나 전용기기를 통해개인별 생체정보를 수집하고 원격진료를받으며 AI 가 분석한 개안맞춤형 생활패턴과 만성잘환발병에 대한예측도 할수있다 . . 환자에게 식단.운동.투약시간등을 알려 생활속에서 만성질환을관리할수있도록 돕는다. 환자가 혈압이나 혈당등 자가 검사를 하면 이를 기록해 데이터베이스에 저장 생활데이터와 의료데이터는 의사에게전달되고 환자는집에서 헬스온을 통해 비대면 진료를받을수있다.  빅데이터와 AI 를 통해 개인맞춤형 만성질환예측서비스를 제공한다는점이 특징이다... . . 🔹️인간의삶이 더 편리하고 안전하게 더좋은 의료서비스를 받을수있기를 바래봅니다. . . #앱#원격의료#비대면진료#디지털의료플랫폼#빅데이터#AI #K방역#헬스온#언컨택트#개인정보법 #만성질환 8주\n",
      "koooo_sh_ 모두 거짓말을 한다_ 세스 스티븐스 다비도위츠 - 2년 전에 꽤나 흥미롭게 읽었던 책인데 독서모임 책으로 뽑혀 이렇게 다시 만나게 되었다. 아래는 당시에 썼던 리뷰의 일부인데 생각이 크게 바뀌지는 않은듯하다. 여전히 편리함보다는 약간의 불쾌감과 두려움이 앞선다(왜 아직도 대성마이맥이 내 광고에 등장하는가🤔...). - - 2018.8월 2008년 11월 5일, 버락 오바마가 미국의 44대 대통령으로 당선되었을 때 사람들은 미국 내의 인종차별이 끝나고 진정한 평등의 시대로 진입할 것이라 기대했다. 다수의 공식적인 언론이 찬사를 보내고 있던 그때 인터넷, 그중 구글 검색에서는 무슨 일이 일어나고 있었을까. 결과는 가히 충격적이었다. ‘오바마’가 포함된 검색어 상위권에는 ‘kkk’, ‘깜둥이’ 등이 포함되어 있었으며 극우 백인 사이트 ‘스톰프런트’의 가입, 검색은 평소의 10배를 웃돌았다. 심지어 일부 주에서는 ‘최초의 흑인 대통령’이라는 문구보다 ‘깜둥이 대통령’이 더 많이 검색되기까지 했다. - - 익명의 설문조사나 여론조사에서 본인의 생각과 다르지만 다른 사람들에게 좋게 보이기 위한 응답을 하는 ‘사회적 바람직성 편향(Social Desirability Bias)’, 심리학자 대니얼 카너먼과 아모스 트버스키가 제시한 표본이 아무리 작아도 그 표본이 전체 인구의 특성을 반영할 수 있다고 믿는 ‘작은 수의 법칙(Law of Small Numbers)’. 이밖에도 여러 이유로 인해 사람의 생각을 연구하는 것은 매우 어렵고 또한 언제나 오류가 존재한다. - - 저자는 이러한 사회과학 연구에 있어 새로운 대안을 제시한다. 구글에서 지금 이 순간에도 셀 수 없이 쌓이고 있는 사람들의 솔직한 ‘검색’ 자체가 바로 그것이다. 사람들은 인터넷이 제공하는 익명성 뒤에 숨어 밖에서는 꺼내지 않는 말을 구글에는 솔직하게 털어놓는다. 구글은 모든 기록을 모아 빅데이터화 한다. 개개인의 검색 기록은 제외하고 지역별, 연령별, 시간대별 데이터만으로도 여론조사나 일반적인 상식과는 괴리가 있는 결과를 다수 확인해볼 수 있다. ‘디지털 자백약’으로 기능하는 빅데이터는 사람들의 성생활, 아동학대와 낙태, SNS 친구, 증오와 차별 등의 주제에서 충격적인 검색 기록들을 보여준다. - - 이렇게 보면 빅데이터 만능론으로 보일지 모르나 저자는 빅데이터의 한계와 위험성 또한 명확하게 밝히고 있다. 빅데이터에는 변수가 기하급수적으로 늘어나면서 발생하는 ‘차원의 저주’가 항상 내재해 있어 결과에 대한 추가적인 실험과 검증절차가 없으면 오류에 빠질 가능성이 크며 ‘스몰데이터’로 불리는 소규모 설문조사와 인간의 판단이 동반될 때 빅데이터의 좋은 효과가 발휘될 수 있다고 주장한다. 또한, 권력화된 기업이나 기관이 빅데이터를 개인을 판단하기 위한 수단으로 사용할 때의 위험성을 경고한다. - - 책을 읽으며 구글과 검색 데이터가 보여주는 여러 사실에 놀라면서도 한편으로는 뭔가 찝찝한 마음이 들었다. 유발 하라리 교수가 ‘호모 데우스’에서 제시한 데이터의 종교화가 책을 읽는 내내 떠올랐다. 개인의 성향을 본인보다 더 정확하게 파악하고 있는 알고리즘(빅데이터)의 출현이 어떤 미래를 가져다줄까. 이 책은 분명 대부분의 사례 출처를 미국에 의존하고 있다. 전 세계, 혹은 우리나라에 그대로 적용하기에는 어느 정도 한계가 있겠지만, 큰 틀은 벗어나지 않을 것이다. 기술의 편리함 이전에 두려움이 느껴지는 건 어쩔 수 없다. - PS. 빅데이터를 다루는 책답게 결말도 데이터를 충실히 따른다. 경제학자의 책을 끝까지 읽는 비율이 매우 낮다는 것을 사례를 들어 보여준 뒤 적절한 방법으로 책을 끝내버린다. ‘나는 친구들과 맥주를 한잔하고 이 망할 결론을 그만 쓸 것이다. 빅데이터가 말하길 여기까지 읽고 있는 사람은 극히 소수니까.’ 내가 저자와 같은 경제 전문가는 아니다만 글의 마무리에 한번쯤은 써보고 싶은 방법이다. 이 리뷰도 여기까지 읽고 있는 사람은 극소수일테니까. - - - - #책스타그램 #북스타그램 #독서스타그램 #독서 #책 #모두거짓말을한다 #세스스티븐스다비도위츠 #더퀘스트 #빅데이터 #구글 #페이스북 #eveybodylies #리뷰 #북리뷰 #일상 #취미 #bookstagram #book 31주\n",
      "seung_ju_bookstory 💠 마이데이터 적금 출시.💠 . 1️⃣ 위치 정보 주니 이자 더주는 마이데이터적금 출시 . 2️⃣ 신용정보법 개정안 5일시행. 마이데이터 시대 활짝. . . 3️⃣ NH농협은행이 고객 위치 정보를 활용한 금융 상품을 처음으로 출시했다. 은행권 상품개발에 통신사 기지국 데이터를 활용한 첫사례다. 마이데이터 시장이 열리면서 은행들은 고객정보를 인증하면 우대금리를 제공하는 'NH 가고싶은 대한민국 적금'을 출시했다. 여행.체험과 금융을 결합시킨 상품. 고객이 인증한 권역수에 따라 0.1%포인트에서 2.5% 포인트까지우대금리를 차등 제공한다. 우대금리를 포함한최고 금리는 연 3.2%다. . 4️⃣마이데이터 사업은 은행.카드.보험.통신사등 여러곳에 흩어져있던 개인데이터를 수집해 소비자가 한눈에 살펴볼수있게 하는것이다. 데이터 소유권을 금융사가 아니라 내가 갖게된다.  5️⃣ 마이데이터 예비허가사전 신청을 받은금융위는 다음달부터 총 세차례씩 걸쳐 한번에 최대 20곳씩 허가를 내준다 앞으로 금융권에서는 고객데이터를 활용한맞춤형 금융상품 추천이나 개인자문서비스(PB) 등이 가능해질것이다 . . 🌱🌱🌱🌱🌱🌱🌱🌱🌱🌱🌱🌱🌱  💜 우리나라 마이데이터 산업은많이 뒤쳐진상태라고 알고 있어요 의료데이터나 금융데이터는 개인정보 보호법에따라 거래하지못하게 잠겨있는상태입니다. 미국등 다른나라들은 다 개방해놓았고 데이터의 유연성과 힘때문에 구글이나 아마존 유투브등이 크게 발전하고 있는거지요 우리나라도 하나의 돌파구가 있다면 마이데이터를 활용해야하는것 데이터 주인이 허락한다면 쓰도록 하는방향.. 우리가 데이터를 생산하기도하지만 데이터로부터 수혜를 받는 방법들도 잘 모색해야할것같아요💜 . . . #마이데이터 #마이데이터적금 #개인정보보호법 #데이터활용 #빅데이터 #금융데이터 #데이터의힘 #데이터생산 #신문읽는 여자 7주\n",
      "wecode_founder 위코드 졸업생 세환님 👨🏻‍🎓 위코드에 와서 정말 코딩 처음해본 #코알못 😲 ...이었지만 어떻게 그렇게 빨리 쑥쑥 성장하는지 멘토들도 너무 놀랐어요 🤷‍♂️ html, css, javascript, react를 넘어서 react native 까지 척척 해내는 멋진 개발자가 된 세환님 🧑🏻‍💻 지금은 클래스 101에서 멋지게 일하고 있는 능력자 🦸🏻‍♂️ 곧 국가의 부름을 받아 군대 입대를 해야하지만 재대 후 더 멋지고 훌륭한 개발자로 성장할 세환님 기대합니다 👨‍✈️ #위코드졸업생 #이제는동료개발자 #하지만곧군대로 #군대잘다녀오세요 @se.hwane 32주\n",
      "25_jw 아니 뭐 다 100만원짜리만 보여주냐 싼 거 알려달라고... . #빅데이터 #일상#만화#그림#일러스트#영화#짤#이사#먹스타그램 1주\n",
      "\n"
     ]
    }
   ],
   "source": [
    "# 파일에 저장된 카페 게시글 내용을 확인합니다.\n",
    "f = open(\"instagram_post_\" + keyword.replace(\"#\", \"\") + \".txt\", encoding=\"utf-8\")\n",
    "for post in f.read().split(\"\\n\")[:10]:\n",
    "    print(post.strip())\n",
    "f.close()"
   ]
  },
  {
   "cell_type": "code",
   "execution_count": null,
   "metadata": {},
   "outputs": [],
   "source": []
  }
 ],
 "metadata": {
  "kernelspec": {
   "display_name": "Python 3",
   "language": "python",
   "name": "python3"
  },
  "language_info": {
   "codemirror_mode": {
    "name": "ipython",
    "version": 3
   },
   "file_extension": ".py",
   "mimetype": "text/x-python",
   "name": "python",
   "nbconvert_exporter": "python",
   "pygments_lexer": "ipython3",
   "version": "3.8.3"
  }
 },
 "nbformat": 4,
 "nbformat_minor": 2
}
