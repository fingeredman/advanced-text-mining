{
 "cells": [
  {
   "cell_type": "markdown",
   "metadata": {},
   "source": [
    "# ADVANCED TEXT MINING\n",
    "- 본 자료는 텍스트 마이닝을 활용한 연구 및 강의를 위한 목적으로 제작되었습니다.\n",
    "- 본 자료를 강의 목적으로 활용하고자 하시는 경우 꼭 아래 메일주소로 연락주세요.\n",
    "- 본 자료에 대한 허가되지 않은 배포를 금지합니다.\n",
    "- 강의, 저작권, 출판, 특허, 공동저자에 관련해서는 문의 바랍니다.\n",
    "- **Contact : ADMIN(admin@teanaps.com)**\n",
    "\n",
    "---"
   ]
  },
  {
   "cell_type": "markdown",
   "metadata": {},
   "source": [
    "## WEEK 05-1. 한국어 텍스트 데이터 전처리: KoNLPy\n",
    "- Python의 KoNLPy 패키지를 활용해 텍스트 데이터를 전처리하는 방법에 대해 다룹니다.\n",
    "\n",
    "---"
   ]
  },
  {
   "cell_type": "code",
   "execution_count": 1,
   "metadata": {},
   "outputs": [],
   "source": [
    "# 텍스트 분석을 위한 TEANAPS 패키지를 설치합니다.\n",
    "# TEANAPS는 Google Colaboratory/Linux 환경에 최적화되어 있습니다.\n",
    "# Windows 환경에서 일부 기능에 제한이 있을 수 있습니다."
   ]
  },
  {
   "cell_type": "code",
   "execution_count": 2,
   "metadata": {},
   "outputs": [],
   "source": [
    "# TEANAPS (https://github.com/fingeredman/teanaps)\n",
    "#!git clone https://github.com/fingeredman/teanaps.git"
   ]
  },
  {
   "cell_type": "code",
   "execution_count": 3,
   "metadata": {},
   "outputs": [],
   "source": [
    "#!ls"
   ]
  },
  {
   "cell_type": "code",
   "execution_count": 4,
   "metadata": {},
   "outputs": [],
   "source": [
    "# TEANAPS 설치를 진행합니다.\n",
    "# 설치 전 반드시 상단 메뉴에서 [런타임 > 런타임 초기화]를 클릭한 후 진행해주세요.\n",
    "#!python \"teanaps/teanaps_setup.py\""
   ]
  },
  {
   "cell_type": "markdown",
   "metadata": {},
   "source": [
    "### 1. 텍스트 데이터를 다루는 다양한 방법 알아보기\n",
    "\n",
    "---"
   ]
  },
  {
   "cell_type": "markdown",
   "metadata": {},
   "source": [
    "#### 1.1. 기본함수 알아보기\n",
    "\n",
    "---"
   ]
  },
  {
   "cell_type": "code",
   "execution_count": 5,
   "metadata": {},
   "outputs": [
    {
     "name": "stdout",
     "output_type": "stream",
     "text": [
      "앞에 공백과 뒤에 줄바꿈이 달린 문자열 입니다.\n"
     ]
    }
   ],
   "source": [
    "# 1-1) 텍스트 앞뒤의 불필요한 문자열 지우기\n",
    "# strip() 함수는 문자열의 맨 앞과 뒤에 붙어있는 개행문자(\\n), 공백문자(\\s), 탭(\\t)을 제거합니다.\n",
    "new_text = \"  앞에 공백과 뒤에 줄바꿈이 달린 문자열 입니다. \\n\"\n",
    "new_text = new_text.strip()\n",
    "print(new_text)"
   ]
  },
  {
   "cell_type": "code",
   "execution_count": 6,
   "metadata": {},
   "outputs": [
    {
     "name": "stdout",
     "output_type": "stream",
     "text": [
      "앞에 공백과 뒤에 줄바꿈이 달린 문자열 입니다. \n",
      "\n"
     ]
    }
   ],
   "source": [
    "# 1-2) 텍스트 앞에 붙은 불필요한 문자열 지우기\n",
    "# strip() 함수는 문자열의 맨 앞과 뒤에 붙어있는 개행문자(\\n), 공백문자(\\s), 탭(\\t)을 제거합니다.\n",
    "new_text = \"  앞에 공백과 뒤에 줄바꿈이 달린 문자열 입니다. \\n\"\n",
    "new_text = new_text.lstrip()\n",
    "print(new_text)"
   ]
  },
  {
   "cell_type": "code",
   "execution_count": 7,
   "metadata": {},
   "outputs": [
    {
     "name": "stdout",
     "output_type": "stream",
     "text": [
      "  앞에 공백과 뒤에 줄바꿈이 달린 문자열 입니다.\n"
     ]
    }
   ],
   "source": [
    "# 1-3) 텍스트 뒤에 붙은 불필요한 문자열 지우기\n",
    "# strip() 함수는 문자열의 맨 앞과 뒤에 붙어있는 개행문자(\\n), 공백문자(\\s), 탭(\\t)을 제거합니다.\n",
    "new_text = \"  앞에 공백과 뒤에 줄바꿈이 달린 문자열 입니다. \\n\"\n",
    "new_text = new_text.rstrip()\n",
    "print(new_text)"
   ]
  },
  {
   "cell_type": "code",
   "execution_count": 8,
   "metadata": {},
   "outputs": [
    {
     "name": "stdout",
     "output_type": "stream",
     "text": [
      "['영', '일', '이', '삼', '사', '오', '육', '칠', '팔', '구', '십']\n"
     ]
    }
   ],
   "source": [
    "# 2) 텍스트를 문자열 단위로 나눠 리스트로 만들기\n",
    "# split(STRING) 함수는 문자열을 STRING 단위로 나눠 리스트 형태로 만듭니다.\n",
    "# STRING에는 공백문자를 입력할 수 없습니다.\n",
    "new_text = \"영,일,이,삼,사,오,육,칠,팔,구,십\"\n",
    "string_list = new_text.split(\",\")\n",
    "print(string_list)"
   ]
  },
  {
   "cell_type": "code",
   "execution_count": 9,
   "metadata": {},
   "outputs": [
    {
     "name": "stdout",
     "output_type": "stream",
     "text": [
      "저의 직업은 데이터 엔지니어 입니다.\n"
     ]
    }
   ],
   "source": [
    "# 3) 텍스트 일부를 치환하기\n",
    "# replace(STRING, NEW_STRING) 함수는 문자열(STRING)의 일부를 다른 문자열(NEW_STRING)로 치환합니다.\n",
    "new_text = \"저의 직업은 프로그램 개발자 입니다.\"\n",
    "new_text = new_text.replace(\"프로그램 개발자\", \"데이터 엔지니어\")\n",
    "print(new_text)"
   ]
  },
  {
   "cell_type": "code",
   "execution_count": 10,
   "metadata": {},
   "outputs": [
    {
     "name": "stdout",
     "output_type": "stream",
     "text": [
      "저의\n",
      "직업은\n",
      "데이터\n",
      "엔지니어\n",
      "입니다.\n"
     ]
    }
   ],
   "source": [
    "# 문자열이 아닌 특수기호도 치환이 가능합니다.\n",
    "new_text = new_text.replace(\" \", \"\\n\")\n",
    "print(new_text)"
   ]
  },
  {
   "cell_type": "code",
   "execution_count": 11,
   "metadata": {},
   "outputs": [
    {
     "name": "stdout",
     "output_type": "stream",
     "text": [
      "TEXT MINING은 DATA MINING의 한 분야입니다.\n"
     ]
    }
   ],
   "source": [
    "# 4-1) 텍스트에 포함된 소문자 알파벳을 대문자로 변경하기\n",
    "# upper() 함수는 문자열에 포함된 소문자 알파벳을 모두 대문자로 변경합니다.\n",
    "new_text = \"text mining은 DATA MINING의 한 분야입니다.\"\n",
    "new_text = new_text.upper()\n",
    "print(new_text)"
   ]
  },
  {
   "cell_type": "code",
   "execution_count": 12,
   "metadata": {},
   "outputs": [
    {
     "name": "stdout",
     "output_type": "stream",
     "text": [
      "text mining은 data mining의 한 분야입니다.\n"
     ]
    }
   ],
   "source": [
    "# 4-2) 텍스트에 포함된 대문자 알파벳을 소문자로 변경하기\n",
    "# lower() 함수는 문자열에 포함된 대문자 알파벳을 모두 소문자로 변경합니다.\n",
    "new_text = \"text mining은 DATA MINING의 한 분야입니다.\"\n",
    "new_text = new_text.lower()\n",
    "print(new_text)"
   ]
  },
  {
   "cell_type": "code",
   "execution_count": 13,
   "metadata": {},
   "outputs": [
    {
     "name": "stdout",
     "output_type": "stream",
     "text": [
      "6\n"
     ]
    }
   ],
   "source": [
    "# 5) 텍스트에 포함된 문자열의 인덱스 찾아내기\n",
    "new_text = \"영일이삼사오육칠팔구십\"\n",
    "string_index = new_text.index(\"육\")\n",
    "print(string_index)"
   ]
  },
  {
   "cell_type": "markdown",
   "metadata": {},
   "source": [
    "#### 1.2. 텍스트 데이터를 리스트 처럼 다루기\n",
    "\n",
    "---"
   ]
  },
  {
   "cell_type": "code",
   "execution_count": 14,
   "metadata": {},
   "outputs": [],
   "source": [
    "# Python에서 문자열은 리스트와 유사한 자료구조로 취급해 인덱싱 할 수 있습니다.\n",
    "new_text = \"영일이삼사오육칠팔구\"\n",
    "new_list = [0, 1, 2, 3, 4, 5, 6, 7, 8,  9]"
   ]
  },
  {
   "cell_type": "code",
   "execution_count": 15,
   "metadata": {},
   "outputs": [
    {
     "name": "stdout",
     "output_type": "stream",
     "text": [
      "new_text : 영일이삼사오육칠팔구십\n",
      "new_list : [0, 1, 2, 3, 4, 5, 6, 7, 8, 9, 10]\n"
     ]
    }
   ],
   "source": [
    "# 1) 더하기 연산자를 활용해 두 문자열을 결합합니다.\n",
    "new_text = new_text + \"십\"\n",
    "new_list = new_list + [10]\n",
    "print(\"new_text :\", new_text)\n",
    "print(\"new_list :\", new_list)"
   ]
  },
  {
   "cell_type": "code",
   "execution_count": 16,
   "metadata": {},
   "outputs": [
    {
     "name": "stdout",
     "output_type": "stream",
     "text": [
      "new_text_length : 11\n",
      "new_list_length : 11\n"
     ]
    }
   ],
   "source": [
    "# 2) 문자열에 존재하는 모든 문자의 개수를 불러옵니다.\n",
    "new_text_length = len(new_text)\n",
    "new_list_length = len(new_list)\n",
    "print(\"new_text_length :\", new_text_length)\n",
    "print(\"new_list_length :\", new_list_length)"
   ]
  },
  {
   "cell_type": "code",
   "execution_count": 17,
   "metadata": {},
   "outputs": [
    {
     "name": "stdout",
     "output_type": "stream",
     "text": [
      "True\n",
      "True\n"
     ]
    }
   ],
   "source": [
    "# 3-1) 문자열에 특정 문자가 존재하는지 여부를 in 연산자를 통해 확인합니다.\n",
    "print(\"칠\" in new_text)\n",
    "print(7 in new_list)"
   ]
  },
  {
   "cell_type": "code",
   "execution_count": 18,
   "metadata": {},
   "outputs": [
    {
     "name": "stdout",
     "output_type": "stream",
     "text": [
      "False\n",
      "False\n"
     ]
    }
   ],
   "source": [
    "# 3-2) 문자열에 특정 문자가 존재하지 않는지 여부를 not in 연산자를 통해 확인합니다.\n",
    "print(\"칠\" not in new_text)\n",
    "print(7 not in new_list)"
   ]
  },
  {
   "cell_type": "code",
   "execution_count": 19,
   "metadata": {},
   "outputs": [
    {
     "name": "stdout",
     "output_type": "stream",
     "text": [
      "0번째 문자 : 영\n",
      "1번째 문자 : 일\n",
      "4번째 문자 : 사\n"
     ]
    }
   ],
   "source": [
    "# 4) 문자열에 존재하는 N 번째 문자를 불러옵니다.\n",
    "print(\"0번째 문자 :\", new_text[0])\n",
    "print(\"1번째 문자 :\", new_text[1])\n",
    "print(\"4번째 문자 :\", new_text[4])"
   ]
  },
  {
   "cell_type": "code",
   "execution_count": 20,
   "metadata": {},
   "outputs": [
    {
     "name": "stdout",
     "output_type": "stream",
     "text": [
      "0~3번째 문자 : 영일이\n",
      "4~9번째 문자 : 사오육칠팔\n",
      "2~3번째 문자 : 이\n"
     ]
    }
   ],
   "source": [
    "# 5) 문자열에 존재하는 N번째 부터 M-1번째 문자를 리스트 형식으로 불러옵니다.\n",
    "print(\"0~3번째 문자 :\", new_text[0:3])\n",
    "print(\"4~9번째 문자 :\", new_text[4:9])\n",
    "print(\"2~3번째 문자 :\", new_text[2:3])"
   ]
  },
  {
   "cell_type": "code",
   "execution_count": 21,
   "metadata": {},
   "outputs": [
    {
     "name": "stdout",
     "output_type": "stream",
     "text": [
      "3번째 부터 모든 문자 : 삼사오육칠팔구십\n",
      "5번째 부터 모든 문자 : 오육칠팔구십\n",
      "9번째 부터 모든 문자 : 구십\n"
     ]
    }
   ],
   "source": [
    "# 6) 문자열에 존재하는 N번째 부터 모든 문자를 리스트 형식으로 불러옵니다.\n",
    "print(\"3번째 부터 모든 문자 :\", new_text[3:])\n",
    "print(\"5번째 부터 모든 문자 :\", new_text[5:])\n",
    "print(\"9번째 부터 모든 문자 :\", new_text[9:])"
   ]
  },
  {
   "cell_type": "code",
   "execution_count": 22,
   "metadata": {},
   "outputs": [
    {
     "name": "stdout",
     "output_type": "stream",
     "text": [
      "1번째 이전의 모든 문자 : 영\n",
      "7번째 이전의 모든 문자 : 영일이삼사오육\n",
      "9번째 이전의 모든 문자 : 영일이삼사오육칠팔\n"
     ]
    }
   ],
   "source": [
    "# 7) 문자열에 존재하는 N번째 이전의 모든 문자를 리스트 형식으로 불러옵니다.\n",
    "print(\"1번째 이전의 모든 문자 :\", new_text[:1])\n",
    "print(\"7번째 이전의 모든 문자 :\", new_text[:7])\n",
    "print(\"9번째 이전의 모든 문자 :\", new_text[:9])"
   ]
  },
  {
   "cell_type": "code",
   "execution_count": 23,
   "metadata": {},
   "outputs": [
    {
     "name": "stdout",
     "output_type": "stream",
     "text": [
      "끝에서 |-1|-1번째 이전의 모든 문자 : 영일이삼사오육칠팔구\n",
      "끝에서 |-1|-1번째 부터 모든 문자 : 십\n",
      "끝에서 |-2|-1번째 이전의 모든 문자 : 영일이삼사오육칠팔\n",
      "끝에서 |-2|-1번째 부터 모든 문자 : 구십\n"
     ]
    }
   ],
   "source": [
    "# 8) 문자열 인덱싱에 사용되는 정수 N의 부호가 음수인 경우, 마지막 문자부터 |N|-1번째 원소를 의미합니다.\n",
    "print(\"끝에서 |-1|-1번째 이전의 모든 문자 :\", new_text[:-1])\n",
    "print(\"끝에서 |-1|-1번째 부터 모든 문자 :\", new_text[-1:])\n",
    "print(\"끝에서 |-2|-1번째 이전의 모든 문자 :\", new_text[:-2])\n",
    "print(\"끝에서 |-2|-1번째 부터 모든 문자 :\", new_text[-2:])"
   ]
  },
  {
   "cell_type": "code",
   "execution_count": 24,
   "metadata": {},
   "outputs": [
    {
     "name": "stdout",
     "output_type": "stream",
     "text": [
      "영 일 이 삼 사 오 육 칠 팔 구 십 "
     ]
    }
   ],
   "source": [
    "# 9) FOR 문의 for + (반복할 변수) + in + (반복할 값이 저장된 리스트): 구조에서 리스트 대신 문자열을 활용합니다.\n",
    "for i in new_text:\n",
    "    print(i, end=\" \")"
   ]
  },
  {
   "cell_type": "markdown",
   "metadata": {},
   "source": [
    "### 2. 한국어 텍스트 데이터를 전처리하는 방법 알아보기: KoNLPy\n",
    "\n",
    "---"
   ]
  },
  {
   "cell_type": "markdown",
   "metadata": {},
   "source": [
    "#### 2.1. KoNLPy 패키지 내 형태소분석기 호출하기\n",
    "\n",
    "---"
   ]
  },
  {
   "cell_type": "code",
   "execution_count": 25,
   "metadata": {},
   "outputs": [],
   "source": [
    "# KoNLPy 패키지에서는 총 5가지 형태소분석기를 제공합니다.\n",
    "# 그 중 꼬꼬마와 한나눔, OKT 형태소분석기를 불러와 비교합니다.\n",
    "\n",
    "text = \"손흥민이 골을 작렬하며 토트넘 홋스퍼의 승리를 이끌었다.\""
   ]
  },
  {
   "cell_type": "code",
   "execution_count": 26,
   "metadata": {},
   "outputs": [
    {
     "name": "stdout",
     "output_type": "stream",
     "text": [
      "[('손', 'NNG'), ('흥', 'NNG'), ('민', 'NNG'), ('이', 'JKS'), ('골', 'NNG'), ('을', 'JKO'), ('작렬', 'NNG'), ('하', 'XSV'), ('며', 'ECE'), ('토트', 'NNG'), ('넘', 'NNB'), ('홋스퍼', 'UN'), ('의', 'JKG'), ('승리', 'NNG'), ('를', 'JKO'), ('이끌', 'VV'), ('었', 'EPT'), ('다', 'EFN'), ('.', 'SF')]\n"
     ]
    }
   ],
   "source": [
    "# 꼬꼬마 형태소 분석기를 불러옵니다.\n",
    "from konlpy.tag import Kkma\n",
    "kkma = Kkma()\n",
    "\n",
    "print(kkma.pos(text))"
   ]
  },
  {
   "cell_type": "code",
   "execution_count": 27,
   "metadata": {},
   "outputs": [
    {
     "name": "stdout",
     "output_type": "stream",
     "text": [
      "[('손흥민', 'N'), ('이', 'J'), ('골', 'P'), ('ㄹ', 'E'), ('작렬하', 'N'), ('이', 'J'), ('며', 'E'), ('토트넘', 'N'), ('홋스퍼', 'N'), ('의', 'J'), ('승리', 'N'), ('를', 'J'), ('이끌', 'P'), ('었다', 'E'), ('.', 'S')]\n"
     ]
    }
   ],
   "source": [
    "# 한나눔 형태소 분석기를 불러옵니다.\n",
    "from konlpy.tag import Hannanum\n",
    "hannanum = Hannanum()\n",
    "\n",
    "print(hannanum.pos(text))"
   ]
  },
  {
   "cell_type": "code",
   "execution_count": 28,
   "metadata": {},
   "outputs": [
    {
     "name": "stdout",
     "output_type": "stream",
     "text": [
      "[('손흥민', 'Noun'), ('이', 'Josa'), ('골', 'Noun'), ('을', 'Josa'), ('작렬', 'Noun'), ('하며', 'Verb'), ('토트넘', 'Noun'), ('홋스퍼', 'Noun'), ('의', 'Josa'), ('승리', 'Noun'), ('를', 'Josa'), ('이끌었다', 'Verb'), ('.', 'Punctuation')]\n"
     ]
    }
   ],
   "source": [
    "# OKT(Twitter) 형태소 분석기를 불러옵니다.\n",
    "from konlpy.tag import Okt\n",
    "okt = Okt()\n",
    "\n",
    "print(okt.pos(text))"
   ]
  },
  {
   "cell_type": "code",
   "execution_count": 30,
   "metadata": {},
   "outputs": [],
   "source": [
    "# 형태소분석기는 종류별로 형태소를 분리하는 기준과 태그명이 다릅니다.\n",
    "# 본 자료에서는 꼬꼬마 형태소 분석기를 활용합니다."
   ]
  },
  {
   "cell_type": "markdown",
   "metadata": {},
   "source": [
    "> 한국어 형태소 분석기 태그\n",
    "- https://github.com/fingeredman/teanaps/blob/master/document/teanaps_user_guide-appendix.md#teanaps-%ED%98%95%ED%83%9C%EC%86%8C-%ED%92%88%EC%82%AC%ED%83%9C%EA%B7%B8%ED%91%9C"
   ]
  },
  {
   "cell_type": "markdown",
   "metadata": {},
   "source": [
    "#### 2.2. 형태소분석기 활용하기\n",
    "\n",
    "---"
   ]
  },
  {
   "cell_type": "code",
   "execution_count": 31,
   "metadata": {},
   "outputs": [
    {
     "name": "stdout",
     "output_type": "stream",
     "text": [
      "['텍스트 데이터는 비정형 데이터에 해당합니다.', '비정형 데이터는 전체 데이터의 80% 정도를 차지합니다.']\n"
     ]
    }
   ],
   "source": [
    "# 1) sentences(TEXT) 함수를 활용해 문단을 문장단위로 분리하여 리스트 형태로 만듭니다.\n",
    "text= \"텍스트 데이터는 비정형 데이터에 해당합니다. 비정형 데이터는 전체 데이터의 80% 정도를 차지합니다.\"\n",
    "sentence_list = kkma.sentences(text)\n",
    "print(sentence_list)"
   ]
  },
  {
   "cell_type": "code",
   "execution_count": 32,
   "metadata": {},
   "outputs": [
    {
     "name": "stdout",
     "output_type": "stream",
     "text": [
      "[('텍스트', 'NNG'), ('데이터', 'NNG'), ('는', 'JX'), ('비정형', 'NNG'), ('데이터', 'NNG'), ('에', 'JKM'), ('해당', 'NNG'), ('하', 'XSV'), ('ㅂ니다', 'EFN'), ('.', 'SF')]\n",
      "[('비정형', 'NNG'), ('데이터', 'NNG'), ('는', 'JX'), ('전체', 'NNG'), ('데이터', 'NNG'), ('의', 'JKG'), ('80', 'NR'), ('%', 'SW'), ('정도', 'NNG'), ('를', 'JKO'), ('차지', 'NNG'), ('하', 'XSV'), ('ㅂ니다', 'EFN'), ('.', 'SF')]\n"
     ]
    }
   ],
   "source": [
    "# 2) pos(TEXT) 함수를 활용해 문장을 형태소 단위로 분리하여 리스트 형태로 만듭니다.\n",
    "for sentence in sentence_list:\n",
    "    pos_list = kkma.pos(sentence)\n",
    "    print(pos_list)"
   ]
  },
  {
   "cell_type": "code",
   "execution_count": 33,
   "metadata": {},
   "outputs": [
    {
     "name": "stdout",
     "output_type": "stream",
     "text": [
      "['텍스트', '데이터', '비정형', '해당']\n",
      "['비정형', '데이터', '전체', '80', '정도', '차지']\n"
     ]
    }
   ],
   "source": [
    "# 2) nouns(TEXT) 함수를 활용해 문장을 형태소 단위로 분리하고 명사(NNG, NNP)만 리스트 형태로 만듭니다.\n",
    "for sentence in sentence_list:\n",
    "    pos_list = kkma.nouns(sentence)\n",
    "    print(pos_list)"
   ]
  },
  {
   "cell_type": "markdown",
   "metadata": {},
   "source": [
    "### 3. 한국어 텍스트 데이터를 전처리하는 방법 알아보기: TEANAPS\n",
    "\n",
    "---"
   ]
  },
  {
   "cell_type": "markdown",
   "metadata": {},
   "source": [
    "#### 3.1. TEANAPS 패키지 내 형태소분석기 호출하기\n",
    "\n",
    "---"
   ]
  },
  {
   "cell_type": "code",
   "execution_count": 34,
   "metadata": {},
   "outputs": [
    {
     "data": {
      "text/html": [
       "<script>requirejs.config({paths: { 'plotly': ['https://cdn.plot.ly/plotly-latest.min']},});if(!window.Plotly) {{require(['plotly'],function(plotly) {window.Plotly=plotly;});}}</script>"
      ],
      "text/vnd.plotly.v1+html": [
       "<script>requirejs.config({paths: { 'plotly': ['https://cdn.plot.ly/plotly-latest.min']},});if(!window.Plotly) {{require(['plotly'],function(plotly) {window.Plotly=plotly;});}}</script>"
      ]
     },
     "metadata": {},
     "output_type": "display_data"
    },
    {
     "data": {
      "text/html": [
       "<script>requirejs.config({paths: { 'plotly': ['https://cdn.plot.ly/plotly-latest.min']},});if(!window.Plotly) {{require(['plotly'],function(plotly) {window.Plotly=plotly;});}}</script>"
      ],
      "text/vnd.plotly.v1+html": [
       "<script>requirejs.config({paths: { 'plotly': ['https://cdn.plot.ly/plotly-latest.min']},});if(!window.Plotly) {{require(['plotly'],function(plotly) {window.Plotly=plotly;});}}</script>"
      ]
     },
     "metadata": {},
     "output_type": "display_data"
    },
    {
     "name": "stdout",
     "output_type": "stream",
     "text": [
      "[('손흥민', 'NNP', (0, 3)), ('이', 'JKS', (3, 4)), ('골', 'NNG', (5, 6)), ('을', 'JKO', (6, 7)), ('작렬', 'NNG', (8, 10)), ('하', 'XSV', (10, 11)), ('며', 'EC', (11, 12)), ('토트넘', 'NNP', (13, 16)), ('홋스퍼의', 'UN', (17, 21)), ('승리', 'NNG', (22, 24)), ('를', 'JKO', (24, 25)), ('이끌', 'VV', (26, 28)), ('었', 'EP', (28, 29)), ('다', 'EF', (29, 30)), ('.', 'SW', (30, 31))]\n"
     ]
    }
   ],
   "source": [
    "# TEANAPS 형태소 분석기를 불러옵니다.\n",
    "from teanaps.nlp import MorphologicalAnalyzer\n",
    "\n",
    "ma = MorphologicalAnalyzer()\n",
    "\n",
    "# TEANAPS에서는 한국어 텍스트 분석을 위해 3가지 형태소분석기를 지원합니다.\n",
    "# 사용할 형태소분석기 유형을 지정합니다.\n",
    "# 지정하지 않은 경우에는 기본으로 Okt 형태소분석기가 사용됩니다.\n",
    "#ma.set_tagger(\"okt\")\n",
    "ma.set_tagger(\"mecab\")\n",
    "#ma.set_tagger(\"kkma\")\n",
    "\n",
    "text = \"손흥민이 골을 작렬하며 토트넘 홋스퍼의 승리를 이끌었다.\"\n",
    "pos_list = ma.parse(text)\n",
    "print(pos_list)"
   ]
  },
  {
   "cell_type": "markdown",
   "metadata": {},
   "source": [
    "#### 3.2. 형태소분석기 활용하기\n",
    "\n",
    "---"
   ]
  },
  {
   "cell_type": "code",
   "execution_count": 36,
   "metadata": {},
   "outputs": [
    {
     "name": "stdout",
     "output_type": "stream",
     "text": [
      "100\r"
     ]
    },
    {
     "data": {
      "text/plain": [
       "['금융/NNG 硏/NNG 비트코인/NNP 쇠락/NNG 과/JC 내재/NNG 적/XSN 결함/NNG 보고서/NNG (/SW 지디/NNP 넷/NNP 코리아/NNP =/SW 손/NNG 예술/NNG 기자/NNG )/SW 대표/NNG 적/XSN 인/VCP+ETM 암호/NNG 화폐/NNG 비트코인/NNP 의/JKG 가격/NNG 이/JKS 급/NNG 변동/NNG 했/XSV+EP 음/ETN 에/JKB 도/JX 불구/XR ,/SW 일부/NNG 암호/NNG 화폐/NNG 옹호/NNG 론/XSN 자/XSN 들/XSN 은/JX 비트코인/NNP 이/JKS 갖/VV 고/EC 있/VX 는/ETM 몇/MM 가지/NNB 결함/NNG 이/JKS 해소/NNG 되/XSV 면/EC 새로운/VA+ETM 국면/NNG 이/JKS 나타날/VV+ETM 것/NNB 으로/JKB 예측/NNG 했/XSV+EP 다/EF ./SW 그/NP 들/XSN 은/JX 이런/MM 결함/NNG 을/JKO 전제/NNG 로/JKB 국내외/NNG 정부/NNG 와/JC 감독/NNG 당국/NNG 은/JX 선제/NNG 적/XSN 으로/JKB 시각/NNG 및/MAJ 규제/NNG 환경/NNG 을/JKO 정비/NNG 해야/XSV+EC 한다는/VX+ETM 주장/NNG 하/XSV 고/EC 있/VX 다/EC ./SW 14/SN 일/NNB 한국/NNP 금융/NNG 연구원/NNG 은/JX 비트코인/NNP 쇠락/NNG 과/JC 내재/NNG 적/XSN 결함/NNG 이/VCP 란/ETM 보고서/NNG 에서/JKB 암호/NNG 화폐/NNG 옹호/NNG 론/XSN 자/XSN 의/JKG 입장/NNG 과/JKB 함께/MAG 그/NP 들/XSN 이/JKS 제시/NNG 한/XSA+ETM 세/MM 가지/NNB 결함/NNG 을/JKO 발표/NNG 했/XSV+EP 다/EF ./SW 여기/NP 서/JKB 암호/NNG 화폐/NNG 옹호/NNG 론/XSN 자/XSN 들/XSN 은/JX 암호/NNG 화폐/NNG 로/JKB 새로운/VA+ETM 부가/NNG 가치/NNG 를/JKO 낼/VV+ETM 수/NNB 있/VV 는/ETM 사업/NNG 모델/NNG 등장/NNG 가능/NNG 성/XSN 에/JKB 집중/NNG 하/XSV 고/EC 있/VX 는/ETM 인물/NNG 들/XSN 로/JKB 통칭/NNG 된다/XSV+EF ./SW 그러나/MAJ 그/NP 들/XSN 은/JX 이/NP 를/JKO 위해서/VV+EC 비트코인/NNP 이/JKS 세/MM 가지/NNB 결함/NNG 이/JKS 우선/NNG 적/XSN 으로/JKB 해소/NNG 돼야/XSV+EC 한다고/VX+EC 보/VX 고/EC 있/VX 다/EF ./SW 하나/NR 는/JX 비트코인/NNP 이/JKS 재화/NNG 와/JC 용역/NNG 을/JKO 구입/NNG 하/XSV 는/ETM 데/NNB 사용/NNG 되/XSV 는/ETM 시장/NNG 이/JKS 아직/MAG 은/JX 너무/MAG 좁/VA 다는/ETM 것/NNB 이/VCP 다/EF ./SW 미국/NNP 비트코인/NNP 시장/NNG 조사/NNG 기관/NNG 인/VCP+ETM 사토시/NNP 캐피탈/NNP 리서치/NNG 에/JKB 따르/VV 면/EC 지난/VV+ETM 2017/SN 년/NNB 기준/NNG 으로/JKB 비트코인/NNP 을/JKO 사용/NNG 한/XSA+ETM 거래/NNG 결제/NNG 액/NNG 은/JX 약/MM 24/SN 억/NR 달러/NNB 로/JKB 중국/NNP 의/JKG 알리/NNP 페이/NNP 와/JC 위/NNG 챗/NNG 페이/NNP 의/JKG 거래/NNG 결제/NNG 액/NNG 이/JKS 약/MM 15/SN 조/NR 달러/NNB 였음을/VCP+EP+ETN+JKO 감안/NNG 하/XSV 면/EC 지나치/VA 게/EC 적/VA 은/ETM 시장/NNG 이/VCP 라는/ETM 것/NNB 이/VCP 다/EF ./SW 두/MM 번/NNB 째/XSN 는/JX 비트코인/NNP 은/JX 거래/NNG 건수/NNG 급증/NNG 과/JC 블록/NNG 용량/NNG 제한/NNG 등/NNB 으로/JKB 채굴/NNG 을/JKO 통/NNG 핸/XSV+ETM 결제/NNG 처리/NNG 가/JKS 지연/NNG 돼/XSV+EC ,/SW 이용자/NNG 들/XSN 이/JKS 거래/NNG 완료/NNG 를/JKO 위해/VV+EC 부담/NNG 해야/XSV+EC 하/VV 는/ETM 수수료/NNG 가/JKS 높/VA 아/EC 지/VX 는/ETM 문제/NNG 가/JKS 있/VA 다는/ETM 것/NNB 이/VCP 다/EF ./SW 비트코인/NNP 기반/NNG 기술/NNG 인/VCP+ETM 블록체인/NNG 을/JKO 구성/NNG 하/XSV 는/ETM 각/MM 블록/NNG 용량/NNG 은/JX 1/SN 메가바이트/NNB 로/JKB 이뤄져/VV+EC 있/VX 고/EC 초당/NNG 평균/NNG 거래/NNG 처리/NNG 건수/NNG 는/JX 7/SN 건/NNB 이/VCP 며/EC 약/MM 10/SN 분/NNB 마다/JX 1/SN 개/NNB 블록/NNG 이/JKS 형성/NNG 된다/XSV+EF ./SW 반면/NNG 비자/NNG 의/JKG 경우/NNG 초당/NNG 거래/NNG 처리/NNG 건수/NNG 는/JX 수/MM 만/NR 건/NNB 에/JKB 달한다/VV+EF ./SW 세/MM 번/NNB 째/XSN 로/JKB 거래소/NNG 해킹/NNG 등/NNB 과/JKB 같/VA 은/ETM 사기/NNG 성/XSN 거래/NNG 에/JKB 아직/MAG 도/JX 노출/NNG 돼/XSV+EC 있/VX 다는/ETM 점/NNG 이/VCP 다/EF ./SW 지난/VV+ETM 2/SN 월/NNB 캐나다/NNP 암호/NNG 화폐/NNG 거래소/NNG 쿼드리/NNP 가/JKS CX/OL 대표/NNG 이사/NNG 이/VCP 자/EC 설립자/NNG 는/JX 사망/NNG 과/JC 거액/NNG 의/JKG 고객/NNG 암호/NNG 화폐/NNG 분시/NNG 로/JKB 파산/NNG 보호/NNG 를/JKO 신청/NNG 했으며/XSV+EP+EC 3/SN 월/NNB 파산/NNG 관재인/NNG 은/JX 비밀/NNG 키를/XSV+ETN+JKO 관리/NNG 했/XSV+EP 던/ETM 설립자/NNG 사망/NNG 이전/NNG 8/SN 개월/NNB 간/NNG 핫/NNG 월/NNG 렛/NNP 에/JKB 고객/NNG 의/JKG 암호/NNG 화폐/NNG 가/JKS 없/VA 었/EP 다고/EC 발표/NNG 했/XSV+EP 다/EF ./SW 핫/IC 월/NNP 렛/NNP 은/JX 인터넷/NNG 과/JC 연결/NNG 돼/XSV+EC 있/VX 는/ETM 암호/NNG 화폐/NNG 전자지갑/NNP 이/VCP 다/EF ./SW 세/MM 가지/NNB 결함/NNG 에/JKB 도/JX 불구/XR 비트코인/NNP 을/JKO 이용/NNG 한/XSA+ETM 오프라인/NNG 결제/NNG 가/JKS 이뤄/VV+EC 지/VX 거나/EC 다양/XR 한/XSA+ETM 나라/NNG 서/JKB 디지털/NNG 화폐/NNG 에/JKB 대한/VV+ETM 실험/NNG 적/XSN 인/VCP+ETM 시도/NNG 가/JKS 이뤄지는/VV+ETM 상태/NNG 다/VCP+EF ./SW 이/MM 때문/NNB 에/JKB 암호/NNG 화폐/NNG 나/JC 비트코인/NNP 이/JKS 정말/MAG 법정/NNG 통화/NNG 를/JKO 보완/NNG 하/XSV 거나/EC 새로운/VA+ETM 지급/NNG 결제/NNG 나/JC 가치/NNG 저장/NNG 수단/NNG 으로/JKB 역할/NNG 을/JKO 할/VV+ETM 수/NNB 있/VV 을지/EC 가늠/NNG 하/XSV 기/ETN 위해선/VV+EC+JX 내재/NNG 적/XSN 결함/NNG 대처/NNG 와/JC 국내외/NNG 정부/NNG 나/JC 감독/NNG 당국/NNG 은/JX 암호/NNG 화폐/NNG 에/JKB 대한/VV+ETM 시각/NNG 및/MAJ 규제/NNG 환경/NNG 정비/NNG 가/JKS 필요/NNG 하/XSA 다는/ETM 게/NNB+JKS 이/MM 보고서/NNG 의/JKG 의견/NNG 이/VCP 다/EF ./SW 특히/MAG 옹호/NNG 론/XSN 자/XSN 가/JKS 지적/NNG 한/XSA+ETM 세/MM 가지/NNB 결함/NNG 중/NNB 일부/NNG 는/JX 금융/NNG 소비자/NNG 나/JC 투자자/NNG 들/XSN 의/JKG 보호/NNG 문제/NNG 와/JC 직결/NNG 돼/XSV+EC 있/VX 는/ETM 상황/NNG 이/VCP 다/EF ./SW 한국/NNP 금융/NNG 연구원/NNG 은/JX \"/SW 암호/NNG 화폐/NNG 수용/NNG 을/JKO 검토/NNG 하/XSV 고/EC 있/VX 는/ETM 정부/NNG 나/JC 감독/NNG 당국/NNG 들/XSN 은/JX 소비자/NNG 보호/NNG 강화/NNG 및/MAJ 금융/NNG 시장/NNG 의/JKG 안정/NNG 성/XSN 확보/NNG 관점/NNG 에서/JKB 시장/NNG 참가자/NNG 들/XSN 의/JKG 정보/NNG 공시/NNG 의/JKG 무/XPN 강화/NNG ,/SW 결제/NNG 계좌/NNG 및/MAJ 전자지갑/NNP 제공/NNG 거래소/NNG 나/JC 금융/NNG 사/NNG 의/JKG 자본금/NNG 또는/MAJ 유동/NNG 성/XSN 규제/NNG 를/JKO 부과/NNG 하/XSV 고/EC 있/VX 다/EC \"/SW 며/EC \"/SW 이/JKS 밖/NNG 에/JKB 도/JX 자금/NNG 세탁/NNG 차단/NNG 등/NNB 에/JKB 대한/VV+ETM 집중/NNG 적/XSN 인/VCP+ETM 검토/NNG 가/JKS 필요/NNG 하/XSV 다/EC \"/SW 고/JKQ 서술/NNG 했/XSV+EP 다/EF ./SW 한편/NNG ,/SW 비트코인/NNP 은/JX 2017/SN 년/NNB 12/SN 월/NNB 중순/NNG 2/SN 만/NR 달러/NNB 까지/JX 육박/NNG 했/XSV+EP 지만/EC 올해/NNG 3/SN 월/NNB 까지/JX 4/SN 천/NR 달러/NNB 까지/JX 떨어지/VV 는/ETM 등/NNB 이/JKS 기간/NNG 동안/NNG 비트코인/NNP 의/JKG 시가총액/NNP 은/JX 9/SN 천억/NR 달러/NNB 에서/JKB 800/SN 억/NR 달러/NNB 까지/JX 감소/NNG 했/XSV+EP 다/EF ./SW 손/NNG 예술/NNG 기자/NNG (/SW kunst/OL @/SW zdnet/OL ./SW co/OL ./SW kr/OL )/SW',\n",
       " '비트코인/NNP 놓/VV 고/EC 상반/NNG 된/XSV+ETM 평가/NNG 내놔/VV+EC [/SW 김산하/NNP 기자/NNG ]/SW 니얼/NNP 퍼거슨/NNP 하버드대/NNP 교수/NNG (/SW 왼쪽/NNG )/SW ,/SW 워렌/NNP 버핏/NNP 버크셔/NNP 해서웨이/NNP 회장/NNG (/SW 오른쪽/NNG )/SW (/SW 사진/NNG =/SW 트위터/NNP )/SW 워렌/NNP 버핏/NNP 버크셔/NNP 해서웨이/NNP 회장/NNG 과/JC 세계/NNG 적/XSN 경제/NNG 사학자/NNG 니얼/NNP 퍼거슨/NNP 하버드대/NNP 교수/NNG 가/JKS 비트코인/NNP 을/JKO 두/VV 고/EC 상반/NNG 된/XSV+ETM 평가/NNG 를/JKO 내놓/VV 았/EP 다/EF ./SW 과거/NNG 비트코인/NNP 을/JKO 비판/NNG 하/XSV 던/ETM 퍼거슨/NNP 교수/NNG 는/JX 자신/NNG 의/JKG 발언/NNG 을/JKO 후회/NNG 한다고/XSV+EC 언급/NNG 한/XSA+ETM 반면/NNG 버핏/NNP 회장/NNG 은/JX 한층/MAG 더/MAG 부정/NNG 적/XSN 시각/NNG 을/JKO 견지/NNG 해/XSV+EC 눈길/NNG 을/JKO 끌/VV 었/EP 다/EF ./SW 버핏/NNP 회장/NNG 은/JX 지난달/NNG 25/SN 일/NNB (/SW 이하/NNG 현지/NNG 시간/NNG )/SW 미국/NNP CNBC/OL 와/JKB 의/JKG 인터뷰/NNG 에서/JKB “/SW 비트코인/NNP 은/JX 고유/NNG 가치/NNG 가/JKS 없/VA 으며/EC 아무것/NP 도/JX 생산/NNG 해/XSV+EC 내/VX 지/EC 못한다/VX+EF ./SW 기본/NNG 적/XSN 으로/JKB 망상/NNG ”/SW 이/VCP 라고/EC 주장/NNG 했/XSV+EP 다/EF ./SW 이/VCP 어/EC “/SW 비트코인/NNP 은/JX 사기/NNG 꾼/XSN 들/XSN 을/JKO 끌어들인다/VV+EF ”/SW 면서/EC 인생/NNG 이/JKS 바뀔/VV+ETM 것/NNB 이/VCP 라/EC 기대/NNG 하/XSV 며/EC 가상/NNG 화폐/NNG (/SW 암호/NNG 화폐/NNG )/SW 에/JKB 투자/NNG 하/XSV 는/ETM 투자자/NNG 들/XSN 이/JKS 안타깝/VA 다고/EC 말/NNG 했/XSV+EP 다/EF ./SW 그/NP 는/JX 지난해/NNG 5/SN 월/NNB 버크셔/NNP 해서웨이/NNP 주주/NNG 총회/NNG 에서/JKB 도/JX “/SW 비트코인/NNP 은/JX 쥐약/NNG 과/JKB 같/VA 다/EC ”/SW 며/EC 비판/NNG 적/XSN 발언/NNG 을/JKO 한/VV+ETM 바/NNB 있/VV 다/EF ./SW 그/MM 이전/NNG 에/JKB 도/JX 비트코인/NNP 을/JKO ‘/SW 튤립/NNG 버블/NNG ’/SW 이나/JC ‘/SW 신기루/NNG ’/SW 에/JKB 비유/NNG 해/XSV+EC 왔/VX+EP 다/EF ./SW 하지만/MAJ 퍼거슨/NNP 교수/NNG 는/JX 생각/NNG 이/JKS 달라졌/VV+EP 다/EF ./SW 7/SN 일/NNB (/SW 현지/NNG 시간/NNG )/SW 외신/NNG 에/JKB 따르/VV 면/EC 퍼거슨/NNP 교수/NNG 는/JX 호주/NNP 경제/NNG 일간지/NNG AFR/OL 이/JKS 개최/NNG 한/XSA+ETM 비즈니스/NNG 서밋/NNP 의/JKG 비/XPN 공개/NNG 행사/NNG 에서/JKB “/SW 암호/NNG 화폐/NNG 는/JX 망상/NNG 이/JKC 아니/VCN 다/EC ”/SW 라고/VCP+EC 말/NNG 했/XSV+EP 다/EF ./SW 버핏/NNP 의/JKG 주장/NNG 과/JC 정반대/NNG 입장/NNG 을/JKO 밝힌/VV+ETM 셈/NNB 이/VCP 다/EF ./SW 퍼거슨/NNP 교수/NNG 는/JX 블록체인/NNG 기반/NNG 의/JKG 암호/NNG 화폐/NNG 가/JKS 쓰일/VV+ETM 만/NNB 한/XSA+ETM 곳/NNG 이/JKS 존재/NNG 하/XSV 지/EC 않/VX 는다고/EC 봤으나/VX+EP+EC 생각/NNG 이/JKS 바뀌/VV 었/EP 다고/EC 했/VX+EP 다/EF ./SW 그/NP 는/JX 비트코인/NNP 가격/NNG 이/JKS 절정/NNG 에/JKB 달한/VV+ETM 지난/VV+ETM 2017/SN 년/NNB 말/NNB 미국/NNP 폭스/NNP 비즈니스/NNG 네트워크/NNG 방송/NNG 에/JKB 출연/NNG 해/XSV+EC “/SW 비트코인/NNP 은/JX 금융/NNG 역사/NNG 상/XSN 가장/MAG 큰/VA+ETM 버블/NNG (/SW 거품/NNG )/SW ”/SW 이/VCP 라고/EC 평가/NNG 한/XSA+ETM 바/NNB 있/VV 다/EF ./SW 그러/VV 다가/EC 지난달/NNG 에/JKB 는/JX “/SW 비트코인/NNP 은/JX ‘/SW 디지털/NNG 금/NNG ’/SW 이/JKS 될/VV+ETM 수/NNB 있/VV 는/ETM 후보/NNG 중/NNB 하나/NR ”/SW 라며/VCP+EC 비트코인/NNP 에/JKB 대해/VV+EC 긍정/NNG 적/XSN 으로/JKB 바뀐/VV+ETM 시각/NNG 을/JKO 내비쳤/VV+EP 다/EF ./SW 또/MAG “/SW 지난/VV+ETM 10/SN 년/NNB 간/NNG 금융/NNG 의/JKG 변화/NNG 보다/JKB 앞/NNG 으로/JKB 10/SN 년/NNB 의/JKG 금융/NNG 의/JKG 변화/NNG 가/JKS 훨씬/MAG 더/MAG 혁신/NNG 적/XSN 일/VCP+ETM 것/NNB ”/SW 이/VCP 라고/EC 전망/NNG 했/XSV+EP 다/EF ./SW 그/NP 는/JX 최근/NNG 한/XSA+ETM 블록체인/NNG 회사/NNG 자문/NNG 위원/NNG 으로/JKB 도/JX 참여/NNG 한/XSA+ETM 것/NNB 으로/JKB 알려졌/VV+EC+VX+EP 다/EF ./SW 김산하/NNP 한경/NNP 닷컴/NNP 기자/NNG sanha/OL @/SW hankyung/OL ./SW com/OL 기사/NNG 제보/NNG 및/MAJ 보도/NNG 자료/NNG open/OL @/SW hankyung/OL ./SW com/OL [/SW 한경/NNP 닷컴/NNP 바로/MAG 가/VV 기/ETN ]/SW [/SW 모바일/NNP 한경/NNG 구독/NNG 신청/NNG ]/SW 네이버/NNP 에서/JKB 한국/NNP 경제/NNG 채널/NNG 구독/NNG 하/XSV 기/ETN </SW 자세히/MAG 보/VV 기/ETN >/SW ⓒ/SW 한국/NNP 경제/NNG &/SW hankyung/OL ./SW com/OL ,/SW 무단/NNG 전재/NNG 및/MAJ 재/XPN 배포/NNG 금지/NNG',\n",
       " '[/SW 코/NNG 인터뷰/NNG ]/SW 스테판/NNP 러스트/NNP 비트코인/NNP 닷컴/NNP 비즈니스/NNG 총괄/NNG [/SW 김산하/NNP 기자/NNG ]/SW 한경/NNP 닷컴/NNP 과/JC 인터뷰/NNG 중/NNB 인/VCP+ETM 스테판/NNP 러스트/NNP (/SW Stefan/OL Rust/OL )/SW 비트코인/NNP 닷컴/NNP 비즈니스/NNG 총괄/NNG \"/SW 현재/MAG 가상/NNG 화폐/NNG (/SW 암호/NNG 화폐/NNG )/SW 생태/NNG 계/XSN 에/JKB 는/JX 약/MM 5000/SN 만/NR 명/NNB 정도/NNG 사용/NNG 자/XSN 가/JKS 들어와/VV+EC 있/VX 는/ETM 것/NNB 으로/JKB 추정/NNG 됩니다/XSV+EF ./SW 1994/SN ~/SW 1995/SN 년/NNB 경/XSN 인터넷/NNG 사용/NNG 자/VV 수와/EC 비슷/XR 하/XSA 죠/EF ./SW 우리/NP 가/JKS 얼마나/MAG 암호/NNG 화폐/NNG 산업/NNG 의/JKG 초기/NNG 단계/NNG 에/JKB 있/VV 는지/EC 알/VV+ETM 수/NNB 있/VV 습니다/EF ./SW \"/SW 지난/VV+ETM 4/SN 일/NNB 서울/NNP 장충/NNG 체육관/NNG 에서/JKB 개최/NNG 된/XSV+ETM 열린/VV+ETM \\'/SW 분산/NNG 경제/NNG 포럼/NNG (/SW 디/NNG 코노미/NNP )/SW 2019/SN \\'/SW 에서/JKB 한경/NNP 닷컴/NNP 과/JC 인터뷰/NNG 한/XSA+ETM 스테판/NNP 러스트/NNP (/SW Stefan/OL Rust/OL )/SW 비트코인/NNP 닷컴/NNP 비즈니스/NNG 총괄/NNG (/SW 사진/NNG )/SW 은/JX 현재/MAG 암호/NNG 화폐/NNG 상황/NNG 을/JKO 이/IC 같이/MAG 짚/VV 었/EP 다/EF ./SW 스테판/NNP 총괄/NNG 은/JX \"/SW 당시/NNG 엔/JKB+JX 구글/NNG 도/JX 존재/NNG 하/XSV 지/EC 않/VX 았/EP 다/EF ./SW 전/MM 세계/NNG 인터넷/NNG 의/JKG 표준/NNG 이/JKS 된/VV+ETM TCP/OL IP/OL 프로토콜/NNG 역시/MAJ 그/MM 당시/NNG 표준/NNG 프로토콜/NNG 도/JX 아니/VCN 었/EP 다/EC \"/SW 면서/EC \"/SW 비트코인/NNP 캐시/NNG 가/JKS 초기/NNG 단계/NNG 인/VCP+ETM 암호/NNG 화폐/NNG 생태/NNG 계/XSN 에서/JKB 빠르/VA 게/EC 표준/NNG 으로/JKB 자리/NNG 잡/VV 을/ETM 수/NNB 있/VV 도록/EC 노력/NNG 하/XSV 겠/EP 다/EC \"/SW 고/JKQ 강조/NNG 했/XSV+EP 다/EF ./SW 비트코인/NNP 닷컴/NNP 은/JX 전/MM 세계/NNG 5/SN 위/NNB 암호/NNG 화폐/NNG 비트코인/NNP 캐시/NNG 를/JKO 이끄/VV 는/ETM 암호/NNG 화폐/NNG 기업/NNG 이/VCP 다/EF ./SW 글로벌/NNG 암호/NNG 화폐/NNG 전문/NNG 미디어/NNG \\'/SW 비트코인/NNP 뉴스/NNG \\'/SW 를/JKO 비롯/XR 해/XSA+EC 암호/NNG 화폐/NNG 관련/NNG 지갑/NNG 서비스/NNG ,/SW 채굴/NNG 사업/NNG ,/SW 플랫폼/NNG 사업/NNG ,/SW 게임/NNG 사업/NNG 등/NNB 을/JKO 펼치/VV 고/EC 있/VX 다/EF ./SW 그/NP 의/JKG 설명/NNG 에/JKB 따르/VV 면/EC 비트코인/NNP 닷컴/NNP 암호/NNG 화폐/NNG 지갑/NNG 에/JKB 는/JX 약/MM 400/SN 만/NR 개/NNB 의/JKG 활성/NNG 화/XSN 된/XSV+ETM 주소/NNG 가/JKS 존재/NNG 한다/XSV+EF ./SW 매일/MAG 1/SN 만/NR 5000/SN 건/NNB 상당/NNG 의/JKG 활동/NNG 이/JKS 발생/NNG 하/XSV 며/EC 지갑/NNG 앱/NNG (/SW 응용/NNG 프로그램/NNG )/SW 도/JX 일평균/NNG 8000/SN 건/NNB 다운로드/NNG 된다/XSV+EF ./SW 비트코인/NNP 닷컴/NNP 은/JX 금융/NNG 서비스/NNG 의/JKG \\'/SW 질/NNG \\'/SW 을/JKO 높이/VV 는/ETM 데/NNB 집중/NNG 하/XSV 고/EC 있/VX 다/EF ./SW 암호/NNG 화폐/NNG 지갑/NNG 앱/NNG 을/JKO 통해/VV+EC 이용자/NNG 들/XSN 이/JKS 암호/NNG 화폐/NNG 수탁/NNG 서비스/NNG 등/NNB 보다/JKB 좋/VA 은/ETM 금융/NNG 관리/NNG 서비스/NNG 를/JKO 받/VV 을/ETM 수/NNB 있/VV 도록/EC 하/VX 겠/EP 다는/ETM 계획/NNG 이/VCP 다/EF ./SW 한경/NNP 닷컴/NNP 과/JC 인터뷰/NNG 중/NNB 인/VCP+ETM 스테판/NNP 러스트/NNP (/SW Stefan/OL Rust/OL )/SW 비트코인/NNP 닷컴/NNP 비즈니스/NNG 총괄/NNG 개발자/NNG 육성/NNG 에/JKB 도/JX 많/VA 은/ETM 공/NNG 을/JKO 들이/VV 고/EC 있/VX 다고/EC 귀띔/NNG 했/XSV+EP 다/EF ./SW 비트코인/NNP 캐시/NNG 의/JKG 블록체인/NNG 위/NNG 에서/JKB 작동/NNG 되/XSV 는/ETM 앱/NNG 들/XSN 을/JKO 육성/NNG 하/XSV 기/ETN 위해서/VV+EC+VCP 다/EF ./SW 비트코인/NNP 닷컴/NNP 은/JX 이/NP 를/JKO 위해/VV+EC 개발자/NNG 들/XSN 이/JKS 쓸/VV+ETM 수/NNB 있/VV 는/ETM 도구/NNG 모음/NNG (/SW Tool/OL Set/OL )/SW 을/JKO 만들/VV 었/EP 다/EF ./SW 스테판/NNP 총괄/NNG 은/JX \"/SW 우리/NP 는/JX 개발자/NNG 들/XSN 이/JKS 프로토콜/NNG 위/NNG 에서/JKB 앱/NNG 을/JKO 만들/VV 려/EC 할/VX+ETM 때/NNG 무엇/NP 을/JKO 원하/VV 는지/EC 알/VV 고/EC 있/VX 다/EC \"/SW 며/EC \"/SW 이제/MAG 개발자/NNG 들/XSN 이/JKS 비트코인/NNP 캐시/NNG 플랫폼/NNG 을/JKO 활용/NNG 해/XSV+EC 스마트/NNG 계약/NNG 이나/JC 토큰/NNG 을/JKO 쉽/VA 게/EC 만들/VV+ETM 수/NNB 있/VV 게/EC 됐/VV+EP 다/EC \"/SW 고/JKQ 의미/NNG 부여/NNG 했/XSV+EP 다/EF ./SW 비트코인/NNP 닷컴/NNP 은/JX 연내/NNG 블록체인/NNG 개발자/NNG 들/XSN 을/JKO 위한/VV+ETM 해커/NNG 톤/NNG 을/JKO 국내/NNG 에서/JKB 개최/NNG 할/XSV+ETM 계획/NNG ./SW 스테판/NNP 총괄/NNG 은/JX \"/SW 개발자/NNG 들/XSN 에게/JKB 비트코인/NNP 캐시/NNG 플랫폼/NNG 을/JKO 더/MAG 많이/MAG 알리/VV 자는/ETM 취지/NNG \"/SW 라며/VCP+EC \"/SW 한국/NNP 은/JX 세계/NNG 톱/NNG 5/SN 안/NNG 에/JKB 드/VV 는/ETM 암호/NNG 화폐/NNG 시장/NNG 이/VCP 고/EC 뛰어난/VA+ETM 개발자/NNG 들/XSN 이/JKS 많/VA 다/EF ./SW 우리/NP 는/JX 한국/NNP 과/JKB 함께/MAG 하/VV 고/EC 싶/VX 다/EC \"/SW 고/JKQ 말/NNG 했/XSV+EP 다/EF ./SW 비트코인/NNP 캐시/NNG 시세/NNG 는/JX 한경/NNP 닷컴/NNP 과/JC 인터뷰/NNG 한/XSA+ETM 당일/NNG 까지/JX 3/SN 일/NNB 간/NNG 무려/MAG 80/SN %/SW 넘/VV 게/EC 급등/NNG 했/XSV+EP 다/EF ./SW 그/NP 는/JX \"/SW 같/VA 은/ETM 기간/NNG 비트코인/NNP 이/JKS 약/MM 20/SN %/SW 오른/VV+ETM 것/NNB 에/JKB 비하/VV 면/EC 상승/NNG 폭/NNG 이/JKS 크/VA 지만/EC 우리/NP 는/JX 여전히/MAG 비트코인/NNP 캐시/NNG 가/JKS 상당히/MAG 평가/NNG 절하/NNG 돼/XSV+EC 있/VX 다고/EC 생각/NNG 한다/XSV+EF ./SW 사람/NNG 들/XSN 이/JKS 비트코인/NNP 캐시/NNG 를/JKO 진정/XR 한/XSA+ETM \\'/SW 결제/NNG 수단/NNG \\'/SW 으로/JKB 사용/NNG 하/XSV 길/ETN+JKO 원한다/VV+EC \"/SW 고/JKQ 역설/NNG 했/XSV+EP 다/EF ./SW 비트코인/NNP 캐시/NNG 의/JKG 다음/NNG 목표/NNG 는/JX 개/NNG 인간/NNG (/SW P/OL 2/SN P/OL )/SW 가치/NNG 전송/NNG 체계/NNG 의/JKG \\'/SW 표준/NNG \\'/SW 이/JKS 되/VV 는/ETM 것/NNB 이/VCP 라고/EC 했/VX+EP 다/EF ./SW 카카오톡/NNP 의/JKG 보이/NNG 스톡/NNG ,/SW 스카이프/NNP 등/NNB 에/JKB 사용/NNG 되/XSV 는/ETM 음성/NNG 인터넷/NNG 프로토콜/NNG (/SW VoIP/OL )/SW 을/JKO 사례/NNG 로/JKB 들/VV 었/EP 다/EF ./SW 예컨대/MAG 과거/NNG 엔/JKB+JX 국제/NNG 통화/NNG 를/JKO 하/VV 려면/EC 비싼/VA+ETM 돈/NNG 을/JKO 내/VV 고/EC 통신사/NNG 제공/NNG 유선/NNG 망/NNG 을/JKO 통해/VV+EC 전화/NNG 해야/XSV+EC 했/VX+EP 지만/EC ,/SW 이젠/MAG+JX 대부분/NNG 인터넷/NNG 전화/NNG 인/VCP+ETM VoIP/OL 를/JKO 활용/NNG 해/XSV+EC 아주/MAG 저렴/XR 한/XSA+ETM 비용/NNG 으로/JKB 빠르/VA 게/EC 통화/NNG 할/XSV+ETM 수/NNB 있/VV 게/EC 됐/VV+EP 다는/ETM 것/NNB 이/VCP 다/EF ./SW 스테판/NNP 총괄/NNG 은/JX \"/SW 전화/NNG 가/JKS VoIP/OL 로/JKB 발전/NNG 한/XSA+ETM 것/NNB 처럼/JKB 암호/NNG 화폐/NNG 도/JX 금융/NNG 이/JKS 일종/NNG 의/JKG \\'/SW 통화/NNG 인터넷/NNG 프로토콜/NNG (/SW Money/OL over/OL IP/OL )/SW \\'/SW 로/JKB 발전/NNG 한/XSA+ETM 형태/NNG \"/SW 라며/VCP+EC \"/SW 금전/NNG 적/XSN 인/VCP+ETM 가치/NNG 자체/NNG 를/JKO 인터넷/NNG 에/JKB 실/VV 어/EC 보낼/VV+ETM 수/NNB 있/VV 게/EC 됐/VV+EP 다/EF ./SW 다가올/VV+ETM 미래/NNG 에/JKB 는/JX 암호/NNG 화폐/NNG 가/JKS \\'/SW 미래/NNG 금융/NNG \\'/SW 그/MM 자체/NNG 가/JKS 될/VV+ETM 것/NNB \"/SW 이라고/JKQ 내다봤/VV+EP 다/EF ./SW 김산하/NNP 한경/NNP 닷컴/NNP 기자/NNG sanha/OL @/SW hankyung/OL ./SW com/OL 기사/NNG 제보/NNG 및/MAJ 보도/NNG 자료/NNG open/OL @/SW hankyung/OL ./SW com/OL [/SW 한경/NNP 닷컴/NNP 바로/MAG 가/VV 기/ETN ]/SW [/SW 모바일/NNP 한경/NNG 구독/NNG 신청/NNG ]/SW 네이버/NNP 에서/JKB 한국/NNP 경제/NNG 채널/NNG 구독/NNG 하/XSV 기/ETN </SW 자세히/MAG 보/VV 기/ETN >/SW ⓒ/SW 한국/NNP 경제/NNG &/SW hankyung/OL ./SW com/OL ,/SW 무단/NNG 전재/NNG 및/MAJ 재/XPN 배포/NNG 금지/NNG']"
      ]
     },
     "execution_count": 36,
     "metadata": {},
     "output_type": "execute_result"
    }
   ],
   "source": [
    "# TEANAPS 형태소 분석기를 불러옵니다.\n",
    "from teanaps.nlp import MorphologicalAnalyzer\n",
    "from teanaps.nlp import Processing\n",
    "\n",
    "ma = MorphologicalAnalyzer()\n",
    "ma.set_tagger(\"mecab\")\n",
    "processing = Processing()\n",
    "\n",
    "tokenized_sentence_list = []\n",
    "\n",
    "PATH = \"data/article_sample.txt\"\n",
    "POS_LIST = [\"NNG\", \"NNP\"]\n",
    "\n",
    "f = open(PATH, encoding=\"utf-8\")\n",
    "\n",
    "line_count = 0\n",
    "for line in f:\n",
    "    line_count += 1\n",
    "    print(line_count, end=\"\\r\")\n",
    "    line = line.strip()\n",
    "    col = line.split(\"\\t\")\n",
    "    label = col[0]\n",
    "    source = col[1]\n",
    "    datetime = col[2]\n",
    "    title = col[3]\n",
    "    content = col[4]\n",
    "    tagged_word_list = ma.parse(content)\n",
    "    tokenized_sentence = processing.get_plain_text(tagged_word_list)\n",
    "    tokenized_sentence_list.append(tokenized_sentence)\n",
    "f.close()\n",
    "\n",
    "tokenized_sentence_list[:3]"
   ]
  },
  {
   "cell_type": "markdown",
   "metadata": {},
   "source": [
    "### Assignment 04. 기사에서 가장 많이 쓰이는 명사 알아보기\n",
    "> - 본 자료를 응용하여 기사 속에서 가장 많이 출현하는 명사를 추출하는 코드를 작성합니다.\n",
    "> - 기사 속에 가장 많이 출현하는 상위 100개 명사를 출력합니다.\n",
    "> - 기사 텍스트는 \"data/article_sample.txt\" 파일을 활용합니다.\n",
    "\n",
    "---"
   ]
  },
  {
   "cell_type": "code",
   "execution_count": null,
   "metadata": {},
   "outputs": [],
   "source": [
    "f = open(\"data/novel_sample_en.txt\", encoding=\"utf-8\")\n",
    "#f = open(\"data/novel_sample_ko.txt\", encoding=\"utf-8\")\n",
    "#f = open(\"data/article_sample.txt\", encoding=\"utf-8\")\n",
    "\n",
    "word_count = {}\n",
    "line_number = 0\n",
    "\n",
    "for line in f:\n",
    "    line_number += 1\n",
    "    print(line_number, end=\"\\r\")\n",
    "    line = line.strip()\n",
    "    word_list = line.split(\" \")\n",
    "    for word in word_list:\n",
    "        word = word.strip()\n",
    "        if word != \"\":\n",
    "            if word in word_count.keys():\n",
    "                word_count[word] += 1\n",
    "            else:\n",
    "                word_count[word] = 1\n",
    "    \n",
    "f.close()"
   ]
  },
  {
   "cell_type": "code",
   "execution_count": null,
   "metadata": {},
   "outputs": [],
   "source": [
    "word_count_list = []\n",
    "\n",
    "for word, count in word_count.items():\n",
    "    word_count_list.append([word, count])\n",
    "\n",
    "word_count_list.sort(key=lambda elem: elem[1], reverse=True)\n",
    "\n",
    "for word, count in word_count_list[:100]:\n",
    "    print(word + \"\\t\" + str(count))"
   ]
  }
 ],
 "metadata": {
  "kernelspec": {
   "display_name": "Python 3",
   "language": "python",
   "name": "python3"
  },
  "language_info": {
   "codemirror_mode": {
    "name": "ipython",
    "version": 3
   },
   "file_extension": ".py",
   "mimetype": "text/x-python",
   "name": "python",
   "nbconvert_exporter": "python",
   "pygments_lexer": "ipython3",
   "version": "3.8.3"
  }
 },
 "nbformat": 4,
 "nbformat_minor": 2
}
